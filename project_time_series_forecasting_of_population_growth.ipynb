{
  "nbformat": 4,
  "nbformat_minor": 0,
  "metadata": {
    "colab": {
      "provenance": [],
      "toc_visible": true,
      "authorship_tag": "ABX9TyN3TThPrBeiSYNJP3ugPXp5",
      "include_colab_link": true
    },
    "kernelspec": {
      "name": "python3",
      "display_name": "Python 3"
    },
    "language_info": {
      "name": "python"
    }
  },
  "cells": [
    {
      "cell_type": "markdown",
      "metadata": {
        "id": "view-in-github",
        "colab_type": "text"
      },
      "source": [
        "<a href=\"https://colab.research.google.com/github/evelinnkiss/Time_Series_Forecasting_of_Population_Growth/blob/main/project_time_series_forecasting_of_population_growth.ipynb\" target=\"_parent\"><img src=\"https://colab.research.google.com/assets/colab-badge.svg\" alt=\"Open In Colab\"/></a>"
      ]
    },
    {
      "cell_type": "markdown",
      "source": [
        "# **Project: Time Series Forecasting of Population Growth**\n",
        "\n",
        "In this project, i will analyze historical population data and build a model to forecast future population growth. The dataset contains population estimates from 1960 to 2020, and i will use time series analysis to make predictions for the next 5 years.\n",
        "\n",
        "**Steps:**\n",
        "1. Data Import and Exploration\n",
        "2. Data Preprocessing and Cleaning\n",
        "3. Exploratory Data Analysis (EDA)\n",
        "4. Time Series Forecasting using Prophet\n",
        "5. Results and Conclusion\n",
        "\n",
        "**Source of datasets:**\n",
        "https://data.worldbank.org/indicator/SP.POP.TOTL?end=2020&start=1960&view=chart"
      ],
      "metadata": {
        "id": "OQj61GIv7_z5"
      }
    },
    {
      "cell_type": "code",
      "source": [
        "# Data manipulation and analysis\n",
        "import pandas as pd\n",
        "import numpy as np\n",
        "\n",
        "# Data visualization\n",
        "import matplotlib.pyplot as plt\n",
        "import seaborn as sns\n",
        "\n"
      ],
      "metadata": {
        "id": "izLfwUmJ8Ve2"
      },
      "execution_count": null,
      "outputs": []
    },
    {
      "cell_type": "code",
      "source": [
        "pd.set_option('display.max_columns', None)  # display all columns\n",
        "pd.set_option('display.width', 200)        # set the total display width\n",
        "\n"
      ],
      "metadata": {
        "id": "FamZnQi5ZdsY"
      },
      "execution_count": null,
      "outputs": []
    },
    {
      "cell_type": "markdown",
      "source": [
        "# **Step 1. Data Import and Exploration**\n"
      ],
      "metadata": {
        "id": "4DIpf89HA0TV"
      }
    },
    {
      "cell_type": "markdown",
      "source": [],
      "metadata": {
        "id": "RA46TiMW_m0J"
      }
    },
    {
      "cell_type": "code",
      "source": [
        "from google.colab import drive\n",
        "\n",
        "# Pripojenie k Google Drive\n",
        "drive.mount('/content/drive/')\n"
      ],
      "metadata": {
        "colab": {
          "base_uri": "https://localhost:8080/"
        },
        "id": "9zFq9UTw-SN8",
        "outputId": "a6bee57c-d8f2-41e1-94f2-de417e550696"
      },
      "execution_count": null,
      "outputs": [
        {
          "output_type": "stream",
          "name": "stdout",
          "text": [
            "Drive already mounted at /content/drive/; to attempt to forcibly remount, call drive.mount(\"/content/drive/\", force_remount=True).\n"
          ]
        }
      ]
    },
    {
      "cell_type": "code",
      "source": [
        "# import the chardet library\n",
        "import chardet\n",
        "\n",
        "# use the detect method to find the encoding\n",
        "# 'rb' means read in the file as binary\n",
        "with open(\"/content/drive/MyDrive/Time_Series_Analysis/world_pop_data.csv\", 'rb') as file:\n",
        "    print(chardet.detect(file.read()))\n",
        "with open(\"/content/drive/MyDrive/Time_Series_Analysis/metadata_country.csv\", 'rb') as file:\n",
        "    print(chardet.detect(file.read()))"
      ],
      "metadata": {
        "colab": {
          "base_uri": "https://localhost:8080/"
        },
        "id": "mHn48mgFB-M5",
        "outputId": "9ffb713e-40a3-47d3-91f6-4824690bfc03"
      },
      "execution_count": null,
      "outputs": [
        {
          "output_type": "stream",
          "name": "stdout",
          "text": [
            "{'encoding': 'ascii', 'confidence': 1.0, 'language': ''}\n",
            "{'encoding': 'utf-8', 'confidence': 0.99, 'language': ''}\n"
          ]
        }
      ]
    },
    {
      "cell_type": "code",
      "source": [
        "# for the first file (ASCII encoded)\n",
        "file1 = pd.read_csv('/content/drive/MyDrive/Time_Series_Analysis/world_pop_data.csv', encoding='ascii')\n",
        "\n",
        "# for the second file (UTF-8 encoded)\n",
        "file2 = pd.read_csv('/content/drive/MyDrive/Time_Series_Analysis/metadata_country.csv', encoding='utf-8')"
      ],
      "metadata": {
        "id": "MrDTPRsdCphI"
      },
      "execution_count": null,
      "outputs": []
    },
    {
      "cell_type": "code",
      "source": [
        "file1.info()"
      ],
      "metadata": {
        "colab": {
          "base_uri": "https://localhost:8080/"
        },
        "id": "MM_HaH-NFt4M",
        "outputId": "414d34c7-757b-4d9c-de65-106a01985d55",
        "collapsed": true
      },
      "execution_count": null,
      "outputs": [
        {
          "output_type": "stream",
          "name": "stdout",
          "text": [
            "<class 'pandas.core.frame.DataFrame'>\n",
            "RangeIndex: 266 entries, 0 to 265\n",
            "Data columns (total 64 columns):\n",
            " #   Column          Non-Null Count  Dtype  \n",
            "---  ------          --------------  -----  \n",
            " 0   Country Code    266 non-null    object \n",
            " 1   Indicator Name  266 non-null    object \n",
            " 2   Indicator Code  266 non-null    object \n",
            " 3   1960            264 non-null    float64\n",
            " 4   1961            264 non-null    float64\n",
            " 5   1962            264 non-null    float64\n",
            " 6   1963            264 non-null    float64\n",
            " 7   1964            264 non-null    float64\n",
            " 8   1965            264 non-null    float64\n",
            " 9   1966            264 non-null    float64\n",
            " 10  1967            264 non-null    float64\n",
            " 11  1968            264 non-null    float64\n",
            " 12  1969            264 non-null    float64\n",
            " 13  1970            264 non-null    float64\n",
            " 14  1971            264 non-null    float64\n",
            " 15  1972            264 non-null    float64\n",
            " 16  1973            264 non-null    float64\n",
            " 17  1974            264 non-null    float64\n",
            " 18  1975            264 non-null    float64\n",
            " 19  1976            264 non-null    float64\n",
            " 20  1977            264 non-null    float64\n",
            " 21  1978            264 non-null    float64\n",
            " 22  1979            264 non-null    float64\n",
            " 23  1980            264 non-null    float64\n",
            " 24  1981            264 non-null    float64\n",
            " 25  1982            264 non-null    float64\n",
            " 26  1983            264 non-null    float64\n",
            " 27  1984            264 non-null    float64\n",
            " 28  1985            264 non-null    float64\n",
            " 29  1986            264 non-null    float64\n",
            " 30  1987            264 non-null    float64\n",
            " 31  1988            264 non-null    float64\n",
            " 32  1989            264 non-null    float64\n",
            " 33  1990            265 non-null    float64\n",
            " 34  1991            265 non-null    float64\n",
            " 35  1992            264 non-null    float64\n",
            " 36  1993            264 non-null    float64\n",
            " 37  1994            264 non-null    float64\n",
            " 38  1995            265 non-null    float64\n",
            " 39  1996            265 non-null    float64\n",
            " 40  1997            265 non-null    float64\n",
            " 41  1998            265 non-null    float64\n",
            " 42  1999            265 non-null    float64\n",
            " 43  2000            265 non-null    float64\n",
            " 44  2001            265 non-null    float64\n",
            " 45  2002            265 non-null    float64\n",
            " 46  2003            265 non-null    float64\n",
            " 47  2004            265 non-null    float64\n",
            " 48  2005            265 non-null    float64\n",
            " 49  2006            265 non-null    float64\n",
            " 50  2007            265 non-null    float64\n",
            " 51  2008            265 non-null    float64\n",
            " 52  2009            265 non-null    float64\n",
            " 53  2010            265 non-null    float64\n",
            " 54  2011            265 non-null    float64\n",
            " 55  2012            264 non-null    float64\n",
            " 56  2013            264 non-null    float64\n",
            " 57  2014            264 non-null    float64\n",
            " 58  2015            264 non-null    float64\n",
            " 59  2016            264 non-null    float64\n",
            " 60  2017            264 non-null    float64\n",
            " 61  2018            264 non-null    float64\n",
            " 62  2019            264 non-null    float64\n",
            " 63  2020            264 non-null    float64\n",
            "dtypes: float64(61), object(3)\n",
            "memory usage: 133.1+ KB\n"
          ]
        }
      ]
    },
    {
      "cell_type": "code",
      "source": [
        "file1.describe()"
      ],
      "metadata": {
        "colab": {
          "base_uri": "https://localhost:8080/",
          "height": 320
        },
        "collapsed": true,
        "id": "4fLLuh355Zo8",
        "outputId": "d3656c28-38f9-499d-e0e1-d9d1b0d54870"
      },
      "execution_count": null,
      "outputs": [
        {
          "output_type": "execute_result",
          "data": {
            "text/plain": [
              "               1960          1961          1962          1963          1964          1965          1966          1967          1968          1969          1970          1971          1972  \\\n",
              "count  2.640000e+02  2.640000e+02  2.640000e+02  2.640000e+02  2.640000e+02  2.640000e+02  2.640000e+02  2.640000e+02  2.640000e+02  2.640000e+02  2.640000e+02  2.640000e+02  2.640000e+02   \n",
              "mean   1.173116e+08  1.188586e+08  1.209679e+08  1.235882e+08  1.262297e+08  1.289366e+08  1.317868e+08  1.346309e+08  1.375436e+08  1.405603e+08  1.436425e+08  1.468257e+08  1.499505e+08   \n",
              "std    3.705555e+08  3.749081e+08  3.814322e+08  3.899277e+08  3.984666e+08  4.072394e+08  4.165735e+08  4.258523e+08  4.353820e+08  4.452976e+08  4.554626e+08  4.659363e+08  4.761773e+08   \n",
              "min    2.833000e+03  3.077000e+03  3.367000e+03  3.703000e+03  4.063000e+03  4.460000e+03  4.675000e+03  4.922000e+03  5.194000e+03  5.461000e+03  5.707000e+03  5.770000e+03  5.786000e+03   \n",
              "25%    5.022802e+05  5.109642e+05  5.206540e+05  5.311622e+05  5.421252e+05  5.533362e+05  5.647475e+05  5.823645e+05  5.981078e+05  6.100030e+05  6.241900e+05  6.399775e+05  6.573225e+05   \n",
              "50%    3.718330e+06  3.826398e+06  3.929109e+06  4.015834e+06  4.124521e+06  4.242788e+06  4.326013e+06  4.387887e+06  4.474171e+06  4.550402e+06  4.572265e+06  4.632593e+06  4.761844e+06   \n",
              "75%    2.636053e+07  2.721235e+07  2.808607e+07  2.890669e+07  2.972333e+07  3.055227e+07  3.134845e+07  3.200449e+07  3.244145e+07  3.277149e+07  3.295186e+07  3.321815e+07  3.378017e+07   \n",
              "max    3.032156e+09  3.071596e+09  3.124561e+09  3.189656e+09  3.255146e+09  3.322047e+09  3.392098e+09  3.461620e+09  3.532783e+09  3.606554e+09  3.681976e+09  3.760517e+09  3.836901e+09   \n",
              "\n",
              "               1973          1974          1975          1976          1977          1978          1979          1980          1981          1982          1983          1984          1985  \\\n",
              "count  2.640000e+02  2.640000e+02  2.640000e+02  2.640000e+02  2.640000e+02  2.640000e+02  2.640000e+02  2.640000e+02  2.640000e+02  2.640000e+02  2.640000e+02  2.640000e+02  2.640000e+02   \n",
              "mean   1.530704e+08  1.561728e+08  1.592234e+08  1.622437e+08  1.652461e+08  1.683007e+08  1.714292e+08  1.745967e+08  1.778498e+08  1.812371e+08  1.846651e+08  1.880921e+08  1.915868e+08   \n",
              "std    4.863722e+08  4.964535e+08  5.062754e+08  5.159367e+08  5.254753e+08  5.351654e+08  5.450888e+08  5.551269e+08  5.654653e+08  5.763200e+08  5.873144e+08  5.982674e+08  6.094354e+08   \n",
              "min    5.819000e+03  5.903000e+03  6.064000e+03  6.319000e+03  6.650000e+03  7.018000e+03  7.357000e+03  7.631000e+03  7.825000e+03  7.951000e+03  8.041000e+03  8.110000e+03  8.211000e+03   \n",
              "25%    6.762058e+05  6.966062e+05  7.184478e+05  7.309252e+05  7.556548e+05  7.716348e+05  7.758742e+05  7.812968e+05  7.907865e+05  8.031138e+05  8.186730e+05  8.397362e+05  8.608990e+05   \n",
              "50%    4.893306e+06  5.008948e+06  5.077216e+06  5.152548e+06  5.291084e+06  5.389519e+06  5.588166e+06  5.723552e+06  5.854631e+06  5.988996e+06  6.144612e+06  6.304590e+06  6.467297e+06   \n",
              "75%    3.432460e+07  3.486253e+07  3.540002e+07  3.592085e+07  3.643676e+07  3.689097e+07  3.731142e+07  3.825539e+07  3.909241e+07  3.996207e+07  4.084201e+07  4.167266e+07  4.244111e+07   \n",
              "max    3.912984e+09  3.988487e+09  4.062507e+09  4.135432e+09  4.207786e+09  4.281339e+09  4.356778e+09  4.432964e+09  4.511164e+09  4.592387e+09  4.674330e+09  4.755997e+09  4.839177e+09   \n",
              "\n",
              "               1986          1987          1988          1989          1990          1991          1992          1993          1994          1995          1996          1997          1998  \\\n",
              "count  2.640000e+02  2.640000e+02  2.640000e+02  2.640000e+02  2.650000e+02  2.650000e+02  2.640000e+02  2.640000e+02  2.640000e+02  2.650000e+02  2.650000e+02  2.650000e+02  2.650000e+02   \n",
              "mean   1.951841e+08  1.988786e+08  2.026144e+08  2.063469e+08  2.093348e+08  2.130170e+08  2.174152e+08  2.210175e+08  2.245836e+08  2.272838e+08  2.307867e+08  2.342836e+08  2.377474e+08   \n",
              "std    6.209471e+08  6.327901e+08  6.447416e+08  6.566162e+08  6.673801e+08  6.789603e+08  6.913658e+08  7.025413e+08  7.136142e+08  7.233879e+08  7.342872e+08  7.451663e+08  7.559233e+08   \n",
              "min    8.341000e+03  8.481000e+03  8.637000e+03  8.787000e+03  8.910000e+03  9.014000e+03  9.110000e+03  9.194000e+03  9.259000e+03  9.298000e+03  9.317000e+03  9.328000e+03  9.332000e+03   \n",
              "25%    8.819105e+05  9.030340e+05  9.244025e+05  9.462650e+05  9.752650e+05  9.975220e+05  1.025695e+06  1.056501e+06  1.087250e+06  1.122457e+06  1.133996e+06  1.148284e+06  1.170061e+06   \n",
              "50%    6.550546e+06  6.754956e+06  6.934332e+06  7.062377e+06  7.133491e+06  7.178611e+06  7.307436e+06  7.388274e+06  7.531896e+06  7.622334e+06  7.682683e+06  7.838250e+06  7.913000e+06   \n",
              "75%    4.378934e+07  4.527216e+07  4.644815e+07  4.764748e+07  4.788786e+07  4.960998e+07  5.160529e+07  5.245829e+07  5.273630e+07  5.151280e+07  5.105780e+07  5.059460e+07  5.014450e+07   \n",
              "max    4.924748e+09  5.012556e+09  5.101288e+09  5.189977e+09  5.280046e+09  5.368139e+09  5.452576e+09  5.537886e+09  5.622086e+09  5.706754e+09  5.789656e+09  5.872287e+09  5.954006e+09   \n",
              "\n",
              "               1999          2000          2001          2002          2003          2004          2005          2006          2007          2008          2009          2010          2011  \\\n",
              "count  2.650000e+02  2.650000e+02  2.650000e+02  2.650000e+02  2.650000e+02  2.650000e+02  2.650000e+02  2.650000e+02  2.650000e+02  2.650000e+02  2.650000e+02  2.650000e+02  2.650000e+02   \n",
              "mean   2.411680e+08  2.445656e+08  2.479476e+08  2.513282e+08  2.547259e+08  2.581470e+08  2.615940e+08  2.650680e+08  2.685631e+08  2.721130e+08  2.756800e+08  2.792605e+08  2.828299e+08   \n",
              "std    7.664802e+08  7.768936e+08  7.871832e+08  7.973899e+08  8.075846e+08  8.177962e+08  8.280534e+08  8.383392e+08  8.486307e+08  8.590467e+08  8.695165e+08  8.800214e+08  8.905570e+08   \n",
              "min    9.344000e+03  9.392000e+03  9.478000e+03  9.593000e+03  9.724000e+03  9.871000e+03  9.848000e+03  9.827000e+03  9.846000e+03  9.880000e+03  9.945000e+03  1.000900e+04  1.006900e+04   \n",
              "25%    1.199058e+06  1.228359e+06  1.258008e+06  1.277210e+06  1.283564e+06  1.313492e+06  1.344931e+06  1.346810e+06  1.340680e+06  1.436670e+06  1.483920e+06  1.522603e+06  1.562996e+06   \n",
              "50%    8.053532e+06  8.170172e+06  8.231150e+06  8.427061e+06  8.557160e+06  8.680516e+06  8.840220e+06  9.043342e+06  9.148092e+06  9.219637e+06  9.298515e+06  9.490583e+06  9.473172e+06   \n",
              "75%    4.967400e+07  4.917650e+07  4.866240e+07  4.987167e+07  5.142558e+07  5.306887e+07  5.478589e+07  5.657805e+07  5.843831e+07  5.882673e+07  5.909536e+07  5.927742e+07  5.937945e+07   \n",
              "max    6.034492e+09  6.114333e+09  6.193672e+09  6.272753e+09  6.351882e+09  6.431552e+09  6.511748e+09  6.592735e+09  6.674204e+09  6.757021e+09  6.839574e+09  6.921877e+09  7.002881e+09   \n",
              "\n",
              "               2012          2013          2014          2015          2016          2017          2018          2019          2020  \n",
              "count  2.640000e+02  2.640000e+02  2.640000e+02  2.640000e+02  2.640000e+02  2.640000e+02  2.640000e+02  2.640000e+02  2.640000e+02  \n",
              "mean   2.875460e+08  2.912569e+08  2.950070e+08  2.987776e+08  3.025863e+08  3.063996e+08  3.101530e+08  3.138333e+08  3.174775e+08  \n",
              "std    9.027707e+08  9.135917e+08  9.245024e+08  9.354553e+08  9.465108e+08  9.575844e+08  9.684065e+08  9.789569e+08  9.893473e+08  \n",
              "min    1.013600e+04  1.020800e+04  1.028900e+04  1.037400e+04  1.047400e+04  1.057700e+04  1.067800e+04  1.076400e+04  1.083400e+04  \n",
              "25%    1.539939e+06  1.574621e+06  1.609909e+06  1.645868e+06  1.689616e+06  1.716772e+06  1.740174e+06  1.751950e+06  1.756929e+06  \n",
              "50%    9.824808e+06  9.948838e+06  1.001582e+07  1.022085e+07  1.036160e+07  1.040671e+07  1.045548e+07  1.047907e+07  1.052617e+07  \n",
              "75%    6.057984e+07  6.120753e+07  6.174243e+07  6.182699e+07  6.187352e+07  6.191725e+07  6.193141e+07  6.150589e+07  6.160448e+07  \n",
              "max    7.085790e+09  7.169675e+09  7.254293e+09  7.339077e+09  7.424485e+09  7.509410e+09  7.592476e+09  7.673345e+09  7.752841e+09  "
            ],
            "text/html": [
              "\n",
              "  <div id=\"df-3c0c4968-52ee-4271-91ba-a213bb9c60c6\" class=\"colab-df-container\">\n",
              "    <div>\n",
              "<style scoped>\n",
              "    .dataframe tbody tr th:only-of-type {\n",
              "        vertical-align: middle;\n",
              "    }\n",
              "\n",
              "    .dataframe tbody tr th {\n",
              "        vertical-align: top;\n",
              "    }\n",
              "\n",
              "    .dataframe thead th {\n",
              "        text-align: right;\n",
              "    }\n",
              "</style>\n",
              "<table border=\"1\" class=\"dataframe\">\n",
              "  <thead>\n",
              "    <tr style=\"text-align: right;\">\n",
              "      <th></th>\n",
              "      <th>1960</th>\n",
              "      <th>1961</th>\n",
              "      <th>1962</th>\n",
              "      <th>1963</th>\n",
              "      <th>1964</th>\n",
              "      <th>1965</th>\n",
              "      <th>1966</th>\n",
              "      <th>1967</th>\n",
              "      <th>1968</th>\n",
              "      <th>1969</th>\n",
              "      <th>1970</th>\n",
              "      <th>1971</th>\n",
              "      <th>1972</th>\n",
              "      <th>1973</th>\n",
              "      <th>1974</th>\n",
              "      <th>1975</th>\n",
              "      <th>1976</th>\n",
              "      <th>1977</th>\n",
              "      <th>1978</th>\n",
              "      <th>1979</th>\n",
              "      <th>1980</th>\n",
              "      <th>1981</th>\n",
              "      <th>1982</th>\n",
              "      <th>1983</th>\n",
              "      <th>1984</th>\n",
              "      <th>1985</th>\n",
              "      <th>1986</th>\n",
              "      <th>1987</th>\n",
              "      <th>1988</th>\n",
              "      <th>1989</th>\n",
              "      <th>1990</th>\n",
              "      <th>1991</th>\n",
              "      <th>1992</th>\n",
              "      <th>1993</th>\n",
              "      <th>1994</th>\n",
              "      <th>1995</th>\n",
              "      <th>1996</th>\n",
              "      <th>1997</th>\n",
              "      <th>1998</th>\n",
              "      <th>1999</th>\n",
              "      <th>2000</th>\n",
              "      <th>2001</th>\n",
              "      <th>2002</th>\n",
              "      <th>2003</th>\n",
              "      <th>2004</th>\n",
              "      <th>2005</th>\n",
              "      <th>2006</th>\n",
              "      <th>2007</th>\n",
              "      <th>2008</th>\n",
              "      <th>2009</th>\n",
              "      <th>2010</th>\n",
              "      <th>2011</th>\n",
              "      <th>2012</th>\n",
              "      <th>2013</th>\n",
              "      <th>2014</th>\n",
              "      <th>2015</th>\n",
              "      <th>2016</th>\n",
              "      <th>2017</th>\n",
              "      <th>2018</th>\n",
              "      <th>2019</th>\n",
              "      <th>2020</th>\n",
              "    </tr>\n",
              "  </thead>\n",
              "  <tbody>\n",
              "    <tr>\n",
              "      <th>count</th>\n",
              "      <td>2.640000e+02</td>\n",
              "      <td>2.640000e+02</td>\n",
              "      <td>2.640000e+02</td>\n",
              "      <td>2.640000e+02</td>\n",
              "      <td>2.640000e+02</td>\n",
              "      <td>2.640000e+02</td>\n",
              "      <td>2.640000e+02</td>\n",
              "      <td>2.640000e+02</td>\n",
              "      <td>2.640000e+02</td>\n",
              "      <td>2.640000e+02</td>\n",
              "      <td>2.640000e+02</td>\n",
              "      <td>2.640000e+02</td>\n",
              "      <td>2.640000e+02</td>\n",
              "      <td>2.640000e+02</td>\n",
              "      <td>2.640000e+02</td>\n",
              "      <td>2.640000e+02</td>\n",
              "      <td>2.640000e+02</td>\n",
              "      <td>2.640000e+02</td>\n",
              "      <td>2.640000e+02</td>\n",
              "      <td>2.640000e+02</td>\n",
              "      <td>2.640000e+02</td>\n",
              "      <td>2.640000e+02</td>\n",
              "      <td>2.640000e+02</td>\n",
              "      <td>2.640000e+02</td>\n",
              "      <td>2.640000e+02</td>\n",
              "      <td>2.640000e+02</td>\n",
              "      <td>2.640000e+02</td>\n",
              "      <td>2.640000e+02</td>\n",
              "      <td>2.640000e+02</td>\n",
              "      <td>2.640000e+02</td>\n",
              "      <td>2.650000e+02</td>\n",
              "      <td>2.650000e+02</td>\n",
              "      <td>2.640000e+02</td>\n",
              "      <td>2.640000e+02</td>\n",
              "      <td>2.640000e+02</td>\n",
              "      <td>2.650000e+02</td>\n",
              "      <td>2.650000e+02</td>\n",
              "      <td>2.650000e+02</td>\n",
              "      <td>2.650000e+02</td>\n",
              "      <td>2.650000e+02</td>\n",
              "      <td>2.650000e+02</td>\n",
              "      <td>2.650000e+02</td>\n",
              "      <td>2.650000e+02</td>\n",
              "      <td>2.650000e+02</td>\n",
              "      <td>2.650000e+02</td>\n",
              "      <td>2.650000e+02</td>\n",
              "      <td>2.650000e+02</td>\n",
              "      <td>2.650000e+02</td>\n",
              "      <td>2.650000e+02</td>\n",
              "      <td>2.650000e+02</td>\n",
              "      <td>2.650000e+02</td>\n",
              "      <td>2.650000e+02</td>\n",
              "      <td>2.640000e+02</td>\n",
              "      <td>2.640000e+02</td>\n",
              "      <td>2.640000e+02</td>\n",
              "      <td>2.640000e+02</td>\n",
              "      <td>2.640000e+02</td>\n",
              "      <td>2.640000e+02</td>\n",
              "      <td>2.640000e+02</td>\n",
              "      <td>2.640000e+02</td>\n",
              "      <td>2.640000e+02</td>\n",
              "    </tr>\n",
              "    <tr>\n",
              "      <th>mean</th>\n",
              "      <td>1.173116e+08</td>\n",
              "      <td>1.188586e+08</td>\n",
              "      <td>1.209679e+08</td>\n",
              "      <td>1.235882e+08</td>\n",
              "      <td>1.262297e+08</td>\n",
              "      <td>1.289366e+08</td>\n",
              "      <td>1.317868e+08</td>\n",
              "      <td>1.346309e+08</td>\n",
              "      <td>1.375436e+08</td>\n",
              "      <td>1.405603e+08</td>\n",
              "      <td>1.436425e+08</td>\n",
              "      <td>1.468257e+08</td>\n",
              "      <td>1.499505e+08</td>\n",
              "      <td>1.530704e+08</td>\n",
              "      <td>1.561728e+08</td>\n",
              "      <td>1.592234e+08</td>\n",
              "      <td>1.622437e+08</td>\n",
              "      <td>1.652461e+08</td>\n",
              "      <td>1.683007e+08</td>\n",
              "      <td>1.714292e+08</td>\n",
              "      <td>1.745967e+08</td>\n",
              "      <td>1.778498e+08</td>\n",
              "      <td>1.812371e+08</td>\n",
              "      <td>1.846651e+08</td>\n",
              "      <td>1.880921e+08</td>\n",
              "      <td>1.915868e+08</td>\n",
              "      <td>1.951841e+08</td>\n",
              "      <td>1.988786e+08</td>\n",
              "      <td>2.026144e+08</td>\n",
              "      <td>2.063469e+08</td>\n",
              "      <td>2.093348e+08</td>\n",
              "      <td>2.130170e+08</td>\n",
              "      <td>2.174152e+08</td>\n",
              "      <td>2.210175e+08</td>\n",
              "      <td>2.245836e+08</td>\n",
              "      <td>2.272838e+08</td>\n",
              "      <td>2.307867e+08</td>\n",
              "      <td>2.342836e+08</td>\n",
              "      <td>2.377474e+08</td>\n",
              "      <td>2.411680e+08</td>\n",
              "      <td>2.445656e+08</td>\n",
              "      <td>2.479476e+08</td>\n",
              "      <td>2.513282e+08</td>\n",
              "      <td>2.547259e+08</td>\n",
              "      <td>2.581470e+08</td>\n",
              "      <td>2.615940e+08</td>\n",
              "      <td>2.650680e+08</td>\n",
              "      <td>2.685631e+08</td>\n",
              "      <td>2.721130e+08</td>\n",
              "      <td>2.756800e+08</td>\n",
              "      <td>2.792605e+08</td>\n",
              "      <td>2.828299e+08</td>\n",
              "      <td>2.875460e+08</td>\n",
              "      <td>2.912569e+08</td>\n",
              "      <td>2.950070e+08</td>\n",
              "      <td>2.987776e+08</td>\n",
              "      <td>3.025863e+08</td>\n",
              "      <td>3.063996e+08</td>\n",
              "      <td>3.101530e+08</td>\n",
              "      <td>3.138333e+08</td>\n",
              "      <td>3.174775e+08</td>\n",
              "    </tr>\n",
              "    <tr>\n",
              "      <th>std</th>\n",
              "      <td>3.705555e+08</td>\n",
              "      <td>3.749081e+08</td>\n",
              "      <td>3.814322e+08</td>\n",
              "      <td>3.899277e+08</td>\n",
              "      <td>3.984666e+08</td>\n",
              "      <td>4.072394e+08</td>\n",
              "      <td>4.165735e+08</td>\n",
              "      <td>4.258523e+08</td>\n",
              "      <td>4.353820e+08</td>\n",
              "      <td>4.452976e+08</td>\n",
              "      <td>4.554626e+08</td>\n",
              "      <td>4.659363e+08</td>\n",
              "      <td>4.761773e+08</td>\n",
              "      <td>4.863722e+08</td>\n",
              "      <td>4.964535e+08</td>\n",
              "      <td>5.062754e+08</td>\n",
              "      <td>5.159367e+08</td>\n",
              "      <td>5.254753e+08</td>\n",
              "      <td>5.351654e+08</td>\n",
              "      <td>5.450888e+08</td>\n",
              "      <td>5.551269e+08</td>\n",
              "      <td>5.654653e+08</td>\n",
              "      <td>5.763200e+08</td>\n",
              "      <td>5.873144e+08</td>\n",
              "      <td>5.982674e+08</td>\n",
              "      <td>6.094354e+08</td>\n",
              "      <td>6.209471e+08</td>\n",
              "      <td>6.327901e+08</td>\n",
              "      <td>6.447416e+08</td>\n",
              "      <td>6.566162e+08</td>\n",
              "      <td>6.673801e+08</td>\n",
              "      <td>6.789603e+08</td>\n",
              "      <td>6.913658e+08</td>\n",
              "      <td>7.025413e+08</td>\n",
              "      <td>7.136142e+08</td>\n",
              "      <td>7.233879e+08</td>\n",
              "      <td>7.342872e+08</td>\n",
              "      <td>7.451663e+08</td>\n",
              "      <td>7.559233e+08</td>\n",
              "      <td>7.664802e+08</td>\n",
              "      <td>7.768936e+08</td>\n",
              "      <td>7.871832e+08</td>\n",
              "      <td>7.973899e+08</td>\n",
              "      <td>8.075846e+08</td>\n",
              "      <td>8.177962e+08</td>\n",
              "      <td>8.280534e+08</td>\n",
              "      <td>8.383392e+08</td>\n",
              "      <td>8.486307e+08</td>\n",
              "      <td>8.590467e+08</td>\n",
              "      <td>8.695165e+08</td>\n",
              "      <td>8.800214e+08</td>\n",
              "      <td>8.905570e+08</td>\n",
              "      <td>9.027707e+08</td>\n",
              "      <td>9.135917e+08</td>\n",
              "      <td>9.245024e+08</td>\n",
              "      <td>9.354553e+08</td>\n",
              "      <td>9.465108e+08</td>\n",
              "      <td>9.575844e+08</td>\n",
              "      <td>9.684065e+08</td>\n",
              "      <td>9.789569e+08</td>\n",
              "      <td>9.893473e+08</td>\n",
              "    </tr>\n",
              "    <tr>\n",
              "      <th>min</th>\n",
              "      <td>2.833000e+03</td>\n",
              "      <td>3.077000e+03</td>\n",
              "      <td>3.367000e+03</td>\n",
              "      <td>3.703000e+03</td>\n",
              "      <td>4.063000e+03</td>\n",
              "      <td>4.460000e+03</td>\n",
              "      <td>4.675000e+03</td>\n",
              "      <td>4.922000e+03</td>\n",
              "      <td>5.194000e+03</td>\n",
              "      <td>5.461000e+03</td>\n",
              "      <td>5.707000e+03</td>\n",
              "      <td>5.770000e+03</td>\n",
              "      <td>5.786000e+03</td>\n",
              "      <td>5.819000e+03</td>\n",
              "      <td>5.903000e+03</td>\n",
              "      <td>6.064000e+03</td>\n",
              "      <td>6.319000e+03</td>\n",
              "      <td>6.650000e+03</td>\n",
              "      <td>7.018000e+03</td>\n",
              "      <td>7.357000e+03</td>\n",
              "      <td>7.631000e+03</td>\n",
              "      <td>7.825000e+03</td>\n",
              "      <td>7.951000e+03</td>\n",
              "      <td>8.041000e+03</td>\n",
              "      <td>8.110000e+03</td>\n",
              "      <td>8.211000e+03</td>\n",
              "      <td>8.341000e+03</td>\n",
              "      <td>8.481000e+03</td>\n",
              "      <td>8.637000e+03</td>\n",
              "      <td>8.787000e+03</td>\n",
              "      <td>8.910000e+03</td>\n",
              "      <td>9.014000e+03</td>\n",
              "      <td>9.110000e+03</td>\n",
              "      <td>9.194000e+03</td>\n",
              "      <td>9.259000e+03</td>\n",
              "      <td>9.298000e+03</td>\n",
              "      <td>9.317000e+03</td>\n",
              "      <td>9.328000e+03</td>\n",
              "      <td>9.332000e+03</td>\n",
              "      <td>9.344000e+03</td>\n",
              "      <td>9.392000e+03</td>\n",
              "      <td>9.478000e+03</td>\n",
              "      <td>9.593000e+03</td>\n",
              "      <td>9.724000e+03</td>\n",
              "      <td>9.871000e+03</td>\n",
              "      <td>9.848000e+03</td>\n",
              "      <td>9.827000e+03</td>\n",
              "      <td>9.846000e+03</td>\n",
              "      <td>9.880000e+03</td>\n",
              "      <td>9.945000e+03</td>\n",
              "      <td>1.000900e+04</td>\n",
              "      <td>1.006900e+04</td>\n",
              "      <td>1.013600e+04</td>\n",
              "      <td>1.020800e+04</td>\n",
              "      <td>1.028900e+04</td>\n",
              "      <td>1.037400e+04</td>\n",
              "      <td>1.047400e+04</td>\n",
              "      <td>1.057700e+04</td>\n",
              "      <td>1.067800e+04</td>\n",
              "      <td>1.076400e+04</td>\n",
              "      <td>1.083400e+04</td>\n",
              "    </tr>\n",
              "    <tr>\n",
              "      <th>25%</th>\n",
              "      <td>5.022802e+05</td>\n",
              "      <td>5.109642e+05</td>\n",
              "      <td>5.206540e+05</td>\n",
              "      <td>5.311622e+05</td>\n",
              "      <td>5.421252e+05</td>\n",
              "      <td>5.533362e+05</td>\n",
              "      <td>5.647475e+05</td>\n",
              "      <td>5.823645e+05</td>\n",
              "      <td>5.981078e+05</td>\n",
              "      <td>6.100030e+05</td>\n",
              "      <td>6.241900e+05</td>\n",
              "      <td>6.399775e+05</td>\n",
              "      <td>6.573225e+05</td>\n",
              "      <td>6.762058e+05</td>\n",
              "      <td>6.966062e+05</td>\n",
              "      <td>7.184478e+05</td>\n",
              "      <td>7.309252e+05</td>\n",
              "      <td>7.556548e+05</td>\n",
              "      <td>7.716348e+05</td>\n",
              "      <td>7.758742e+05</td>\n",
              "      <td>7.812968e+05</td>\n",
              "      <td>7.907865e+05</td>\n",
              "      <td>8.031138e+05</td>\n",
              "      <td>8.186730e+05</td>\n",
              "      <td>8.397362e+05</td>\n",
              "      <td>8.608990e+05</td>\n",
              "      <td>8.819105e+05</td>\n",
              "      <td>9.030340e+05</td>\n",
              "      <td>9.244025e+05</td>\n",
              "      <td>9.462650e+05</td>\n",
              "      <td>9.752650e+05</td>\n",
              "      <td>9.975220e+05</td>\n",
              "      <td>1.025695e+06</td>\n",
              "      <td>1.056501e+06</td>\n",
              "      <td>1.087250e+06</td>\n",
              "      <td>1.122457e+06</td>\n",
              "      <td>1.133996e+06</td>\n",
              "      <td>1.148284e+06</td>\n",
              "      <td>1.170061e+06</td>\n",
              "      <td>1.199058e+06</td>\n",
              "      <td>1.228359e+06</td>\n",
              "      <td>1.258008e+06</td>\n",
              "      <td>1.277210e+06</td>\n",
              "      <td>1.283564e+06</td>\n",
              "      <td>1.313492e+06</td>\n",
              "      <td>1.344931e+06</td>\n",
              "      <td>1.346810e+06</td>\n",
              "      <td>1.340680e+06</td>\n",
              "      <td>1.436670e+06</td>\n",
              "      <td>1.483920e+06</td>\n",
              "      <td>1.522603e+06</td>\n",
              "      <td>1.562996e+06</td>\n",
              "      <td>1.539939e+06</td>\n",
              "      <td>1.574621e+06</td>\n",
              "      <td>1.609909e+06</td>\n",
              "      <td>1.645868e+06</td>\n",
              "      <td>1.689616e+06</td>\n",
              "      <td>1.716772e+06</td>\n",
              "      <td>1.740174e+06</td>\n",
              "      <td>1.751950e+06</td>\n",
              "      <td>1.756929e+06</td>\n",
              "    </tr>\n",
              "    <tr>\n",
              "      <th>50%</th>\n",
              "      <td>3.718330e+06</td>\n",
              "      <td>3.826398e+06</td>\n",
              "      <td>3.929109e+06</td>\n",
              "      <td>4.015834e+06</td>\n",
              "      <td>4.124521e+06</td>\n",
              "      <td>4.242788e+06</td>\n",
              "      <td>4.326013e+06</td>\n",
              "      <td>4.387887e+06</td>\n",
              "      <td>4.474171e+06</td>\n",
              "      <td>4.550402e+06</td>\n",
              "      <td>4.572265e+06</td>\n",
              "      <td>4.632593e+06</td>\n",
              "      <td>4.761844e+06</td>\n",
              "      <td>4.893306e+06</td>\n",
              "      <td>5.008948e+06</td>\n",
              "      <td>5.077216e+06</td>\n",
              "      <td>5.152548e+06</td>\n",
              "      <td>5.291084e+06</td>\n",
              "      <td>5.389519e+06</td>\n",
              "      <td>5.588166e+06</td>\n",
              "      <td>5.723552e+06</td>\n",
              "      <td>5.854631e+06</td>\n",
              "      <td>5.988996e+06</td>\n",
              "      <td>6.144612e+06</td>\n",
              "      <td>6.304590e+06</td>\n",
              "      <td>6.467297e+06</td>\n",
              "      <td>6.550546e+06</td>\n",
              "      <td>6.754956e+06</td>\n",
              "      <td>6.934332e+06</td>\n",
              "      <td>7.062377e+06</td>\n",
              "      <td>7.133491e+06</td>\n",
              "      <td>7.178611e+06</td>\n",
              "      <td>7.307436e+06</td>\n",
              "      <td>7.388274e+06</td>\n",
              "      <td>7.531896e+06</td>\n",
              "      <td>7.622334e+06</td>\n",
              "      <td>7.682683e+06</td>\n",
              "      <td>7.838250e+06</td>\n",
              "      <td>7.913000e+06</td>\n",
              "      <td>8.053532e+06</td>\n",
              "      <td>8.170172e+06</td>\n",
              "      <td>8.231150e+06</td>\n",
              "      <td>8.427061e+06</td>\n",
              "      <td>8.557160e+06</td>\n",
              "      <td>8.680516e+06</td>\n",
              "      <td>8.840220e+06</td>\n",
              "      <td>9.043342e+06</td>\n",
              "      <td>9.148092e+06</td>\n",
              "      <td>9.219637e+06</td>\n",
              "      <td>9.298515e+06</td>\n",
              "      <td>9.490583e+06</td>\n",
              "      <td>9.473172e+06</td>\n",
              "      <td>9.824808e+06</td>\n",
              "      <td>9.948838e+06</td>\n",
              "      <td>1.001582e+07</td>\n",
              "      <td>1.022085e+07</td>\n",
              "      <td>1.036160e+07</td>\n",
              "      <td>1.040671e+07</td>\n",
              "      <td>1.045548e+07</td>\n",
              "      <td>1.047907e+07</td>\n",
              "      <td>1.052617e+07</td>\n",
              "    </tr>\n",
              "    <tr>\n",
              "      <th>75%</th>\n",
              "      <td>2.636053e+07</td>\n",
              "      <td>2.721235e+07</td>\n",
              "      <td>2.808607e+07</td>\n",
              "      <td>2.890669e+07</td>\n",
              "      <td>2.972333e+07</td>\n",
              "      <td>3.055227e+07</td>\n",
              "      <td>3.134845e+07</td>\n",
              "      <td>3.200449e+07</td>\n",
              "      <td>3.244145e+07</td>\n",
              "      <td>3.277149e+07</td>\n",
              "      <td>3.295186e+07</td>\n",
              "      <td>3.321815e+07</td>\n",
              "      <td>3.378017e+07</td>\n",
              "      <td>3.432460e+07</td>\n",
              "      <td>3.486253e+07</td>\n",
              "      <td>3.540002e+07</td>\n",
              "      <td>3.592085e+07</td>\n",
              "      <td>3.643676e+07</td>\n",
              "      <td>3.689097e+07</td>\n",
              "      <td>3.731142e+07</td>\n",
              "      <td>3.825539e+07</td>\n",
              "      <td>3.909241e+07</td>\n",
              "      <td>3.996207e+07</td>\n",
              "      <td>4.084201e+07</td>\n",
              "      <td>4.167266e+07</td>\n",
              "      <td>4.244111e+07</td>\n",
              "      <td>4.378934e+07</td>\n",
              "      <td>4.527216e+07</td>\n",
              "      <td>4.644815e+07</td>\n",
              "      <td>4.764748e+07</td>\n",
              "      <td>4.788786e+07</td>\n",
              "      <td>4.960998e+07</td>\n",
              "      <td>5.160529e+07</td>\n",
              "      <td>5.245829e+07</td>\n",
              "      <td>5.273630e+07</td>\n",
              "      <td>5.151280e+07</td>\n",
              "      <td>5.105780e+07</td>\n",
              "      <td>5.059460e+07</td>\n",
              "      <td>5.014450e+07</td>\n",
              "      <td>4.967400e+07</td>\n",
              "      <td>4.917650e+07</td>\n",
              "      <td>4.866240e+07</td>\n",
              "      <td>4.987167e+07</td>\n",
              "      <td>5.142558e+07</td>\n",
              "      <td>5.306887e+07</td>\n",
              "      <td>5.478589e+07</td>\n",
              "      <td>5.657805e+07</td>\n",
              "      <td>5.843831e+07</td>\n",
              "      <td>5.882673e+07</td>\n",
              "      <td>5.909536e+07</td>\n",
              "      <td>5.927742e+07</td>\n",
              "      <td>5.937945e+07</td>\n",
              "      <td>6.057984e+07</td>\n",
              "      <td>6.120753e+07</td>\n",
              "      <td>6.174243e+07</td>\n",
              "      <td>6.182699e+07</td>\n",
              "      <td>6.187352e+07</td>\n",
              "      <td>6.191725e+07</td>\n",
              "      <td>6.193141e+07</td>\n",
              "      <td>6.150589e+07</td>\n",
              "      <td>6.160448e+07</td>\n",
              "    </tr>\n",
              "    <tr>\n",
              "      <th>max</th>\n",
              "      <td>3.032156e+09</td>\n",
              "      <td>3.071596e+09</td>\n",
              "      <td>3.124561e+09</td>\n",
              "      <td>3.189656e+09</td>\n",
              "      <td>3.255146e+09</td>\n",
              "      <td>3.322047e+09</td>\n",
              "      <td>3.392098e+09</td>\n",
              "      <td>3.461620e+09</td>\n",
              "      <td>3.532783e+09</td>\n",
              "      <td>3.606554e+09</td>\n",
              "      <td>3.681976e+09</td>\n",
              "      <td>3.760517e+09</td>\n",
              "      <td>3.836901e+09</td>\n",
              "      <td>3.912984e+09</td>\n",
              "      <td>3.988487e+09</td>\n",
              "      <td>4.062507e+09</td>\n",
              "      <td>4.135432e+09</td>\n",
              "      <td>4.207786e+09</td>\n",
              "      <td>4.281339e+09</td>\n",
              "      <td>4.356778e+09</td>\n",
              "      <td>4.432964e+09</td>\n",
              "      <td>4.511164e+09</td>\n",
              "      <td>4.592387e+09</td>\n",
              "      <td>4.674330e+09</td>\n",
              "      <td>4.755997e+09</td>\n",
              "      <td>4.839177e+09</td>\n",
              "      <td>4.924748e+09</td>\n",
              "      <td>5.012556e+09</td>\n",
              "      <td>5.101288e+09</td>\n",
              "      <td>5.189977e+09</td>\n",
              "      <td>5.280046e+09</td>\n",
              "      <td>5.368139e+09</td>\n",
              "      <td>5.452576e+09</td>\n",
              "      <td>5.537886e+09</td>\n",
              "      <td>5.622086e+09</td>\n",
              "      <td>5.706754e+09</td>\n",
              "      <td>5.789656e+09</td>\n",
              "      <td>5.872287e+09</td>\n",
              "      <td>5.954006e+09</td>\n",
              "      <td>6.034492e+09</td>\n",
              "      <td>6.114333e+09</td>\n",
              "      <td>6.193672e+09</td>\n",
              "      <td>6.272753e+09</td>\n",
              "      <td>6.351882e+09</td>\n",
              "      <td>6.431552e+09</td>\n",
              "      <td>6.511748e+09</td>\n",
              "      <td>6.592735e+09</td>\n",
              "      <td>6.674204e+09</td>\n",
              "      <td>6.757021e+09</td>\n",
              "      <td>6.839574e+09</td>\n",
              "      <td>6.921877e+09</td>\n",
              "      <td>7.002881e+09</td>\n",
              "      <td>7.085790e+09</td>\n",
              "      <td>7.169675e+09</td>\n",
              "      <td>7.254293e+09</td>\n",
              "      <td>7.339077e+09</td>\n",
              "      <td>7.424485e+09</td>\n",
              "      <td>7.509410e+09</td>\n",
              "      <td>7.592476e+09</td>\n",
              "      <td>7.673345e+09</td>\n",
              "      <td>7.752841e+09</td>\n",
              "    </tr>\n",
              "  </tbody>\n",
              "</table>\n",
              "</div>\n",
              "    <div class=\"colab-df-buttons\">\n",
              "\n",
              "  <div class=\"colab-df-container\">\n",
              "    <button class=\"colab-df-convert\" onclick=\"convertToInteractive('df-3c0c4968-52ee-4271-91ba-a213bb9c60c6')\"\n",
              "            title=\"Convert this dataframe to an interactive table.\"\n",
              "            style=\"display:none;\">\n",
              "\n",
              "  <svg xmlns=\"http://www.w3.org/2000/svg\" height=\"24px\" viewBox=\"0 -960 960 960\">\n",
              "    <path d=\"M120-120v-720h720v720H120Zm60-500h600v-160H180v160Zm220 220h160v-160H400v160Zm0 220h160v-160H400v160ZM180-400h160v-160H180v160Zm440 0h160v-160H620v160ZM180-180h160v-160H180v160Zm440 0h160v-160H620v160Z\"/>\n",
              "  </svg>\n",
              "    </button>\n",
              "\n",
              "  <style>\n",
              "    .colab-df-container {\n",
              "      display:flex;\n",
              "      gap: 12px;\n",
              "    }\n",
              "\n",
              "    .colab-df-convert {\n",
              "      background-color: #E8F0FE;\n",
              "      border: none;\n",
              "      border-radius: 50%;\n",
              "      cursor: pointer;\n",
              "      display: none;\n",
              "      fill: #1967D2;\n",
              "      height: 32px;\n",
              "      padding: 0 0 0 0;\n",
              "      width: 32px;\n",
              "    }\n",
              "\n",
              "    .colab-df-convert:hover {\n",
              "      background-color: #E2EBFA;\n",
              "      box-shadow: 0px 1px 2px rgba(60, 64, 67, 0.3), 0px 1px 3px 1px rgba(60, 64, 67, 0.15);\n",
              "      fill: #174EA6;\n",
              "    }\n",
              "\n",
              "    .colab-df-buttons div {\n",
              "      margin-bottom: 4px;\n",
              "    }\n",
              "\n",
              "    [theme=dark] .colab-df-convert {\n",
              "      background-color: #3B4455;\n",
              "      fill: #D2E3FC;\n",
              "    }\n",
              "\n",
              "    [theme=dark] .colab-df-convert:hover {\n",
              "      background-color: #434B5C;\n",
              "      box-shadow: 0px 1px 3px 1px rgba(0, 0, 0, 0.15);\n",
              "      filter: drop-shadow(0px 1px 2px rgba(0, 0, 0, 0.3));\n",
              "      fill: #FFFFFF;\n",
              "    }\n",
              "  </style>\n",
              "\n",
              "    <script>\n",
              "      const buttonEl =\n",
              "        document.querySelector('#df-3c0c4968-52ee-4271-91ba-a213bb9c60c6 button.colab-df-convert');\n",
              "      buttonEl.style.display =\n",
              "        google.colab.kernel.accessAllowed ? 'block' : 'none';\n",
              "\n",
              "      async function convertToInteractive(key) {\n",
              "        const element = document.querySelector('#df-3c0c4968-52ee-4271-91ba-a213bb9c60c6');\n",
              "        const dataTable =\n",
              "          await google.colab.kernel.invokeFunction('convertToInteractive',\n",
              "                                                    [key], {});\n",
              "        if (!dataTable) return;\n",
              "\n",
              "        const docLinkHtml = 'Like what you see? Visit the ' +\n",
              "          '<a target=\"_blank\" href=https://colab.research.google.com/notebooks/data_table.ipynb>data table notebook</a>'\n",
              "          + ' to learn more about interactive tables.';\n",
              "        element.innerHTML = '';\n",
              "        dataTable['output_type'] = 'display_data';\n",
              "        await google.colab.output.renderOutput(dataTable, element);\n",
              "        const docLink = document.createElement('div');\n",
              "        docLink.innerHTML = docLinkHtml;\n",
              "        element.appendChild(docLink);\n",
              "      }\n",
              "    </script>\n",
              "  </div>\n",
              "\n",
              "\n",
              "<div id=\"df-5092aea1-99b5-4195-b7a7-9be2ef662ade\">\n",
              "  <button class=\"colab-df-quickchart\" onclick=\"quickchart('df-5092aea1-99b5-4195-b7a7-9be2ef662ade')\"\n",
              "            title=\"Suggest charts\"\n",
              "            style=\"display:none;\">\n",
              "\n",
              "<svg xmlns=\"http://www.w3.org/2000/svg\" height=\"24px\"viewBox=\"0 0 24 24\"\n",
              "     width=\"24px\">\n",
              "    <g>\n",
              "        <path d=\"M19 3H5c-1.1 0-2 .9-2 2v14c0 1.1.9 2 2 2h14c1.1 0 2-.9 2-2V5c0-1.1-.9-2-2-2zM9 17H7v-7h2v7zm4 0h-2V7h2v10zm4 0h-2v-4h2v4z\"/>\n",
              "    </g>\n",
              "</svg>\n",
              "  </button>\n",
              "\n",
              "<style>\n",
              "  .colab-df-quickchart {\n",
              "      --bg-color: #E8F0FE;\n",
              "      --fill-color: #1967D2;\n",
              "      --hover-bg-color: #E2EBFA;\n",
              "      --hover-fill-color: #174EA6;\n",
              "      --disabled-fill-color: #AAA;\n",
              "      --disabled-bg-color: #DDD;\n",
              "  }\n",
              "\n",
              "  [theme=dark] .colab-df-quickchart {\n",
              "      --bg-color: #3B4455;\n",
              "      --fill-color: #D2E3FC;\n",
              "      --hover-bg-color: #434B5C;\n",
              "      --hover-fill-color: #FFFFFF;\n",
              "      --disabled-bg-color: #3B4455;\n",
              "      --disabled-fill-color: #666;\n",
              "  }\n",
              "\n",
              "  .colab-df-quickchart {\n",
              "    background-color: var(--bg-color);\n",
              "    border: none;\n",
              "    border-radius: 50%;\n",
              "    cursor: pointer;\n",
              "    display: none;\n",
              "    fill: var(--fill-color);\n",
              "    height: 32px;\n",
              "    padding: 0;\n",
              "    width: 32px;\n",
              "  }\n",
              "\n",
              "  .colab-df-quickchart:hover {\n",
              "    background-color: var(--hover-bg-color);\n",
              "    box-shadow: 0 1px 2px rgba(60, 64, 67, 0.3), 0 1px 3px 1px rgba(60, 64, 67, 0.15);\n",
              "    fill: var(--button-hover-fill-color);\n",
              "  }\n",
              "\n",
              "  .colab-df-quickchart-complete:disabled,\n",
              "  .colab-df-quickchart-complete:disabled:hover {\n",
              "    background-color: var(--disabled-bg-color);\n",
              "    fill: var(--disabled-fill-color);\n",
              "    box-shadow: none;\n",
              "  }\n",
              "\n",
              "  .colab-df-spinner {\n",
              "    border: 2px solid var(--fill-color);\n",
              "    border-color: transparent;\n",
              "    border-bottom-color: var(--fill-color);\n",
              "    animation:\n",
              "      spin 1s steps(1) infinite;\n",
              "  }\n",
              "\n",
              "  @keyframes spin {\n",
              "    0% {\n",
              "      border-color: transparent;\n",
              "      border-bottom-color: var(--fill-color);\n",
              "      border-left-color: var(--fill-color);\n",
              "    }\n",
              "    20% {\n",
              "      border-color: transparent;\n",
              "      border-left-color: var(--fill-color);\n",
              "      border-top-color: var(--fill-color);\n",
              "    }\n",
              "    30% {\n",
              "      border-color: transparent;\n",
              "      border-left-color: var(--fill-color);\n",
              "      border-top-color: var(--fill-color);\n",
              "      border-right-color: var(--fill-color);\n",
              "    }\n",
              "    40% {\n",
              "      border-color: transparent;\n",
              "      border-right-color: var(--fill-color);\n",
              "      border-top-color: var(--fill-color);\n",
              "    }\n",
              "    60% {\n",
              "      border-color: transparent;\n",
              "      border-right-color: var(--fill-color);\n",
              "    }\n",
              "    80% {\n",
              "      border-color: transparent;\n",
              "      border-right-color: var(--fill-color);\n",
              "      border-bottom-color: var(--fill-color);\n",
              "    }\n",
              "    90% {\n",
              "      border-color: transparent;\n",
              "      border-bottom-color: var(--fill-color);\n",
              "    }\n",
              "  }\n",
              "</style>\n",
              "\n",
              "  <script>\n",
              "    async function quickchart(key) {\n",
              "      const quickchartButtonEl =\n",
              "        document.querySelector('#' + key + ' button');\n",
              "      quickchartButtonEl.disabled = true;  // To prevent multiple clicks.\n",
              "      quickchartButtonEl.classList.add('colab-df-spinner');\n",
              "      try {\n",
              "        const charts = await google.colab.kernel.invokeFunction(\n",
              "            'suggestCharts', [key], {});\n",
              "      } catch (error) {\n",
              "        console.error('Error during call to suggestCharts:', error);\n",
              "      }\n",
              "      quickchartButtonEl.classList.remove('colab-df-spinner');\n",
              "      quickchartButtonEl.classList.add('colab-df-quickchart-complete');\n",
              "    }\n",
              "    (() => {\n",
              "      let quickchartButtonEl =\n",
              "        document.querySelector('#df-5092aea1-99b5-4195-b7a7-9be2ef662ade button');\n",
              "      quickchartButtonEl.style.display =\n",
              "        google.colab.kernel.accessAllowed ? 'block' : 'none';\n",
              "    })();\n",
              "  </script>\n",
              "</div>\n",
              "\n",
              "    </div>\n",
              "  </div>\n"
            ],
            "application/vnd.google.colaboratory.intrinsic+json": {
              "type": "dataframe"
            }
          },
          "metadata": {},
          "execution_count": 7
        }
      ]
    },
    {
      "cell_type": "code",
      "source": [
        "file2.info()"
      ],
      "metadata": {
        "colab": {
          "base_uri": "https://localhost:8080/"
        },
        "id": "IKgxjllHF3Ud",
        "outputId": "1996cf3a-04a9-4353-97d2-ae38b9f67457"
      },
      "execution_count": null,
      "outputs": [
        {
          "output_type": "stream",
          "name": "stdout",
          "text": [
            "<class 'pandas.core.frame.DataFrame'>\n",
            "RangeIndex: 265 entries, 0 to 264\n",
            "Data columns (total 5 columns):\n",
            " #   Column        Non-Null Count  Dtype \n",
            "---  ------        --------------  ----- \n",
            " 0   Country Code  265 non-null    object\n",
            " 1   Region        217 non-null    object\n",
            " 2   IncomeGroup   216 non-null    object\n",
            " 3   SpecialNotes  98 non-null     object\n",
            " 4   TableName     265 non-null    object\n",
            "dtypes: object(5)\n",
            "memory usage: 10.5+ KB\n"
          ]
        }
      ]
    },
    {
      "cell_type": "code",
      "source": [
        "file2.describe()"
      ],
      "metadata": {
        "colab": {
          "base_uri": "https://localhost:8080/",
          "height": 175
        },
        "id": "jM5pbPaz5ivS",
        "outputId": "8d408dcf-2cdb-4d1a-d503-607b32d878f2"
      },
      "execution_count": null,
      "outputs": [
        {
          "output_type": "execute_result",
          "data": {
            "text/plain": [
              "       Country Code                 Region  IncomeGroup                                       SpecialNotes TableName\n",
              "count           265                    217          216                                                 98       265\n",
              "unique          265                      7            4                                                 81       265\n",
              "top             ABW  Europe & Central Asia  High income  Fiscal year end: June 30; reporting period for...     Aruba\n",
              "freq              1                     58           79                                                  8         1"
            ],
            "text/html": [
              "\n",
              "  <div id=\"df-21d68968-de5f-4bd0-87d8-4ae76ac91b58\" class=\"colab-df-container\">\n",
              "    <div>\n",
              "<style scoped>\n",
              "    .dataframe tbody tr th:only-of-type {\n",
              "        vertical-align: middle;\n",
              "    }\n",
              "\n",
              "    .dataframe tbody tr th {\n",
              "        vertical-align: top;\n",
              "    }\n",
              "\n",
              "    .dataframe thead th {\n",
              "        text-align: right;\n",
              "    }\n",
              "</style>\n",
              "<table border=\"1\" class=\"dataframe\">\n",
              "  <thead>\n",
              "    <tr style=\"text-align: right;\">\n",
              "      <th></th>\n",
              "      <th>Country Code</th>\n",
              "      <th>Region</th>\n",
              "      <th>IncomeGroup</th>\n",
              "      <th>SpecialNotes</th>\n",
              "      <th>TableName</th>\n",
              "    </tr>\n",
              "  </thead>\n",
              "  <tbody>\n",
              "    <tr>\n",
              "      <th>count</th>\n",
              "      <td>265</td>\n",
              "      <td>217</td>\n",
              "      <td>216</td>\n",
              "      <td>98</td>\n",
              "      <td>265</td>\n",
              "    </tr>\n",
              "    <tr>\n",
              "      <th>unique</th>\n",
              "      <td>265</td>\n",
              "      <td>7</td>\n",
              "      <td>4</td>\n",
              "      <td>81</td>\n",
              "      <td>265</td>\n",
              "    </tr>\n",
              "    <tr>\n",
              "      <th>top</th>\n",
              "      <td>ABW</td>\n",
              "      <td>Europe &amp; Central Asia</td>\n",
              "      <td>High income</td>\n",
              "      <td>Fiscal year end: June 30; reporting period for...</td>\n",
              "      <td>Aruba</td>\n",
              "    </tr>\n",
              "    <tr>\n",
              "      <th>freq</th>\n",
              "      <td>1</td>\n",
              "      <td>58</td>\n",
              "      <td>79</td>\n",
              "      <td>8</td>\n",
              "      <td>1</td>\n",
              "    </tr>\n",
              "  </tbody>\n",
              "</table>\n",
              "</div>\n",
              "    <div class=\"colab-df-buttons\">\n",
              "\n",
              "  <div class=\"colab-df-container\">\n",
              "    <button class=\"colab-df-convert\" onclick=\"convertToInteractive('df-21d68968-de5f-4bd0-87d8-4ae76ac91b58')\"\n",
              "            title=\"Convert this dataframe to an interactive table.\"\n",
              "            style=\"display:none;\">\n",
              "\n",
              "  <svg xmlns=\"http://www.w3.org/2000/svg\" height=\"24px\" viewBox=\"0 -960 960 960\">\n",
              "    <path d=\"M120-120v-720h720v720H120Zm60-500h600v-160H180v160Zm220 220h160v-160H400v160Zm0 220h160v-160H400v160ZM180-400h160v-160H180v160Zm440 0h160v-160H620v160ZM180-180h160v-160H180v160Zm440 0h160v-160H620v160Z\"/>\n",
              "  </svg>\n",
              "    </button>\n",
              "\n",
              "  <style>\n",
              "    .colab-df-container {\n",
              "      display:flex;\n",
              "      gap: 12px;\n",
              "    }\n",
              "\n",
              "    .colab-df-convert {\n",
              "      background-color: #E8F0FE;\n",
              "      border: none;\n",
              "      border-radius: 50%;\n",
              "      cursor: pointer;\n",
              "      display: none;\n",
              "      fill: #1967D2;\n",
              "      height: 32px;\n",
              "      padding: 0 0 0 0;\n",
              "      width: 32px;\n",
              "    }\n",
              "\n",
              "    .colab-df-convert:hover {\n",
              "      background-color: #E2EBFA;\n",
              "      box-shadow: 0px 1px 2px rgba(60, 64, 67, 0.3), 0px 1px 3px 1px rgba(60, 64, 67, 0.15);\n",
              "      fill: #174EA6;\n",
              "    }\n",
              "\n",
              "    .colab-df-buttons div {\n",
              "      margin-bottom: 4px;\n",
              "    }\n",
              "\n",
              "    [theme=dark] .colab-df-convert {\n",
              "      background-color: #3B4455;\n",
              "      fill: #D2E3FC;\n",
              "    }\n",
              "\n",
              "    [theme=dark] .colab-df-convert:hover {\n",
              "      background-color: #434B5C;\n",
              "      box-shadow: 0px 1px 3px 1px rgba(0, 0, 0, 0.15);\n",
              "      filter: drop-shadow(0px 1px 2px rgba(0, 0, 0, 0.3));\n",
              "      fill: #FFFFFF;\n",
              "    }\n",
              "  </style>\n",
              "\n",
              "    <script>\n",
              "      const buttonEl =\n",
              "        document.querySelector('#df-21d68968-de5f-4bd0-87d8-4ae76ac91b58 button.colab-df-convert');\n",
              "      buttonEl.style.display =\n",
              "        google.colab.kernel.accessAllowed ? 'block' : 'none';\n",
              "\n",
              "      async function convertToInteractive(key) {\n",
              "        const element = document.querySelector('#df-21d68968-de5f-4bd0-87d8-4ae76ac91b58');\n",
              "        const dataTable =\n",
              "          await google.colab.kernel.invokeFunction('convertToInteractive',\n",
              "                                                    [key], {});\n",
              "        if (!dataTable) return;\n",
              "\n",
              "        const docLinkHtml = 'Like what you see? Visit the ' +\n",
              "          '<a target=\"_blank\" href=https://colab.research.google.com/notebooks/data_table.ipynb>data table notebook</a>'\n",
              "          + ' to learn more about interactive tables.';\n",
              "        element.innerHTML = '';\n",
              "        dataTable['output_type'] = 'display_data';\n",
              "        await google.colab.output.renderOutput(dataTable, element);\n",
              "        const docLink = document.createElement('div');\n",
              "        docLink.innerHTML = docLinkHtml;\n",
              "        element.appendChild(docLink);\n",
              "      }\n",
              "    </script>\n",
              "  </div>\n",
              "\n",
              "\n",
              "<div id=\"df-2c194dba-1eec-4d61-8d50-711c4a3fa7ea\">\n",
              "  <button class=\"colab-df-quickchart\" onclick=\"quickchart('df-2c194dba-1eec-4d61-8d50-711c4a3fa7ea')\"\n",
              "            title=\"Suggest charts\"\n",
              "            style=\"display:none;\">\n",
              "\n",
              "<svg xmlns=\"http://www.w3.org/2000/svg\" height=\"24px\"viewBox=\"0 0 24 24\"\n",
              "     width=\"24px\">\n",
              "    <g>\n",
              "        <path d=\"M19 3H5c-1.1 0-2 .9-2 2v14c0 1.1.9 2 2 2h14c1.1 0 2-.9 2-2V5c0-1.1-.9-2-2-2zM9 17H7v-7h2v7zm4 0h-2V7h2v10zm4 0h-2v-4h2v4z\"/>\n",
              "    </g>\n",
              "</svg>\n",
              "  </button>\n",
              "\n",
              "<style>\n",
              "  .colab-df-quickchart {\n",
              "      --bg-color: #E8F0FE;\n",
              "      --fill-color: #1967D2;\n",
              "      --hover-bg-color: #E2EBFA;\n",
              "      --hover-fill-color: #174EA6;\n",
              "      --disabled-fill-color: #AAA;\n",
              "      --disabled-bg-color: #DDD;\n",
              "  }\n",
              "\n",
              "  [theme=dark] .colab-df-quickchart {\n",
              "      --bg-color: #3B4455;\n",
              "      --fill-color: #D2E3FC;\n",
              "      --hover-bg-color: #434B5C;\n",
              "      --hover-fill-color: #FFFFFF;\n",
              "      --disabled-bg-color: #3B4455;\n",
              "      --disabled-fill-color: #666;\n",
              "  }\n",
              "\n",
              "  .colab-df-quickchart {\n",
              "    background-color: var(--bg-color);\n",
              "    border: none;\n",
              "    border-radius: 50%;\n",
              "    cursor: pointer;\n",
              "    display: none;\n",
              "    fill: var(--fill-color);\n",
              "    height: 32px;\n",
              "    padding: 0;\n",
              "    width: 32px;\n",
              "  }\n",
              "\n",
              "  .colab-df-quickchart:hover {\n",
              "    background-color: var(--hover-bg-color);\n",
              "    box-shadow: 0 1px 2px rgba(60, 64, 67, 0.3), 0 1px 3px 1px rgba(60, 64, 67, 0.15);\n",
              "    fill: var(--button-hover-fill-color);\n",
              "  }\n",
              "\n",
              "  .colab-df-quickchart-complete:disabled,\n",
              "  .colab-df-quickchart-complete:disabled:hover {\n",
              "    background-color: var(--disabled-bg-color);\n",
              "    fill: var(--disabled-fill-color);\n",
              "    box-shadow: none;\n",
              "  }\n",
              "\n",
              "  .colab-df-spinner {\n",
              "    border: 2px solid var(--fill-color);\n",
              "    border-color: transparent;\n",
              "    border-bottom-color: var(--fill-color);\n",
              "    animation:\n",
              "      spin 1s steps(1) infinite;\n",
              "  }\n",
              "\n",
              "  @keyframes spin {\n",
              "    0% {\n",
              "      border-color: transparent;\n",
              "      border-bottom-color: var(--fill-color);\n",
              "      border-left-color: var(--fill-color);\n",
              "    }\n",
              "    20% {\n",
              "      border-color: transparent;\n",
              "      border-left-color: var(--fill-color);\n",
              "      border-top-color: var(--fill-color);\n",
              "    }\n",
              "    30% {\n",
              "      border-color: transparent;\n",
              "      border-left-color: var(--fill-color);\n",
              "      border-top-color: var(--fill-color);\n",
              "      border-right-color: var(--fill-color);\n",
              "    }\n",
              "    40% {\n",
              "      border-color: transparent;\n",
              "      border-right-color: var(--fill-color);\n",
              "      border-top-color: var(--fill-color);\n",
              "    }\n",
              "    60% {\n",
              "      border-color: transparent;\n",
              "      border-right-color: var(--fill-color);\n",
              "    }\n",
              "    80% {\n",
              "      border-color: transparent;\n",
              "      border-right-color: var(--fill-color);\n",
              "      border-bottom-color: var(--fill-color);\n",
              "    }\n",
              "    90% {\n",
              "      border-color: transparent;\n",
              "      border-bottom-color: var(--fill-color);\n",
              "    }\n",
              "  }\n",
              "</style>\n",
              "\n",
              "  <script>\n",
              "    async function quickchart(key) {\n",
              "      const quickchartButtonEl =\n",
              "        document.querySelector('#' + key + ' button');\n",
              "      quickchartButtonEl.disabled = true;  // To prevent multiple clicks.\n",
              "      quickchartButtonEl.classList.add('colab-df-spinner');\n",
              "      try {\n",
              "        const charts = await google.colab.kernel.invokeFunction(\n",
              "            'suggestCharts', [key], {});\n",
              "      } catch (error) {\n",
              "        console.error('Error during call to suggestCharts:', error);\n",
              "      }\n",
              "      quickchartButtonEl.classList.remove('colab-df-spinner');\n",
              "      quickchartButtonEl.classList.add('colab-df-quickchart-complete');\n",
              "    }\n",
              "    (() => {\n",
              "      let quickchartButtonEl =\n",
              "        document.querySelector('#df-2c194dba-1eec-4d61-8d50-711c4a3fa7ea button');\n",
              "      quickchartButtonEl.style.display =\n",
              "        google.colab.kernel.accessAllowed ? 'block' : 'none';\n",
              "    })();\n",
              "  </script>\n",
              "</div>\n",
              "\n",
              "    </div>\n",
              "  </div>\n"
            ],
            "application/vnd.google.colaboratory.intrinsic+json": {
              "type": "dataframe",
              "summary": "{\n  \"name\": \"file2\",\n  \"rows\": 4,\n  \"fields\": [\n    {\n      \"column\": \"Country Code\",\n      \"properties\": {\n        \"dtype\": \"string\",\n        \"num_unique_values\": 3,\n        \"samples\": [\n          \"265\",\n          \"ABW\",\n          \"1\"\n        ],\n        \"semantic_type\": \"\",\n        \"description\": \"\"\n      }\n    },\n    {\n      \"column\": \"Region\",\n      \"properties\": {\n        \"dtype\": \"string\",\n        \"num_unique_values\": 4,\n        \"samples\": [\n          7,\n          \"58\",\n          \"217\"\n        ],\n        \"semantic_type\": \"\",\n        \"description\": \"\"\n      }\n    },\n    {\n      \"column\": \"IncomeGroup\",\n      \"properties\": {\n        \"dtype\": \"string\",\n        \"num_unique_values\": 4,\n        \"samples\": [\n          4,\n          \"79\",\n          \"216\"\n        ],\n        \"semantic_type\": \"\",\n        \"description\": \"\"\n      }\n    },\n    {\n      \"column\": \"SpecialNotes\",\n      \"properties\": {\n        \"dtype\": \"string\",\n        \"num_unique_values\": 4,\n        \"samples\": [\n          81,\n          \"8\",\n          \"98\"\n        ],\n        \"semantic_type\": \"\",\n        \"description\": \"\"\n      }\n    },\n    {\n      \"column\": \"TableName\",\n      \"properties\": {\n        \"dtype\": \"string\",\n        \"num_unique_values\": 3,\n        \"samples\": [\n          \"265\",\n          \"Aruba\",\n          \"1\"\n        ],\n        \"semantic_type\": \"\",\n        \"description\": \"\"\n      }\n    }\n  ]\n}"
            }
          },
          "metadata": {},
          "execution_count": 9
        }
      ]
    },
    {
      "cell_type": "code",
      "source": [
        "# how much we have nan values\n",
        "file1.isnull().sum().sum()"
      ],
      "metadata": {
        "colab": {
          "base_uri": "https://localhost:8080/"
        },
        "id": "1447Pa8yED5k",
        "outputId": "6d551c92-d5c5-43ed-ef31-7bcc10be913f"
      },
      "execution_count": null,
      "outputs": [
        {
          "output_type": "execute_result",
          "data": {
            "text/plain": [
              "103"
            ]
          },
          "metadata": {},
          "execution_count": 10
        }
      ]
    },
    {
      "cell_type": "code",
      "source": [
        "# how much we have nan values\n",
        "file2.isnull().sum().sum()"
      ],
      "metadata": {
        "colab": {
          "base_uri": "https://localhost:8080/"
        },
        "id": "ArpQT_FwEpiO",
        "outputId": "f3b7e35e-451c-48b4-fc66-176e719f0660"
      },
      "execution_count": null,
      "outputs": [
        {
          "output_type": "execute_result",
          "data": {
            "text/plain": [
              "264"
            ]
          },
          "metadata": {},
          "execution_count": 11
        }
      ]
    },
    {
      "cell_type": "markdown",
      "source": [
        "**Missing Data of file1:**\n",
        "There are missing values in several columns:\n",
        "\n",
        "*   1960–1989: All of these columns have 264 non-null values, indicating 2 missing\n",
        "*   1990–2020: These columns mostly have 265 non-null values, indicating 1 missing value in each.  And few years like 1992, 2012, and onward,  drop back to 264 non-null values.\n",
        "\n",
        "The other columns (Country Code, Indicator Name, and Indicator Code) are complete, with no missing data.\n",
        "\n",
        "**Total Missing Values:**\n",
        "103\n"
      ],
      "metadata": {
        "id": "vXkMx9eKIrUt"
      }
    },
    {
      "cell_type": "markdown",
      "source": [
        "**Missing Data of file2:**\n",
        "There are missing values in 3 columns (file2 has 5 columns):\n",
        "\n",
        "*   Region: 48 missing values\n",
        "*   IncomeGroup: 49 missing values\n",
        "*   SpecialNotes: 167 missing values (more than half of the entries are missing)\n",
        "\n",
        "**Total Missing Values:**\n",
        "264\n"
      ],
      "metadata": {
        "id": "e6F2SfrhJqEF"
      }
    },
    {
      "cell_type": "code",
      "source": [
        "# identyfing duplicate rows\n",
        "duplicates1 = file1[file1.duplicated()]\n",
        "print(duplicates1)"
      ],
      "metadata": {
        "colab": {
          "base_uri": "https://localhost:8080/"
        },
        "id": "aKjR_PSKgobZ",
        "outputId": "605bdbc3-eb44-4fa7-c467-fd8d4a99ceb7"
      },
      "execution_count": null,
      "outputs": [
        {
          "output_type": "stream",
          "name": "stdout",
          "text": [
            "Empty DataFrame\n",
            "Columns: [Country Code, Indicator Name, Indicator Code, 1960, 1961, 1962, 1963, 1964, 1965, 1966, 1967, 1968, 1969, 1970, 1971, 1972, 1973, 1974, 1975, 1976, 1977, 1978, 1979, 1980, 1981, 1982, 1983, 1984, 1985, 1986, 1987, 1988, 1989, 1990, 1991, 1992, 1993, 1994, 1995, 1996, 1997, 1998, 1999, 2000, 2001, 2002, 2003, 2004, 2005, 2006, 2007, 2008, 2009, 2010, 2011, 2012, 2013, 2014, 2015, 2016, 2017, 2018, 2019, 2020]\n",
            "Index: []\n"
          ]
        }
      ]
    },
    {
      "cell_type": "code",
      "source": [
        "duplicates2 = file2[file2.duplicated()]\n",
        "print(duplicates2)"
      ],
      "metadata": {
        "colab": {
          "base_uri": "https://localhost:8080/"
        },
        "id": "swo1I1I3gz5e",
        "outputId": "e6a1ff71-ce33-4146-96ed-9707d6e95e65"
      },
      "execution_count": null,
      "outputs": [
        {
          "output_type": "stream",
          "name": "stdout",
          "text": [
            "Empty DataFrame\n",
            "Columns: [Country Code, Region, IncomeGroup, SpecialNotes, TableName]\n",
            "Index: []\n"
          ]
        }
      ]
    },
    {
      "cell_type": "code",
      "source": [
        "duplicatescolumn = file1[file1['Country Code'].duplicated()]\n",
        "print(duplicatescolumn)"
      ],
      "metadata": {
        "colab": {
          "base_uri": "https://localhost:8080/"
        },
        "id": "PyCmTKhWhofk",
        "outputId": "ec2a5b58-2cd4-44fb-f0c2-2bdcd59f89b2"
      },
      "execution_count": null,
      "outputs": [
        {
          "output_type": "stream",
          "name": "stdout",
          "text": [
            "Empty DataFrame\n",
            "Columns: [Country Code, Indicator Name, Indicator Code, 1960, 1961, 1962, 1963, 1964, 1965, 1966, 1967, 1968, 1969, 1970, 1971, 1972, 1973, 1974, 1975, 1976, 1977, 1978, 1979, 1980, 1981, 1982, 1983, 1984, 1985, 1986, 1987, 1988, 1989, 1990, 1991, 1992, 1993, 1994, 1995, 1996, 1997, 1998, 1999, 2000, 2001, 2002, 2003, 2004, 2005, 2006, 2007, 2008, 2009, 2010, 2011, 2012, 2013, 2014, 2015, 2016, 2017, 2018, 2019, 2020]\n",
            "Index: []\n"
          ]
        }
      ]
    },
    {
      "cell_type": "code",
      "source": [
        "print(file2['Region'].value_counts())\n",
        "print(file2['IncomeGroup'].value_counts())\n",
        "print(file2['SpecialNotes'].value_counts())"
      ],
      "metadata": {
        "colab": {
          "base_uri": "https://localhost:8080/"
        },
        "id": "f7TW2kfq1r8H",
        "outputId": "92b53097-a86b-4fc4-ee84-4950fb63a6f4"
      },
      "execution_count": null,
      "outputs": [
        {
          "output_type": "stream",
          "name": "stdout",
          "text": [
            "Region\n",
            "Europe & Central Asia         58\n",
            "Sub-Saharan Africa            48\n",
            "Latin America & Caribbean     42\n",
            "East Asia & Pacific           37\n",
            "Middle East & North Africa    21\n",
            "South Asia                     8\n",
            "North America                  3\n",
            "Name: count, dtype: int64\n",
            "IncomeGroup\n",
            "High income            79\n",
            "Lower middle income    55\n",
            "Upper middle income    55\n",
            "Low income             27\n",
            "Name: count, dtype: int64\n",
            "SpecialNotes\n",
            "Fiscal year end: June 30; reporting period for national accounts data: FY.                                                                                                                                                                                                                                                                                          8\n",
            "Fiscal year end: March 31; reporting period for national accounts data: CY.                                                                                                                                                                                                                                                                                         7\n",
            "Fiscal year end: June 30; reporting period for national accounts data: CY.                                                                                                                                                                                                                                                                                          2\n",
            "Fiscal year end: March 20; reporting period for national accounts data: FY.                                                                                                                                                                                                                                                                                         2\n",
            "Fiscal year end: September 30; reporting period for national accounts data: FY.                                                                                                                                                                                                                                                                                     2\n",
            "                                                                                                                                                                                                                                                                                                                                                                   ..\n",
            "\"A simple multiplier is used to convert the national currencies of EMU members to euros. The following irrevocable euro conversion rate was adopted by the EU Council on January 1, 1999: 1 euro = 340.75 Greek drachma. Please note that historical data before 1999 are not actual euros and are not comparable or suitable for aggregation across countries.\"    1\n",
            "\"Includes self-governed areas only, which mostly exclude Abkhazia and South Ossetia, but small areas in Abkhazia and South Ossetia are included before 2008 or 2009 because of the changes in self-governed areas.\"                                                                                                                                                 1\n",
            "\"Fiscal year ends on September 30; reporting period for national accounts data: FY. Based on the Pacific and Virgin Islands Training Initiative, national accounts data have been revised.\"                                                                                                                                                                         1\n",
            "\"The following irrevocable euro conversion rate was adopted by the EU Council on January 1, 1999: 1 euro = 6.55957 French franc. Please note that historical data before 1999 are not actual euros and are not comparable or suitable for aggregation across countries.\"                                                                                            1\n",
            "\"National accounts data were rebased to reflect the January 1, 2013, introduction of the new Zambian kwacha at a rate of 1,000 old kwacha = 1 new kwacha.\"                                                                                                                                                                                                          1\n",
            "Name: count, Length: 81, dtype: int64\n"
          ]
        }
      ]
    },
    {
      "cell_type": "code",
      "source": [
        "# checking if there is any correlation between region and incomeGroup\n",
        "region_income_group = file2.groupby(['Region', 'IncomeGroup']).size()\n",
        "print(region_income_group)"
      ],
      "metadata": {
        "colab": {
          "base_uri": "https://localhost:8080/"
        },
        "id": "aCI5Gc-p4d9o",
        "outputId": "38b66bcc-9e88-462f-afe7-3ef28bd177cd"
      },
      "execution_count": null,
      "outputs": [
        {
          "output_type": "stream",
          "name": "stdout",
          "text": [
            "Region                      IncomeGroup        \n",
            "East Asia & Pacific         High income            14\n",
            "                            Low income              1\n",
            "                            Lower middle income    14\n",
            "                            Upper middle income     8\n",
            "Europe & Central Asia       High income            37\n",
            "                            Lower middle income     4\n",
            "                            Upper middle income    17\n",
            "Latin America & Caribbean   High income            16\n",
            "                            Lower middle income     6\n",
            "                            Upper middle income    19\n",
            "Middle East & North Africa  High income             8\n",
            "                            Low income              2\n",
            "                            Lower middle income     7\n",
            "                            Upper middle income     4\n",
            "North America               High income             3\n",
            "South Asia                  Low income              1\n",
            "                            Lower middle income     6\n",
            "                            Upper middle income     1\n",
            "Sub-Saharan Africa          High income             1\n",
            "                            Low income             23\n",
            "                            Lower middle income    18\n",
            "                            Upper middle income     6\n",
            "dtype: int64\n"
          ]
        }
      ]
    },
    {
      "cell_type": "markdown",
      "source": [
        "**Result: Any duplicate rows or country code column**"
      ],
      "metadata": {
        "id": "IZuoIn6Lg6Z8"
      }
    },
    {
      "cell_type": "markdown",
      "source": [
        "# **Step 2.  Data Preprocessing and Cleaning**\n"
      ],
      "metadata": {
        "id": "t2rADj40Kmvj"
      }
    },
    {
      "cell_type": "code",
      "source": [
        "merged_df = pd.merge(file1, file2, on='Country Code', how='left')"
      ],
      "metadata": {
        "id": "e4bYUqDbNwII"
      },
      "execution_count": null,
      "outputs": []
    },
    {
      "cell_type": "code",
      "source": [
        "merged_df.info()"
      ],
      "metadata": {
        "colab": {
          "base_uri": "https://localhost:8080/"
        },
        "collapsed": true,
        "id": "Z7r41NIijAi9",
        "outputId": "a9639741-54ae-4de2-fcf5-ccd311d05130"
      },
      "execution_count": null,
      "outputs": [
        {
          "output_type": "stream",
          "name": "stdout",
          "text": [
            "<class 'pandas.core.frame.DataFrame'>\n",
            "RangeIndex: 266 entries, 0 to 265\n",
            "Data columns (total 68 columns):\n",
            " #   Column          Non-Null Count  Dtype  \n",
            "---  ------          --------------  -----  \n",
            " 0   Country Code    266 non-null    object \n",
            " 1   Indicator Name  266 non-null    object \n",
            " 2   Indicator Code  266 non-null    object \n",
            " 3   1960            264 non-null    float64\n",
            " 4   1961            264 non-null    float64\n",
            " 5   1962            264 non-null    float64\n",
            " 6   1963            264 non-null    float64\n",
            " 7   1964            264 non-null    float64\n",
            " 8   1965            264 non-null    float64\n",
            " 9   1966            264 non-null    float64\n",
            " 10  1967            264 non-null    float64\n",
            " 11  1968            264 non-null    float64\n",
            " 12  1969            264 non-null    float64\n",
            " 13  1970            264 non-null    float64\n",
            " 14  1971            264 non-null    float64\n",
            " 15  1972            264 non-null    float64\n",
            " 16  1973            264 non-null    float64\n",
            " 17  1974            264 non-null    float64\n",
            " 18  1975            264 non-null    float64\n",
            " 19  1976            264 non-null    float64\n",
            " 20  1977            264 non-null    float64\n",
            " 21  1978            264 non-null    float64\n",
            " 22  1979            264 non-null    float64\n",
            " 23  1980            264 non-null    float64\n",
            " 24  1981            264 non-null    float64\n",
            " 25  1982            264 non-null    float64\n",
            " 26  1983            264 non-null    float64\n",
            " 27  1984            264 non-null    float64\n",
            " 28  1985            264 non-null    float64\n",
            " 29  1986            264 non-null    float64\n",
            " 30  1987            264 non-null    float64\n",
            " 31  1988            264 non-null    float64\n",
            " 32  1989            264 non-null    float64\n",
            " 33  1990            265 non-null    float64\n",
            " 34  1991            265 non-null    float64\n",
            " 35  1992            264 non-null    float64\n",
            " 36  1993            264 non-null    float64\n",
            " 37  1994            264 non-null    float64\n",
            " 38  1995            265 non-null    float64\n",
            " 39  1996            265 non-null    float64\n",
            " 40  1997            265 non-null    float64\n",
            " 41  1998            265 non-null    float64\n",
            " 42  1999            265 non-null    float64\n",
            " 43  2000            265 non-null    float64\n",
            " 44  2001            265 non-null    float64\n",
            " 45  2002            265 non-null    float64\n",
            " 46  2003            265 non-null    float64\n",
            " 47  2004            265 non-null    float64\n",
            " 48  2005            265 non-null    float64\n",
            " 49  2006            265 non-null    float64\n",
            " 50  2007            265 non-null    float64\n",
            " 51  2008            265 non-null    float64\n",
            " 52  2009            265 non-null    float64\n",
            " 53  2010            265 non-null    float64\n",
            " 54  2011            265 non-null    float64\n",
            " 55  2012            264 non-null    float64\n",
            " 56  2013            264 non-null    float64\n",
            " 57  2014            264 non-null    float64\n",
            " 58  2015            264 non-null    float64\n",
            " 59  2016            264 non-null    float64\n",
            " 60  2017            264 non-null    float64\n",
            " 61  2018            264 non-null    float64\n",
            " 62  2019            264 non-null    float64\n",
            " 63  2020            264 non-null    float64\n",
            " 64  Region          217 non-null    object \n",
            " 65  IncomeGroup     216 non-null    object \n",
            " 66  SpecialNotes    98 non-null     object \n",
            " 67  TableName       265 non-null    object \n",
            "dtypes: float64(61), object(7)\n",
            "memory usage: 141.4+ KB\n"
          ]
        }
      ]
    },
    {
      "cell_type": "markdown",
      "source": [
        "*2.1 Handle the missing values from file 1*\n"
      ],
      "metadata": {
        "id": "LZmKPYBYfIfp"
      }
    },
    {
      "cell_type": "code",
      "source": [
        "# defining rows with missing values\n",
        "rows_with_nan = file1[file1.isnull().any(axis=1)]\n",
        "\n",
        "print(rows_with_nan)"
      ],
      "metadata": {
        "colab": {
          "base_uri": "https://localhost:8080/"
        },
        "id": "JlqY1HIpYMwi",
        "outputId": "bcf161c0-5410-4fe8-c9b5-2b9fca0f6c06"
      },
      "execution_count": null,
      "outputs": [
        {
          "output_type": "stream",
          "name": "stdout",
          "text": [
            "    Country Code       Indicator Name Indicator Code       1960       1961       1962       1963       1964       1965       1966       1967       1968       1969       1970       1971       1972  \\\n",
            "69           ERI  \"Population, total\"    SP.POP.TOTL  1007586.0  1033320.0  1060489.0  1088859.0  1118152.0  1148188.0  1178875.0  1210304.0  1242633.0  1276122.0  1310947.0  1347180.0  1384789.0   \n",
            "110          INX  \"Population, total\"    SP.POP.TOTL        NaN        NaN        NaN        NaN        NaN        NaN        NaN        NaN        NaN        NaN        NaN        NaN        NaN   \n",
            "127          KWT  \"Population, total\"    SP.POP.TOTL   269026.0   300581.0   337346.0   378756.0   423900.0   472032.0   523169.0   577164.0   632911.0   688972.0   744444.0   798639.0   851918.0   \n",
            "196          PSE  \"Population, total\"    SP.POP.TOTL        NaN        NaN        NaN        NaN        NaN        NaN        NaN        NaN        NaN        NaN        NaN        NaN        NaN   \n",
            "\n",
            "          1973       1974       1975       1976       1977       1978       1979       1980       1981       1982       1983       1984       1985       1986       1987       1988       1989  \\\n",
            "69   1423749.0  1463986.0  1505438.0  1547978.0  1591622.0  1636771.0  1683932.0  1733423.0  1784557.0  1836825.0  1890556.0  1946299.0  2003942.0  2064803.0  2127421.0  2185607.0  2231144.0   \n",
            "110        NaN        NaN        NaN        NaN        NaN        NaN        NaN        NaN        NaN        NaN        NaN        NaN        NaN        NaN        NaN        NaN        NaN   \n",
            "127   905639.0   961773.0  1021725.0  1085866.0  1153573.0  1224063.0  1296077.0  1368680.0  1439334.0  1507636.0  1576975.0  1652150.0  1735278.0  1832302.0  1938916.0  2034850.0  2092786.0   \n",
            "196        NaN        NaN        NaN        NaN        NaN        NaN        NaN        NaN        NaN        NaN        NaN        NaN        NaN        NaN        NaN        NaN        NaN   \n",
            "\n",
            "          1990       1991       1992       1993       1994       1995       1996       1997       1998       1999       2000       2001       2002       2003       2004       2005       2006  \\\n",
            "69   2258649.0  2266356.0  2257593.0  2238631.0  2218436.0  2204227.0  2196467.0  2195192.0  2206439.0  2237412.0  2292413.0  2374721.0  2481059.0  2600972.0  2719809.0  2826653.0  2918209.0   \n",
            "110        NaN        NaN        NaN        NaN        NaN        NaN        NaN        NaN        NaN        NaN        NaN        NaN        NaN        NaN        NaN        NaN        NaN   \n",
            "127  2095350.0  2031297.0        NaN        NaN        NaN  1605907.0  1626858.0  1710257.0  1831121.0  1951642.0  2045123.0  2103273.0  2136991.0  2161626.0  2200498.0  2270196.0  2373661.0   \n",
            "196  1978248.0  2068845.0  2163591.0  2262676.0  2366298.0  2474666.0  2587997.0  2706518.0  2776568.0  2848431.0  2922153.0  2997784.0  3075373.0  3154969.0  3236626.0  3320396.0  3406334.0   \n",
            "\n",
            "          2007       2008       2009       2010       2011       2012       2013       2014       2015       2016       2017       2018       2019       2020  \n",
            "69   2996540.0  3062782.0  3119920.0  3170437.0  3213969.0        NaN        NaN        NaN        NaN        NaN        NaN        NaN        NaN        NaN  \n",
            "110        NaN        NaN        NaN        NaN        NaN        NaN        NaN        NaN        NaN        NaN        NaN        NaN        NaN        NaN  \n",
            "127  2504026.0  2656010.0  2821041.0  2991884.0  3168054.0  3348852.0  3526382.0  3690939.0  3835588.0  3956862.0  4056102.0  4137314.0  4207077.0  4270563.0  \n",
            "196  3494496.0  3591977.0  3689099.0  3786161.0  3882986.0  3979998.0  4076708.0  4173398.0  4270092.0  4367088.0  4454805.0  4569087.0  4685306.0  4803269.0  \n"
          ]
        }
      ]
    },
    {
      "cell_type": "code",
      "source": [
        "nan_count_per_row = rows_with_nan.isnull().sum(axis=1)\n",
        "\n",
        "# displaying the rows with their NaN counts\n",
        "print(nan_count_per_row)\n",
        "\n"
      ],
      "metadata": {
        "colab": {
          "base_uri": "https://localhost:8080/"
        },
        "id": "7luIR5XqbYb_",
        "outputId": "89315ba8-3256-4396-dc61-4b9e256124ab"
      },
      "execution_count": null,
      "outputs": [
        {
          "output_type": "stream",
          "name": "stdout",
          "text": [
            "69      9\n",
            "110    61\n",
            "127     3\n",
            "196    30\n",
            "dtype: int64\n"
          ]
        }
      ]
    },
    {
      "cell_type": "code",
      "source": [
        "nan_count_per_row_p = rows_with_nan.isnull().sum(axis=1) / file1.shape[1] * 100\n",
        "# displaying the rows with their NaN counts in %\n",
        "print(nan_count_per_row_p)"
      ],
      "metadata": {
        "colab": {
          "base_uri": "https://localhost:8080/"
        },
        "id": "fCac-OadedKW",
        "outputId": "e786413b-c33d-45d3-facc-2c9f4aad79aa"
      },
      "execution_count": null,
      "outputs": [
        {
          "output_type": "stream",
          "name": "stdout",
          "text": [
            "69     14.0625\n",
            "110    95.3125\n",
            "127     4.6875\n",
            "196    46.8750\n",
            "dtype: float64\n"
          ]
        }
      ]
    },
    {
      "cell_type": "code",
      "source": [
        "filtered_df = merged_df.loc[nan_count_per_row.index]\n",
        "print(filtered_df)"
      ],
      "metadata": {
        "colab": {
          "base_uri": "https://localhost:8080/"
        },
        "id": "_s93rNLejk5r",
        "outputId": "a0e2c588-4390-40d2-abfe-6fc7ffb04712"
      },
      "execution_count": null,
      "outputs": [
        {
          "output_type": "stream",
          "name": "stdout",
          "text": [
            "    Country Code       Indicator Name Indicator Code       1960       1961       1962       1963       1964       1965       1966       1967       1968       1969       1970       1971       1972  \\\n",
            "69           ERI  \"Population, total\"    SP.POP.TOTL  1007586.0  1033320.0  1060489.0  1088859.0  1118152.0  1148188.0  1178875.0  1210304.0  1242633.0  1276122.0  1310947.0  1347180.0  1384789.0   \n",
            "110          INX  \"Population, total\"    SP.POP.TOTL        NaN        NaN        NaN        NaN        NaN        NaN        NaN        NaN        NaN        NaN        NaN        NaN        NaN   \n",
            "127          KWT  \"Population, total\"    SP.POP.TOTL   269026.0   300581.0   337346.0   378756.0   423900.0   472032.0   523169.0   577164.0   632911.0   688972.0   744444.0   798639.0   851918.0   \n",
            "196          PSE  \"Population, total\"    SP.POP.TOTL        NaN        NaN        NaN        NaN        NaN        NaN        NaN        NaN        NaN        NaN        NaN        NaN        NaN   \n",
            "\n",
            "          1973       1974       1975       1976       1977       1978       1979       1980       1981       1982       1983       1984       1985       1986       1987       1988       1989  \\\n",
            "69   1423749.0  1463986.0  1505438.0  1547978.0  1591622.0  1636771.0  1683932.0  1733423.0  1784557.0  1836825.0  1890556.0  1946299.0  2003942.0  2064803.0  2127421.0  2185607.0  2231144.0   \n",
            "110        NaN        NaN        NaN        NaN        NaN        NaN        NaN        NaN        NaN        NaN        NaN        NaN        NaN        NaN        NaN        NaN        NaN   \n",
            "127   905639.0   961773.0  1021725.0  1085866.0  1153573.0  1224063.0  1296077.0  1368680.0  1439334.0  1507636.0  1576975.0  1652150.0  1735278.0  1832302.0  1938916.0  2034850.0  2092786.0   \n",
            "196        NaN        NaN        NaN        NaN        NaN        NaN        NaN        NaN        NaN        NaN        NaN        NaN        NaN        NaN        NaN        NaN        NaN   \n",
            "\n",
            "          1990       1991       1992       1993       1994       1995       1996       1997       1998       1999       2000       2001       2002       2003       2004       2005       2006  \\\n",
            "69   2258649.0  2266356.0  2257593.0  2238631.0  2218436.0  2204227.0  2196467.0  2195192.0  2206439.0  2237412.0  2292413.0  2374721.0  2481059.0  2600972.0  2719809.0  2826653.0  2918209.0   \n",
            "110        NaN        NaN        NaN        NaN        NaN        NaN        NaN        NaN        NaN        NaN        NaN        NaN        NaN        NaN        NaN        NaN        NaN   \n",
            "127  2095350.0  2031297.0        NaN        NaN        NaN  1605907.0  1626858.0  1710257.0  1831121.0  1951642.0  2045123.0  2103273.0  2136991.0  2161626.0  2200498.0  2270196.0  2373661.0   \n",
            "196  1978248.0  2068845.0  2163591.0  2262676.0  2366298.0  2474666.0  2587997.0  2706518.0  2776568.0  2848431.0  2922153.0  2997784.0  3075373.0  3154969.0  3236626.0  3320396.0  3406334.0   \n",
            "\n",
            "          2007       2008       2009       2010       2011       2012       2013       2014       2015       2016       2017       2018       2019       2020                      Region  \\\n",
            "69   2996540.0  3062782.0  3119920.0  3170437.0  3213969.0        NaN        NaN        NaN        NaN        NaN        NaN        NaN        NaN        NaN          Sub-Saharan Africa   \n",
            "110        NaN        NaN        NaN        NaN        NaN        NaN        NaN        NaN        NaN        NaN        NaN        NaN        NaN        NaN                         NaN   \n",
            "127  2504026.0  2656010.0  2821041.0  2991884.0  3168054.0  3348852.0  3526382.0  3690939.0  3835588.0  3956862.0  4056102.0  4137314.0  4207077.0  4270563.0  Middle East & North Africa   \n",
            "196  3494496.0  3591977.0  3689099.0  3786161.0  3882986.0  3979998.0  4076708.0  4173398.0  4270092.0  4367088.0  4454805.0  4569087.0  4685306.0  4803269.0  Middle East & North Africa   \n",
            "\n",
            "             IncomeGroup SpecialNotes           TableName  \n",
            "69            Low income          NaN             Eritrea  \n",
            "110                  NaN          NaN                 NaN  \n",
            "127          High income          NaN              Kuwait  \n",
            "196  Lower middle income          NaN  West Bank and Gaza  \n"
          ]
        }
      ]
    },
    {
      "cell_type": "markdown",
      "source": [
        "**Rows with nan values where % is higher than 90% would be deleted**"
      ],
      "metadata": {
        "id": "eoCKBVtb9Epo"
      }
    },
    {
      "cell_type": "code",
      "source": [
        "indexes_to_delete = [110]\n",
        "merged_df = merged_df.drop(indexes_to_delete)\n"
      ],
      "metadata": {
        "id": "kuMBj8WgmUZL"
      },
      "execution_count": null,
      "outputs": []
    },
    {
      "cell_type": "code",
      "source": [
        "# converting missing values to numeric\n",
        "row_slice = pd.to_numeric(merged_df.loc[196, '1960':'1990'], errors='coerce')\n",
        "\n",
        "# interpolating missing values according the first known value which is 1990\n",
        "row_slice = row_slice.interpolate(limit_direction='forward')\n",
        "\n",
        "row_slice = row_slice.bfill()\n",
        "\n",
        "# assigning the result back to the DataFrame\n",
        "merged_df.loc[196, '1960':'1990'] = row_slice"
      ],
      "metadata": {
        "id": "q8Ef-yCfKaq2"
      },
      "execution_count": null,
      "outputs": []
    },
    {
      "cell_type": "code",
      "source": [
        "# converting missing values to numeric\n",
        "row_slice = pd.to_numeric(merged_df.loc[127, '1990':'1995'], errors='coerce')\n",
        "\n",
        "# interpolating missing values according the first known value which is 1990\n",
        "row_slice = row_slice.interpolate(limit_direction='forward')\n",
        "\n",
        "row_slice = row_slice.bfill()\n",
        "\n",
        "# assigning the result back to the DataFrame\n",
        "merged_df.loc[127, '1990':'1995'] = row_slice"
      ],
      "metadata": {
        "id": "oh6Sx0F7Hj37"
      },
      "execution_count": null,
      "outputs": []
    },
    {
      "cell_type": "code",
      "source": [
        "\n",
        "# extending the data slice to include values before 2012\n",
        "row_slice = pd.to_numeric(merged_df.loc[69, '1960':'2020'], errors='coerce')\n",
        "\n",
        "# interpolating missing values based on the full trend\n",
        "row_slice = round(row_slice.rolling(window=16, min_periods=5).mean()['1960':'2021'],0)\n",
        "\n",
        "# Assign the result back to the DataFrame\n",
        "merged_df.loc[69, '2012':'2020'] = row_slice.loc['2012':'2020']\n",
        "\n",
        "# Check results\n",
        "print(merged_df.loc[69, '2012':'2020'])"
      ],
      "metadata": {
        "colab": {
          "base_uri": "https://localhost:8080/"
        },
        "id": "SNVxLJkd8ort",
        "outputId": "efdb6af1-d2d2-4a10-98ea-2b9896098a9c"
      },
      "execution_count": null,
      "outputs": [
        {
          "output_type": "stream",
          "name": "stdout",
          "text": [
            "2012    2694435.0\n",
            "2013    2730095.0\n",
            "2014    2770377.0\n",
            "2015    2814790.0\n",
            "2016    2862279.0\n",
            "2017    2911035.0\n",
            "2018    2958810.0\n",
            "2019    3003540.0\n",
            "2020    3044073.0\n",
            "Name: 69, dtype: object\n"
          ]
        }
      ]
    },
    {
      "cell_type": "code",
      "source": [
        "print(merged_df.loc[[69, 196, 127]])"
      ],
      "metadata": {
        "colab": {
          "base_uri": "https://localhost:8080/"
        },
        "id": "gtrhp20FKkNU",
        "outputId": "23591eb7-5f29-4b94-ee03-adc99725989c"
      },
      "execution_count": null,
      "outputs": [
        {
          "output_type": "stream",
          "name": "stdout",
          "text": [
            "    Country Code       Indicator Name Indicator Code       1960       1961       1962       1963       1964       1965       1966       1967       1968       1969       1970       1971       1972  \\\n",
            "69           ERI  \"Population, total\"    SP.POP.TOTL  1007586.0  1033320.0  1060489.0  1088859.0  1118152.0  1148188.0  1178875.0  1210304.0  1242633.0  1276122.0  1310947.0  1347180.0  1384789.0   \n",
            "196          PSE  \"Population, total\"    SP.POP.TOTL  1978248.0  1978248.0  1978248.0  1978248.0  1978248.0  1978248.0  1978248.0  1978248.0  1978248.0  1978248.0  1978248.0  1978248.0  1978248.0   \n",
            "127          KWT  \"Population, total\"    SP.POP.TOTL   269026.0   300581.0   337346.0   378756.0   423900.0   472032.0   523169.0   577164.0   632911.0   688972.0   744444.0   798639.0   851918.0   \n",
            "\n",
            "          1973       1974       1975       1976       1977       1978       1979       1980       1981       1982       1983       1984       1985       1986       1987       1988       1989  \\\n",
            "69   1423749.0  1463986.0  1505438.0  1547978.0  1591622.0  1636771.0  1683932.0  1733423.0  1784557.0  1836825.0  1890556.0  1946299.0  2003942.0  2064803.0  2127421.0  2185607.0  2231144.0   \n",
            "196  1978248.0  1978248.0  1978248.0  1978248.0  1978248.0  1978248.0  1978248.0  1978248.0  1978248.0  1978248.0  1978248.0  1978248.0  1978248.0  1978248.0  1978248.0  1978248.0  1978248.0   \n",
            "127   905639.0   961773.0  1021725.0  1085866.0  1153573.0  1224063.0  1296077.0  1368680.0  1439334.0  1507636.0  1576975.0  1652150.0  1735278.0  1832302.0  1938916.0  2034850.0  2092786.0   \n",
            "\n",
            "          1990       1991       1992       1993       1994       1995       1996       1997       1998       1999       2000       2001       2002       2003       2004       2005       2006  \\\n",
            "69   2258649.0  2266356.0  2257593.0  2238631.0  2218436.0  2204227.0  2196467.0  2195192.0  2206439.0  2237412.0  2292413.0  2374721.0  2481059.0  2600972.0  2719809.0  2826653.0  2918209.0   \n",
            "196  1978248.0  2068845.0  2163591.0  2262676.0  2366298.0  2474666.0  2587997.0  2706518.0  2776568.0  2848431.0  2922153.0  2997784.0  3075373.0  3154969.0  3236626.0  3320396.0  3406334.0   \n",
            "127  2095350.0  2031297.0  1924949.5  1818602.0  1712254.5  1605907.0  1626858.0  1710257.0  1831121.0  1951642.0  2045123.0  2103273.0  2136991.0  2161626.0  2200498.0  2270196.0  2373661.0   \n",
            "\n",
            "          2007       2008       2009       2010       2011       2012       2013       2014       2015       2016       2017       2018       2019       2020                      Region  \\\n",
            "69   2996540.0  3062782.0  3119920.0  3170437.0  3213969.0  2694435.0  2730095.0  2770377.0  2814790.0  2862279.0  2911035.0  2958810.0  3003540.0  3044073.0          Sub-Saharan Africa   \n",
            "196  3494496.0  3591977.0  3689099.0  3786161.0  3882986.0  3979998.0  4076708.0  4173398.0  4270092.0  4367088.0  4454805.0  4569087.0  4685306.0  4803269.0  Middle East & North Africa   \n",
            "127  2504026.0  2656010.0  2821041.0  2991884.0  3168054.0  3348852.0  3526382.0  3690939.0  3835588.0  3956862.0  4056102.0  4137314.0  4207077.0  4270563.0  Middle East & North Africa   \n",
            "\n",
            "             IncomeGroup SpecialNotes           TableName  \n",
            "69            Low income          NaN             Eritrea  \n",
            "196  Lower middle income          NaN  West Bank and Gaza  \n",
            "127          High income          NaN              Kuwait  \n"
          ]
        }
      ]
    },
    {
      "cell_type": "markdown",
      "source": [
        "*2.2 Handle the missing values from file 2*\n"
      ],
      "metadata": {
        "id": "nGhnIBuP2PAg"
      }
    },
    {
      "cell_type": "code",
      "source": [
        "#  dropping special notes and tablename column\n",
        "merged_df = merged_df.drop(['SpecialNotes', 'TableName'], axis=1)"
      ],
      "metadata": {
        "id": "mahJb-x14gJP"
      },
      "execution_count": null,
      "outputs": []
    },
    {
      "cell_type": "code",
      "source": [
        "# defining rows with missing values, should be just categorical\n",
        "rows_with_nan = merged_df[merged_df.isnull().any(axis=1)]\n",
        "print(rows_with_nan.loc[:,:])"
      ],
      "metadata": {
        "colab": {
          "base_uri": "https://localhost:8080/"
        },
        "id": "GsLU5igjz9WM",
        "outputId": "6fc3853f-8961-487c-9ed4-d5e08dcdbbd5",
        "collapsed": true
      },
      "execution_count": null,
      "outputs": [
        {
          "output_type": "stream",
          "name": "stdout",
          "text": [
            "    Country Code       Indicator Name Indicator Code          1960          1961          1962          1963          1964          1965          1966          1967          1968          1969  \\\n",
            "1            AFE  \"Population, total\"    SP.POP.TOTL  1.308368e+08  1.341598e+08  1.376146e+08  1.412020e+08  1.449202e+08  1.487700e+08  1.527527e+08  1.568765e+08  1.611564e+08  1.656118e+08   \n",
            "3            AFW  \"Population, total\"    SP.POP.TOTL  9.639642e+07  9.840722e+07  1.005070e+08  1.026913e+08  1.049535e+08  1.072899e+08  1.097018e+08  1.121960e+08  1.147811e+08  1.174687e+08   \n",
            "7            ARB  \"Population, total\"    SP.POP.TOTL  9.219772e+07  9.472454e+07  9.733444e+07  1.000342e+08  1.028328e+08  1.057364e+08  1.087586e+08  1.118993e+08  1.151362e+08  1.184372e+08   \n",
            "36           CEB  \"Population, total\"    SP.POP.TOTL  9.140176e+07  9.223274e+07  9.300950e+07  9.384002e+07  9.471580e+07  9.544099e+07  9.614634e+07  9.704327e+07  9.788402e+07  9.860663e+07   \n",
            "49           CSS  \"Population, total\"    SP.POP.TOTL  4.194711e+06  4.274052e+06  4.353623e+06  4.432240e+06  4.508189e+06  4.580382e+06  4.648353e+06  4.712556e+06  4.773890e+06  4.833839e+06   \n",
            "61           EAP  \"Population, total\"    SP.POP.TOTL  8.948758e+08  8.944795e+08  9.064139e+08  9.296347e+08  9.524942e+08  9.763606e+08  1.003800e+09  1.030341e+09  1.057849e+09  1.087055e+09   \n",
            "62           EAR  \"Population, total\"    SP.POP.TOTL  9.800033e+08  1.003195e+09  1.027205e+09  1.051973e+09  1.077531e+09  1.103860e+09  1.130948e+09  1.158861e+09  1.187475e+09  1.216839e+09   \n",
            "63           EAS  \"Population, total\"    SP.POP.TOTL  1.041674e+09  1.043657e+09  1.058120e+09  1.083884e+09  1.109291e+09  1.135760e+09  1.165661e+09  1.194424e+09  1.224481e+09  1.256502e+09   \n",
            "64           ECA  \"Population, total\"    SP.POP.TOTL  2.746472e+08  2.789316e+08  2.832389e+08  2.875647e+08  2.918789e+08  2.961271e+08  2.997131e+08  3.033670e+08  3.069345e+08  3.104330e+08   \n",
            "65           ECS  \"Population, total\"    SP.POP.TOTL  6.667534e+08  6.744507e+08  6.823978e+08  6.904117e+08  6.983556e+08  7.060705e+08  7.128303e+08  7.194060e+08  7.257253e+08  7.319037e+08   \n",
            "68           EMU  \"Population, total\"    SP.POP.TOTL  2.652040e+08  2.676211e+08  2.701101e+08  2.726554e+08  2.751634e+08  2.776510e+08  2.799690e+08  2.819749e+08  2.838664e+08  2.857786e+08   \n",
            "73           EUU  \"Population, total\"    SP.POP.TOTL  3.569061e+08  3.599984e+08  3.632005e+08  3.665165e+08  3.698502e+08  3.730327e+08  3.760391e+08  3.789180e+08  3.816054e+08  3.842170e+08   \n",
            "74           FCS  \"Population, total\"    SP.POP.TOTL  2.082801e+08  2.130821e+08  2.180871e+08  2.232846e+08  2.286706e+08  2.342432e+08  2.400051e+08  2.459622e+08  2.521164e+08  2.584732e+08   \n",
            "95           HIC  \"Population, total\"    SP.POP.TOTL  7.597836e+08  7.694994e+08  7.794653e+08  7.893589e+08  7.991598e+08  8.085966e+08  8.174268e+08  8.256990e+08  8.338955e+08  8.422609e+08   \n",
            "98           HPC  \"Population, total\"    SP.POP.TOTL  1.617343e+08  1.655731e+08  1.695671e+08  1.737229e+08  1.780481e+08  1.825488e+08  1.872276e+08  1.920847e+08  1.971194e+08  2.023300e+08   \n",
            "102          IBD  \"Population, total\"    SP.POP.TOTL  1.919643e+09  1.940357e+09  1.974019e+09  2.019554e+09  2.065153e+09  2.111931e+09  2.161881e+09  2.211446e+09  2.262350e+09  2.315408e+09   \n",
            "103          IBT  \"Population, total\"    SP.POP.TOTL  2.299245e+09  2.329155e+09  2.372381e+09  2.427869e+09  2.483840e+09  2.541415e+09  2.602627e+09  2.663896e+09  2.726851e+09  2.792171e+09   \n",
            "104          IDA  \"Population, total\"    SP.POP.TOTL  3.796021e+08  3.887977e+08  3.983617e+08  4.083157e+08  4.186865e+08  4.294836e+08  4.407455e+08  4.524495e+08  4.645003e+08  4.767636e+08   \n",
            "105          IDB  \"Population, total\"    SP.POP.TOTL  1.203916e+08  1.232710e+08  1.262898e+08  1.294438e+08  1.327267e+08  1.361343e+08  1.396730e+08  1.433479e+08  1.471548e+08  1.510873e+08   \n",
            "107          IDX  \"Population, total\"    SP.POP.TOTL  2.592104e+08  2.655267e+08  2.720719e+08  2.788719e+08  2.859599e+08  2.933493e+08  3.010726e+08  3.091017e+08  3.173455e+08  3.256762e+08   \n",
            "128          LAC  \"Population, total\"    SP.POP.TOTL  1.971235e+08  2.026354e+08  2.083200e+08  2.141521e+08  2.200967e+08  2.261270e+08  2.322339e+08  2.384181e+08  2.446741e+08  2.509994e+08   \n",
            "134          LCN  \"Population, total\"    SP.POP.TOTL  2.198288e+08  2.259127e+08  2.321833e+08  2.386127e+08  2.451477e+08  2.517606e+08  2.584406e+08  2.651879e+08  2.720069e+08  2.788983e+08   \n",
            "135          LDC  \"Population, total\"    SP.POP.TOTL  2.405184e+08  2.461136e+08  2.519007e+08  2.579080e+08  2.641741e+08  2.707209e+08  2.775731e+08  2.847086e+08  2.920460e+08  2.994737e+08   \n",
            "136          LIC  \"Population, total\"    SP.POP.TOTL  1.377824e+08  1.408484e+08  1.439910e+08  1.472467e+08  1.506683e+08  1.542925e+08  1.581317e+08  1.621695e+08  1.663781e+08  1.707165e+08   \n",
            "139          LMC  \"Population, total\"    SP.POP.TOTL  9.899840e+08  1.012695e+09  1.036175e+09  1.060393e+09  1.085299e+09  1.110853e+09  1.137057e+09  1.163923e+09  1.191458e+09  1.219674e+09   \n",
            "140          LMY  \"Population, total\"    SP.POP.TOTL  2.264231e+09  2.293657e+09  2.336353e+09  2.391244e+09  2.446617e+09  2.503758e+09  2.564648e+09  2.625561e+09  2.688185e+09  2.753245e+09   \n",
            "142          LTE  \"Population, total\"    SP.POP.TOTL  1.096903e+09  1.099285e+09  1.113928e+09  1.139890e+09  1.165421e+09  1.191679e+09  1.220687e+09  1.248851e+09  1.277803e+09  1.308226e+09   \n",
            "153          MEA  \"Population, total\"    SP.POP.TOTL  1.052032e+08  1.080618e+08  1.110454e+08  1.141016e+08  1.172712e+08  1.205412e+08  1.239082e+08  1.274449e+08  1.310269e+08  1.347042e+08   \n",
            "156          MIC  \"Population, total\"    SP.POP.TOTL  2.126448e+09  2.152809e+09  2.192362e+09  2.243998e+09  2.295949e+09  2.349465e+09  2.406517e+09  2.463391e+09  2.521807e+09  2.582528e+09   \n",
            "161          MNA  \"Population, total\"    SP.POP.TOTL  9.755314e+07  1.001471e+08  1.028080e+08  1.055462e+08  1.083763e+08  1.113078e+08  1.143518e+08  1.175038e+08  1.207392e+08  1.240233e+08   \n",
            "170          NAC  \"Population, total\"    SP.POP.TOTL  1.986244e+08  2.020075e+08  2.051986e+08  2.082537e+08  2.112629e+08  2.140311e+08  2.166590e+08  2.191760e+08  2.215030e+08  2.237590e+08   \n",
            "181          OED  \"Population, total\"    SP.POP.TOTL  8.094132e+08  8.206904e+08  8.322041e+08  8.437000e+08  8.551874e+08  8.663579e+08  8.770349e+08  8.874333e+08  8.976195e+08  9.078483e+08   \n",
            "183          OSS  \"Population, total\"    SP.POP.TOTL  9.151857e+06  9.315834e+06  9.485194e+06  9.659416e+06  9.840401e+06  1.002602e+07  1.021428e+07  1.040601e+07  1.060622e+07  1.081372e+07   \n",
            "191          PRE  \"Population, total\"    SP.POP.TOTL  1.876171e+08  1.918897e+08  1.963491e+08  2.009977e+08  2.058354e+08  2.108650e+08  2.160962e+08  2.215399e+08  2.272018e+08  2.330872e+08   \n",
            "197          PSS  \"Population, total\"    SP.POP.TOTL  8.650640e+05  8.933940e+05  9.233200e+05  9.540980e+05  9.848240e+05  1.014633e+06  1.043365e+06  1.071166e+06  1.098151e+06  1.124577e+06   \n",
            "198          PST  \"Population, total\"    SP.POP.TOTL  7.552298e+08  7.644235e+08  7.738560e+08  7.831418e+08  7.922640e+08  8.010987e+08  8.093632e+08  8.171799e+08  8.247333e+08  8.322809e+08   \n",
            "204          SAS  \"Population, total\"    SP.POP.TOTL  5.728395e+08  5.849397e+08  5.974944e+08  6.104983e+08  6.239433e+08  6.378232e+08  6.521442e+08  6.669086e+08  6.821022e+08  6.977061e+08   \n",
            "215          SSA  \"Population, total\"    SP.POP.TOTL  2.271915e+08  2.325241e+08  2.380776e+08  2.438482e+08  2.498273e+08  2.560123e+08  2.624058e+08  2.690225e+08  2.758864e+08  2.830281e+08   \n",
            "217          SSF  \"Population, total\"    SP.POP.TOTL  2.272332e+08  2.325670e+08  2.381216e+08  2.438934e+08  2.498737e+08  2.560598e+08  2.624545e+08  2.690724e+08  2.759375e+08  2.830805e+08   \n",
            "218          SST  \"Population, total\"    SP.POP.TOTL  1.421163e+07  1.448328e+07  1.476214e+07  1.504575e+07  1.533341e+07  1.562104e+07  1.590600e+07  1.618973e+07  1.647826e+07  1.677214e+07   \n",
            "230          TEA  \"Population, total\"    SP.POP.TOTL  8.834456e+08  8.828080e+08  8.945362e+08  9.175631e+08  9.402053e+08  9.638062e+08  9.909274e+08  1.017111e+09  1.044231e+09  1.073036e+09   \n",
            "231          TEC  \"Population, total\"    SP.POP.TOTL  3.084249e+08  3.130629e+08  3.177442e+08  3.225024e+08  3.272712e+08  3.318529e+08  3.357048e+08  3.396928e+08  3.435948e+08  3.473728e+08   \n",
            "236          TLA  \"Population, total\"    SP.POP.TOTL  2.097490e+08  2.156300e+08  2.216762e+08  2.278661e+08  2.341700e+08  2.405649e+08  2.470442e+08  2.536075e+08  2.602461e+08  2.669529e+08   \n",
            "238          TMN  \"Population, total\"    SP.POP.TOTL  9.755314e+07  1.001471e+08  1.028080e+08  1.055462e+08  1.083763e+08  1.113078e+08  1.143518e+08  1.175038e+08  1.207392e+08  1.240233e+08   \n",
            "240          TSA  \"Population, total\"    SP.POP.TOTL  5.728395e+08  5.849397e+08  5.974944e+08  6.104983e+08  6.239433e+08  6.378232e+08  6.521442e+08  6.669086e+08  6.821022e+08  6.977061e+08   \n",
            "241          TSS  \"Population, total\"    SP.POP.TOTL  2.272332e+08  2.325670e+08  2.381216e+08  2.438934e+08  2.498737e+08  2.560598e+08  2.624545e+08  2.690724e+08  2.759375e+08  2.830805e+08   \n",
            "249          UMC  \"Population, total\"    SP.POP.TOTL  1.136464e+09  1.140114e+09  1.156187e+09  1.183604e+09  1.210649e+09  1.238613e+09  1.269459e+09  1.299469e+09  1.330349e+09  1.362854e+09   \n",
            "254          VEN  \"Population, total\"    SP.POP.TOTL  8.141839e+06  8.439261e+06  8.742780e+06  9.052632e+06  9.369101e+06  9.692281e+06  1.002259e+07  1.035974e+07  1.070228e+07  1.104826e+07   \n",
            "259          WLD  \"Population, total\"    SP.POP.TOTL  3.032156e+09  3.071596e+09  3.124561e+09  3.189656e+09  3.255146e+09  3.322047e+09  3.392098e+09  3.461620e+09  3.532783e+09  3.606554e+09   \n",
            "\n",
            "             1970          1971          1972          1973          1974          1975          1976          1977          1978          1979          1980          1981          1982  \\\n",
            "1    1.702572e+08  1.751002e+08  1.801411e+08  1.853766e+08  1.908008e+08  1.964099e+08  2.022058e+08  2.081930e+08  2.143684e+08  2.207404e+08  2.273059e+08  2.340584e+08  2.409991e+08   \n",
            "3    1.202690e+08  1.231843e+08  1.262185e+08  1.293850e+08  1.326995e+08  1.361735e+08  1.398132e+08  1.436157e+08  1.475711e+08  1.516639e+08  1.558823e+08  1.602236e+08  1.646898e+08   \n",
            "7    1.217856e+08  1.251647e+08  1.285987e+08  1.321613e+08  1.359523e+08  1.400406e+08  1.444533e+08  1.491618e+08  1.541112e+08  1.592185e+08  1.644208e+08  1.696990e+08  1.750618e+08   \n",
            "36   9.913455e+07  9.963526e+07  1.003572e+08  1.011127e+08  1.019399e+08  1.028606e+08  1.037761e+08  1.046169e+08  1.053294e+08  1.059486e+08  1.065413e+08  1.071294e+08  1.077304e+08   \n",
            "49   4.893444e+06  4.953088e+06  5.012600e+06  5.071912e+06  5.130797e+06  5.189174e+06  5.246547e+06  5.303289e+06  5.360562e+06  5.419911e+06  5.482191e+06  5.548521e+06  5.617902e+06   \n",
            "61   1.117163e+09  1.147907e+09  1.176909e+09  1.204956e+09  1.231481e+09  1.255568e+09  1.277787e+09  1.298403e+09  1.318986e+09  1.339875e+09  1.360437e+09  1.381732e+09  1.405389e+09   \n",
            "62   1.246948e+09  1.277799e+09  1.309397e+09  1.341780e+09  1.374825e+09  1.408535e+09  1.442863e+09  1.477870e+09  1.513820e+09  1.551093e+09  1.589897e+09  1.630293e+09  1.672135e+09   \n",
            "63   1.289442e+09  1.324085e+09  1.355935e+09  1.386817e+09  1.416257e+09  1.442992e+09  1.467573e+09  1.490458e+09  1.513242e+09  1.536455e+09  1.559220e+09  1.582803e+09  1.608710e+09   \n",
            "64   3.139413e+08  3.174457e+08  3.209452e+08  3.244223e+08  3.279168e+08  3.314318e+08  3.351009e+08  3.387105e+08  3.422801e+08  3.458280e+08  3.494362e+08  3.531226e+08  3.566783e+08   \n",
            "65   7.375248e+08  7.431406e+08  7.492836e+08  7.552595e+08  7.610294e+08  7.666256e+08  7.721293e+08  7.774221e+08  7.826539e+08  7.879109e+08  7.932995e+08  7.985598e+08  8.033427e+08   \n",
            "68   2.873389e+08  2.889234e+08  2.908746e+08  2.927282e+08  2.943992e+08  2.959235e+08  2.972515e+08  2.984418e+08  2.996528e+08  3.008865e+08  3.021842e+08  3.033431e+08  3.041743e+08   \n",
            "73   3.863229e+08  3.883919e+08  3.909950e+08  3.935247e+08  3.959494e+08  3.983166e+08  4.004735e+08  4.024255e+08  4.042718e+08  4.060519e+08  4.078758e+08  4.095519e+08  4.108956e+08   \n",
            "74   2.650372e+08  2.718003e+08  2.787676e+08  2.859612e+08  2.934177e+08  3.011544e+08  3.091965e+08  3.175208e+08  3.260506e+08  3.346797e+08  3.433342e+08  3.520068e+08  3.607364e+08   \n",
            "95   8.505634e+08  8.605600e+08  8.693137e+08  8.778051e+08  8.861410e+08  8.942277e+08  9.017321e+08  9.091399e+08  9.166118e+08  9.244500e+08  9.320753e+08  9.396812e+08  9.469048e+08   \n",
            "98   2.077143e+08  2.132726e+08  2.190043e+08  2.249053e+08  2.309703e+08  2.371950e+08  2.435909e+08  2.501603e+08  2.568808e+08  2.637216e+08  2.706685e+08  2.777192e+08  2.849052e+08   \n",
            "102  2.369907e+09  2.425733e+09  2.480636e+09  2.535259e+09  2.589036e+09  2.641036e+09  2.691930e+09  2.741760e+09  2.792103e+09  2.843437e+09  2.895271e+09  2.948643e+09  3.004915e+09   \n",
            "103  2.859058e+09  2.927365e+09  2.994908e+09  3.062460e+09  3.129648e+09  3.195675e+09  3.261264e+09  3.326429e+09  3.392709e+09  3.460519e+09  3.529316e+09  3.600137e+09  3.674371e+09   \n",
            "104  4.891510e+08  5.016316e+08  5.142724e+08  5.272005e+08  5.406119e+08  5.546387e+08  5.693339e+08  5.846688e+08  6.006063e+08  6.170824e+08  6.340449e+08  6.514936e+08  6.694557e+08   \n",
            "105  1.551458e+08  1.593237e+08  1.636360e+08  1.681298e+08  1.728673e+08  1.778920e+08  1.832219e+08  1.888418e+08  1.947206e+08  2.008105e+08  2.070749e+08  2.134997e+08  2.200884e+08   \n",
            "107  3.340052e+08  3.423079e+08  3.506364e+08  3.590708e+08  3.677446e+08  3.767467e+08  3.861120e+08  3.958269e+08  4.058858e+08  4.162718e+08  4.269699e+08  4.379939e+08  4.493673e+08   \n",
            "128  2.573927e+08  2.638495e+08  2.703684e+08  2.769562e+08  2.836226e+08  2.903743e+08  2.972073e+08  3.041203e+08  3.111259e+08  3.182403e+08  3.254705e+08  3.328196e+08  3.402725e+08   \n",
            "134  2.858674e+08  2.929139e+08  3.000289e+08  3.072248e+08  3.145085e+08  3.218837e+08  3.293481e+08  3.368979e+08  3.445531e+08  3.523207e+08  3.602118e+08  3.682207e+08  3.763373e+08   \n",
            "135  3.069169e+08  3.143451e+08  3.217979e+08  3.293577e+08  3.371429e+08  3.452427e+08  3.536914e+08  3.624752e+08  3.715774e+08  3.809634e+08  3.906125e+08  4.005290e+08  4.107406e+08   \n",
            "136  1.751543e+08  1.796819e+08  1.843068e+08  1.890354e+08  1.938800e+08  1.988492e+08  2.039555e+08  2.091956e+08  2.145443e+08  2.199668e+08  2.254451e+08  2.309767e+08  2.365932e+08   \n",
            "139  1.248583e+09  1.278209e+09  1.308582e+09  1.339745e+09  1.371761e+09  1.404677e+09  1.438472e+09  1.473162e+09  1.508876e+09  1.545786e+09  1.583984e+09  1.623541e+09  1.664224e+09   \n",
            "140  2.820016e+09  2.888211e+09  2.955489e+09  3.022726e+09  3.089529e+09  3.155090e+09  3.220128e+09  3.284682e+09  3.350363e+09  3.417557e+09  3.485706e+09  3.555885e+09  3.629465e+09   \n",
            "142  1.339320e+09  1.370950e+09  1.400911e+09  1.429902e+09  1.457476e+09  1.482810e+09  1.506612e+09  1.528867e+09  1.551073e+09  1.573488e+09  1.595481e+09  1.618039e+09  1.642765e+09   \n",
            "153  1.384731e+08  1.423079e+08  1.462134e+08  1.502923e+08  1.545098e+08  1.589173e+08  1.635323e+08  1.683610e+08  1.734470e+08  1.788663e+08  1.846286e+08  1.907314e+08  1.971572e+08   \n",
            "156  2.644862e+09  2.708529e+09  2.771183e+09  2.833690e+09  2.895649e+09  2.956241e+09  3.016172e+09  3.075487e+09  3.135819e+09  3.197590e+09  3.260261e+09  3.324908e+09  3.392872e+09   \n",
            "161  1.273351e+08  1.306707e+08  1.340510e+08  1.375112e+08  1.410996e+08  1.448557e+08  1.487819e+08  1.528812e+08  1.571922e+08  1.617614e+08  1.666164e+08  1.717660e+08  1.771857e+08   \n",
            "170  2.264310e+08  2.296776e+08  2.321687e+08  2.344546e+08  2.367154e+08  2.391693e+08  2.415380e+08  2.440182e+08  2.466018e+08  2.493103e+08  2.517953e+08  2.543410e+08  2.568364e+08   \n",
            "181  9.179707e+08  9.299594e+08  9.407472e+08  9.512452e+08  9.615645e+08  9.716642e+08  9.811550e+08  9.905178e+08  9.999244e+08  1.009489e+09  1.018954e+09  1.028315e+09  1.037310e+09   \n",
            "183  1.102916e+07  1.125519e+07  1.148807e+07  1.172534e+07  1.196806e+07  1.221942e+07  1.247500e+07  1.273770e+07  1.300802e+07  1.329482e+07  1.359855e+07  1.391715e+07  1.425328e+07   \n",
            "191  2.392049e+08  2.455380e+08  2.520979e+08  2.589534e+08  2.661952e+08  2.738779e+08  2.820496e+08  2.906650e+08  2.995700e+08  3.085515e+08  3.174625e+08  3.262577e+08  3.350038e+08   \n",
            "197  1.150712e+06  1.176559e+06  1.202128e+06  1.227653e+06  1.253371e+06  1.279519e+06  1.306023e+06  1.332876e+06  1.360542e+06  1.389594e+06  1.420314e+06  1.453209e+06  1.487849e+06   \n",
            "198  8.398220e+08  8.491639e+08  8.570794e+08  8.646097e+08  8.719288e+08  8.788906e+08  8.851459e+08  8.912518e+08  8.973919e+08  9.037884e+08  9.098906e+08  9.159716e+08  9.215119e+08   \n",
            "204  7.137114e+08  7.301077e+08  7.469117e+08  7.641750e+08  7.819666e+08  8.003356e+08  8.192925e+08  8.388199e+08  8.589017e+08  8.795108e+08  9.006206e+08  9.222266e+08  9.443152e+08   \n",
            "215  2.904726e+08  2.982298e+08  3.063036e+08  3.147046e+08  3.234424e+08  3.325242e+08  3.419584e+08  3.517470e+08  3.618773e+08  3.723416e+08  3.831250e+08  3.942180e+08  4.056245e+08   \n",
            "217  2.905262e+08  2.982845e+08  3.063596e+08  3.147615e+08  3.235003e+08  3.325835e+08  3.420189e+08  3.518088e+08  3.619395e+08  3.724042e+08  3.831882e+08  3.942820e+08  4.056889e+08   \n",
            "218  1.707332e+07  1.738484e+07  1.770280e+07  1.802490e+07  1.835222e+07  1.868811e+07  1.902758e+07  1.937386e+07  1.972912e+07  2.010433e+07  2.050105e+07  2.091888e+07  2.135904e+07   \n",
            "230  1.102744e+09  1.133089e+09  1.161692e+09  1.189353e+09  1.215520e+09  1.239284e+09  1.261222e+09  1.281596e+09  1.301958e+09  1.322627e+09  1.342952e+09  1.363987e+09  1.387366e+09   \n",
            "231  3.510179e+08  3.546605e+08  3.584514e+08  3.622497e+08  3.660863e+08  3.699591e+08  3.739931e+08  3.779591e+08  3.818268e+08  3.856700e+08  3.896101e+08  3.936327e+08  3.975430e+08   \n",
            "236  2.737240e+08  2.805529e+08  2.874425e+08  2.944090e+08  3.014755e+08  3.086578e+08  3.159552e+08  3.233636e+08  3.308908e+08  3.385453e+08  3.463282e+08  3.542420e+08  3.622720e+08   \n",
            "238  1.273351e+08  1.306707e+08  1.340510e+08  1.375112e+08  1.410996e+08  1.448557e+08  1.487819e+08  1.528812e+08  1.571922e+08  1.617614e+08  1.666164e+08  1.717660e+08  1.771857e+08   \n",
            "240  7.137114e+08  7.301077e+08  7.469117e+08  7.641750e+08  7.819666e+08  8.003356e+08  8.192925e+08  8.388199e+08  8.589017e+08  8.795108e+08  9.006206e+08  9.222266e+08  9.443152e+08   \n",
            "241  2.905262e+08  2.982845e+08  3.063596e+08  3.147615e+08  3.235003e+08  3.325835e+08  3.420189e+08  3.518088e+08  3.619395e+08  3.724042e+08  3.831882e+08  3.942820e+08  4.056889e+08   \n",
            "249  1.396278e+09  1.430320e+09  1.462601e+09  1.493945e+09  1.523888e+09  1.551563e+09  1.577701e+09  1.602325e+09  1.626942e+09  1.651805e+09  1.676276e+09  1.701368e+09  1.728648e+09   \n",
            "254  1.139640e+07  1.174595e+07  1.209770e+07  1.245371e+07  1.281695e+07  1.318951e+07  1.357221e+07  1.396438e+07  1.436473e+07  1.477127e+07  1.518262e+07  1.559788e+07  1.601757e+07   \n",
            "259  3.681976e+09  3.760517e+09  3.836901e+09  3.912984e+09  3.988487e+09  4.062507e+09  4.135432e+09  4.207786e+09  4.281339e+09  4.356778e+09  4.432964e+09  4.511164e+09  4.592387e+09   \n",
            "\n",
            "             1983          1984          1985          1986          1987          1988          1989          1990          1991          1992          1993          1994          1995  \\\n",
            "1    2.481463e+08  2.555301e+08  2.631615e+08  2.710501e+08  2.791845e+08  2.875243e+08  2.960246e+08  3.046480e+08  3.133947e+08  3.222701e+08  3.312656e+08  3.403799e+08  3.496057e+08   \n",
            "3    1.692794e+08  1.739919e+08  1.788266e+08  1.837856e+08  1.888686e+08  1.940701e+08  1.993828e+08  2.048039e+08  2.103323e+08  2.159764e+08  2.217548e+08  2.276921e+08  2.338076e+08   \n",
            "7    1.805060e+08  1.860353e+08  1.916503e+08  1.973381e+08  2.030850e+08  2.088897e+08  2.147540e+08  2.226534e+08  2.287317e+08  2.329564e+08  2.392433e+08  2.454494e+08  2.531073e+08   \n",
            "36   1.082978e+08  1.088381e+08  1.093383e+08  1.098242e+08  1.102964e+08  1.106867e+08  1.108016e+08  1.107431e+08  1.104695e+08  1.101115e+08  1.100419e+08  1.100216e+08  1.098642e+08   \n",
            "49   5.687113e+06  5.751508e+06  5.808206e+06  5.855445e+06  5.894820e+06  5.930153e+06  5.967028e+06  6.009262e+06  6.058334e+06  6.112784e+06  6.170324e+06  6.227332e+06  6.281204e+06   \n",
            "61   1.429179e+09  1.451902e+09  1.475340e+09  1.500310e+09  1.526774e+09  1.553548e+09  1.579666e+09  1.605188e+09  1.629632e+09  1.652528e+09  1.674580e+09  1.696464e+09  1.717902e+09   \n",
            "62   1.715134e+09  1.758863e+09  1.803033e+09  1.847527e+09  1.892336e+09  1.937279e+09  1.982160e+09  2.028994e+09  2.073591e+09  2.117786e+09  2.161762e+09  2.205759e+09  2.249994e+09   \n",
            "63   1.634588e+09  1.659196e+09  1.684378e+09  1.710980e+09  1.739050e+09  1.767395e+09  1.795112e+09  1.822134e+09  1.848265e+09  1.872677e+09  1.896191e+09  1.919577e+09  1.942464e+09   \n",
            "64   3.602042e+08  3.639752e+08  3.677395e+08  3.714797e+08  3.752273e+08  3.788375e+08  3.820767e+08  3.843775e+08  3.864378e+08  3.881256e+08  3.895169e+08  3.902763e+08  3.905722e+08   \n",
            "65   8.079039e+08  8.126622e+08  8.174978e+08  8.224700e+08  8.275053e+08  8.325534e+08  8.374386e+08  8.415205e+08  8.453993e+08  8.488779e+08  8.519740e+08  8.540826e+08  8.554913e+08   \n",
            "68   3.047875e+08  3.052991e+08  3.058777e+08  3.066406e+08  3.074884e+08  3.085165e+08  3.098376e+08  3.112626e+08  3.127081e+08  3.141621e+08  3.154491e+08  3.163668e+08  3.171815e+08   \n",
            "73   4.119744e+08  4.129313e+08  4.139245e+08  4.150764e+08  4.163018e+08  4.176530e+08  4.190731e+08  4.204780e+08  4.217305e+08  4.229639e+08  4.243411e+08  4.253991e+08  4.262034e+08   \n",
            "74   3.695695e+08  3.785704e+08  3.878022e+08  3.972350e+08  4.068925e+08  4.169473e+08  4.276170e+08  4.409370e+08  4.533193e+08  4.664828e+08  4.801282e+08  4.938157e+08  5.072475e+08   \n",
            "95   9.536884e+08  9.601113e+08  9.665637e+08  9.731883e+08  9.798749e+08  9.867027e+08  9.939664e+08  1.001678e+09  1.010166e+09  1.016514e+09  1.024551e+09  1.032036e+09  1.040720e+09   \n",
            "98   2.922904e+08  2.999595e+08  3.079803e+08  3.163582e+08  3.250951e+08  3.342492e+08  3.438875e+08  3.540473e+08  3.647822e+08  3.760559e+08  3.877051e+08  3.995040e+08  4.112986e+08   \n",
            "102  3.061810e+09  3.118213e+09  3.175485e+09  3.234353e+09  3.294790e+09  3.355392e+09  3.414926e+09  3.472779e+09  3.529273e+09  3.583654e+09  3.636954e+09  3.689445e+09  3.740822e+09   \n",
            "103  3.749765e+09  3.825226e+09  3.902132e+09  3.981207e+09  4.062409e+09  4.144330e+09  4.225752e+09  4.306143e+09  4.385564e+09  4.463428e+09  4.540599e+09  4.617237e+09  4.693044e+09   \n",
            "104  6.879551e+08  7.070130e+08  7.266468e+08  7.468537e+08  7.676191e+08  7.889381e+08  8.108256e+08  8.333640e+08  8.562908e+08  8.797743e+08  9.036457e+08  9.277926e+08  9.522225e+08   \n",
            "105  2.268419e+08  2.337658e+08  2.408607e+08  2.481278e+08  2.555519e+08  2.630975e+08  2.707190e+08  2.784966e+08  2.861425e+08  2.938749e+08  3.016798e+08  3.095681e+08  3.176161e+08   \n",
            "107  4.611132e+08  4.732472e+08  4.857862e+08  4.987259e+08  5.120672e+08  5.258406e+08  5.401066e+08  5.548674e+08  5.701482e+08  5.858993e+08  6.019659e+08  6.182245e+08  6.346063e+08   \n",
            "128  3.477922e+08  3.553316e+08  3.628548e+08  3.703460e+08  3.778063e+08  3.852367e+08  3.926448e+08  4.000341e+08  4.073941e+08  4.147136e+08  4.219951e+08  4.292461e+08  4.364702e+08   \n",
            "134  3.845277e+08  3.927508e+08  4.009749e+08  4.091840e+08  4.173762e+08  4.255499e+08  4.337087e+08  4.418558e+08  4.499687e+08  4.580415e+08  4.660823e+08  4.740896e+08  4.820601e+08   \n",
            "135  4.212792e+08  4.321853e+08  4.434913e+08  4.551937e+08  4.672905e+08  4.798140e+08  4.928030e+08  5.062756e+08  5.202624e+08  5.347310e+08  5.495593e+08  5.645811e+08  5.796817e+08   \n",
            "136  2.423551e+08  2.483431e+08  2.546224e+08  2.612017e+08  2.680846e+08  2.753221e+08  2.829722e+08  2.910687e+08  2.996564e+08  3.087090e+08  3.181018e+08  3.276601e+08  3.372650e+08   \n",
            "139  1.705941e+09  1.748404e+09  1.791342e+09  1.834732e+09  1.878530e+09  1.922581e+09  1.966720e+09  2.012725e+09  2.056480e+09  2.100112e+09  2.143452e+09  2.186470e+09  2.229482e+09   \n",
            "140  3.704199e+09  3.779009e+09  3.855294e+09  3.933788e+09  4.014449e+09  4.095886e+09  4.176844e+09  4.258736e+09  4.337877e+09  4.415505e+09  4.492317e+09  4.568576e+09  4.644103e+09   \n",
            "142  1.667457e+09  1.691256e+09  1.715763e+09  1.741726e+09  1.769124e+09  1.796650e+09  1.823252e+09  1.848477e+09  1.872533e+09  1.892668e+09  1.913822e+09  1.934465e+09  1.955853e+09   \n",
            "153  2.038342e+08  2.106488e+08  2.175728e+08  2.245498e+08  2.315701e+08  2.385651e+08  2.454532e+08  2.542151e+08  2.610463e+08  2.656566e+08  2.721079e+08  2.783850e+08  2.860970e+08   \n",
            "156  3.461844e+09  3.530666e+09  3.600671e+09  3.672586e+09  3.746364e+09  3.820564e+09  3.893872e+09  3.967667e+09  4.038221e+09  4.106796e+09  4.174216e+09  4.240915e+09  4.306838e+09   \n",
            "161  1.828253e+08  1.886147e+08  1.944942e+08  2.004435e+08  2.064475e+08  2.124569e+08  2.184158e+08  2.262590e+08  2.321014e+08  2.378287e+08  2.434293e+08  2.488973e+08  2.542333e+08   \n",
            "170  2.592144e+08  2.614885e+08  2.638230e+08  2.662907e+08  2.687934e+08  2.713491e+08  2.741546e+08  2.773735e+08  2.810774e+08  2.849439e+08  2.886627e+08  2.921860e+08  2.956401e+08   \n",
            "181  1.045955e+09  1.054257e+09  1.062613e+09  1.071150e+09  1.079711e+09  1.088387e+09  1.097531e+09  1.107197e+09  1.117821e+09  1.128350e+09  1.138363e+09  1.147749e+09  1.156880e+09   \n",
            "183  1.460017e+07  1.496237e+07  1.534757e+07  1.575449e+07  1.618021e+07  1.661005e+07  1.703150e+07  1.743078e+07  1.781381e+07  1.815658e+07  1.847608e+07  1.880109e+07  1.912504e+07   \n",
            "191  3.438061e+08  3.528221e+08  3.621776e+08  3.718787e+08  3.819184e+08  3.923931e+08  4.034162e+08  4.150574e+08  4.273985e+08  4.403977e+08  4.538497e+08  4.674653e+08  4.810495e+08   \n",
            "197  1.522650e+06  1.555395e+06  1.584644e+06  1.609572e+06  1.630869e+06  1.650438e+06  1.670962e+06  1.694327e+06  1.721236e+06  1.750932e+06  1.782085e+06  1.812838e+06  1.841674e+06   \n",
            "198  9.266148e+08  9.314104e+08  9.362413e+08  9.413762e+08  9.466713e+08  9.521735e+08  9.580817e+08  9.641739e+08  9.709978e+08  9.778789e+08  9.843749e+08  9.900743e+08  9.953106e+08   \n",
            "204  9.668365e+08  9.897283e+08  1.012942e+09  1.036438e+09  1.060209e+09  1.084281e+09  1.108702e+09  1.133495e+09  1.158656e+09  1.184133e+09  1.209848e+09  1.235694e+09  1.261588e+09   \n",
            "215  4.173614e+08  4.294572e+08  4.419228e+08  4.547700e+08  4.679846e+08  4.815256e+08  4.953383e+08  5.093824e+08  5.236565e+08  5.381757e+08  5.529481e+08  5.679979e+08  5.833380e+08   \n",
            "217  4.174257e+08  4.295219e+08  4.419880e+08  4.548357e+08  4.680531e+08  4.815943e+08  4.954074e+08  5.094519e+08  5.237270e+08  5.382464e+08  5.530204e+08  5.680721e+08  5.834133e+08   \n",
            "218  2.180993e+07  2.226927e+07  2.274042e+07  2.321951e+07  2.370590e+07  2.419064e+07  2.466950e+07  2.513437e+07  2.559338e+07  2.602030e+07  2.642849e+07  2.684126e+07  2.724792e+07   \n",
            "230  1.410866e+09  1.433295e+09  1.456445e+09  1.481135e+09  1.507323e+09  1.533819e+09  1.559651e+09  1.584872e+09  1.608999e+09  1.631567e+09  1.653290e+09  1.674861e+09  1.696014e+09   \n",
            "231  4.014343e+08  4.055597e+08  4.096428e+08  4.136573e+08  4.176350e+08  4.214172e+08  4.248054e+08  4.272656e+08  4.293730e+08  4.310651e+08  4.325788e+08  4.334710e+08  4.337872e+08   \n",
            "236  3.703774e+08  3.785061e+08  3.866191e+08  3.946972e+08  4.027421e+08  4.107610e+08  4.187699e+08  4.267779e+08  4.347767e+08  4.427510e+08  4.506959e+08  4.586081e+08  4.664831e+08   \n",
            "238  1.828253e+08  1.886147e+08  1.944942e+08  2.004435e+08  2.064475e+08  2.124569e+08  2.184158e+08  2.242808e+08  2.300326e+08  2.356651e+08  2.411666e+08  2.465310e+08  2.517587e+08   \n",
            "240  9.668365e+08  9.897283e+08  1.012942e+09  1.036438e+09  1.060209e+09  1.084281e+09  1.108702e+09  1.133495e+09  1.158656e+09  1.184133e+09  1.209848e+09  1.235694e+09  1.261588e+09   \n",
            "241  4.174257e+08  4.295219e+08  4.419880e+08  4.548357e+08  4.680531e+08  4.815943e+08  4.954074e+08  5.094519e+08  5.237270e+08  5.382464e+08  5.530204e+08  5.680721e+08  5.834133e+08   \n",
            "249  1.755902e+09  1.782262e+09  1.809329e+09  1.837854e+09  1.867834e+09  1.897983e+09  1.927152e+09  1.954942e+09  1.981741e+09  2.006685e+09  2.030764e+09  2.054445e+09  2.077356e+09   \n",
            "254  1.644313e+07  1.687670e+07  1.731951e+07  1.777200e+07  1.823273e+07  1.869885e+07  1.916647e+07  1.963266e+07  2.009631e+07  2.055769e+07  2.101690e+07  2.147455e+07  2.193109e+07   \n",
            "259  4.674330e+09  4.755997e+09  4.839177e+09  4.924748e+09  5.012556e+09  5.101288e+09  5.189977e+09  5.280046e+09  5.368139e+09  5.452576e+09  5.537886e+09  5.622086e+09  5.706754e+09   \n",
            "\n",
            "             1996          1997          1998          1999          2000          2001          2002          2003          2004          2005          2006          2007          2008  \\\n",
            "1    3.589536e+08  3.684406e+08  3.780984e+08  3.879780e+08  3.981130e+08  4.085221e+08  4.192237e+08  4.302466e+08  4.416301e+08  4.534041e+08  4.655814e+08  4.781669e+08  4.911732e+08   \n",
            "3    2.401142e+08  2.466138e+08  2.533023e+08  2.601703e+08  2.672145e+08  2.744339e+08  2.818425e+08  2.894695e+08  2.973531e+08  3.055206e+08  3.139855e+08  3.227417e+08  3.317723e+08   \n",
            "7    2.590009e+08  2.648222e+08  2.705758e+08  2.763938e+08  2.823441e+08  2.884322e+08  2.946652e+08  3.011139e+08  3.078628e+08  3.149658e+08  3.224528e+08  3.302908e+08  3.383959e+08   \n",
            "36   1.096262e+08  1.094220e+08  1.092383e+08  1.090610e+08  1.084478e+08  1.076600e+08  1.069598e+08  1.066242e+08  1.063317e+08  1.060419e+08  1.057725e+08  1.053787e+08  1.050019e+08   \n",
            "49   6.331277e+06  6.378551e+06  6.423851e+06  6.468461e+06  6.513486e+06  6.559097e+06  6.604966e+06  6.650981e+06  6.696985e+06  6.742657e+06  6.788122e+06  6.833394e+06  6.878973e+06   \n",
            "61   1.738950e+09  1.759751e+09  1.779788e+09  1.798639e+09  1.816456e+09  1.833423e+09  1.849608e+09  1.865133e+09  1.880249e+09  1.895275e+09  1.909891e+09  1.924018e+09  1.938057e+09   \n",
            "62   2.294577e+09  2.339379e+09  2.384128e+09  2.428606e+09  2.472853e+09  2.516662e+09  2.560101e+09  2.603301e+09  2.646484e+09  2.689792e+09  2.733279e+09  2.776923e+09  2.820637e+09   \n",
            "63   1.965146e+09  1.987316e+09  2.008705e+09  2.028650e+09  2.047640e+09  2.065912e+09  2.083186e+09  2.099602e+09  2.115459e+09  2.131147e+09  2.146744e+09  2.161786e+09  2.177119e+09   \n",
            "64   3.909324e+08  3.912896e+08  3.915266e+08  3.914954e+08  3.915866e+08  3.913153e+08  3.910088e+08  3.911723e+08  3.915355e+08  3.919522e+08  3.925119e+08  3.932156e+08  3.943926e+08   \n",
            "65   8.568572e+08  8.581654e+08  8.592981e+08  8.603191e+08  8.612785e+08  8.623480e+08  8.639368e+08  8.662157e+08  8.688082e+08  8.714566e+08  8.741572e+08  8.773007e+08  8.809321e+08   \n",
            "68   3.180030e+08  3.187618e+08  3.194340e+08  3.202589e+08  3.213108e+08  3.225479e+08  3.241253e+08  3.258860e+08  3.276825e+08  3.293804e+08  3.309228e+08  3.326452e+08  3.342747e+08   \n",
            "73   4.268969e+08  4.275380e+08  4.281099e+08  4.288155e+08  4.293286e+08  4.298956e+08  4.308819e+08  4.324159e+08  4.340402e+08  4.355819e+08  4.369980e+08  4.384684e+08  4.398767e+08   \n",
            "74   5.203033e+08  5.331126e+08  5.457282e+08  5.586276e+08  5.723039e+08  5.867604e+08  6.018487e+08  6.174686e+08  6.334600e+08  6.497045e+08  6.661744e+08  6.829016e+08  7.000304e+08   \n",
            "95   1.047819e+09  1.054748e+09  1.061502e+09  1.068198e+09  1.074820e+09  1.081810e+09  1.089036e+09  1.096166e+09  1.103694e+09  1.111423e+09  1.119841e+09  1.128711e+09  1.138168e+09   \n",
            "98   4.230192e+08  4.347362e+08  4.466084e+08  4.588674e+08  4.716808e+08  4.851127e+08  4.991136e+08  5.136012e+08  5.284446e+08  5.435553e+08  5.589092e+08  5.745603e+08  5.905904e+08   \n",
            "102  3.791696e+09  3.842266e+09  3.892059e+09  3.940460e+09  3.987195e+09  4.032822e+09  4.077664e+09  4.122166e+09  4.166323e+09  4.210326e+09  4.253873e+09  4.296874e+09  4.340128e+09   \n",
            "103  4.768633e+09  4.844174e+09  4.919046e+09  4.992708e+09  5.065364e+09  5.137402e+09  5.209100e+09  5.280933e+09  5.352931e+09  5.425297e+09  5.497791e+09  5.570347e+09  5.643704e+09   \n",
            "104  9.769370e+08  1.001908e+09  1.026987e+09  1.052248e+09  1.078169e+09  1.104579e+09  1.131436e+09  1.158766e+09  1.186608e+09  1.214971e+09  1.243918e+09  1.273474e+09  1.303576e+09   \n",
            "105  3.259087e+08  3.343992e+08  3.429810e+08  3.515199e+08  3.601734e+08  3.688207e+08  3.775121e+08  3.863099e+08  3.953201e+08  4.046157e+08  4.142325e+08  4.241926e+08  4.344696e+08   \n",
            "107  6.510284e+08  6.675084e+08  6.840063e+08  7.007285e+08  7.179956e+08  7.357586e+08  7.539241e+08  7.724565e+08  7.912883e+08  8.103553e+08  8.296855e+08  8.492811e+08  8.691068e+08   \n",
            "128  4.436697e+08  4.508336e+08  4.579353e+08  4.649335e+08  4.718059e+08  4.785306e+08  4.851090e+08  4.915582e+08  4.979158e+08  5.042060e+08  5.104380e+08  5.166113e+08  5.227293e+08   \n",
            "134  4.900024e+08  4.978899e+08  5.056871e+08  5.133667e+08  5.209035e+08  5.282831e+08  5.355094e+08  5.425995e+08  5.495907e+08  5.565042e+08  5.633377e+08  5.700915e+08  5.767837e+08   \n",
            "135  5.948013e+08  6.099833e+08  6.253421e+08  6.410468e+08  6.572159e+08  6.739031e+08  6.910614e+08  7.085879e+08  7.263312e+08  7.441905e+08  7.621325e+08  7.802196e+08  7.985634e+08   \n",
            "136  3.468633e+08  3.565088e+08  3.663205e+08  3.764719e+08  3.870881e+08  3.981961e+08  4.097527e+08  4.217250e+08  4.340556e+08  4.466950e+08  4.596597e+08  4.729474e+08  4.864682e+08   \n",
            "139  2.272648e+09  2.315906e+09  2.359112e+09  2.402132e+09  2.445097e+09  2.487901e+09  2.530680e+09  2.573513e+09  2.616458e+09  2.659559e+09  2.702862e+09  2.746406e+09  2.790206e+09   \n",
            "140  4.719451e+09  4.794701e+09  4.869216e+09  4.942554e+09  5.015320e+09  5.087216e+09  5.158616e+09  5.230165e+09  5.301862e+09  5.373893e+09  5.446044e+09  5.518245e+09  5.591217e+09   \n",
            "142  1.975202e+09  1.994265e+09  2.012572e+09  2.029613e+09  2.045126e+09  2.059873e+09  2.073757e+09  2.087311e+09  2.100747e+09  2.114307e+09  2.127751e+09  2.140907e+09  2.154348e+09   \n",
            "153  2.920412e+08  2.978917e+08  3.036417e+08  3.094367e+08  3.153268e+08  3.212972e+08  3.273623e+08  3.336088e+08  3.401435e+08  3.470299e+08  3.543025e+08  3.619292e+08  3.698232e+08   \n",
            "156  4.372588e+09  4.438193e+09  4.502895e+09  4.566082e+09  4.628232e+09  4.689020e+09  4.748863e+09  4.808440e+09  4.867806e+09  4.927197e+09  4.986384e+09  5.045298e+09  5.104749e+09   \n",
            "161  2.594316e+08  2.645042e+08  2.694407e+08  2.743500e+08  2.792796e+08  2.842490e+08  2.892644e+08  2.943437e+08  2.995027e+08  3.047555e+08  3.101094e+08  3.155734e+08  3.211687e+08   \n",
            "170  2.990643e+08  3.026234e+08  3.060701e+08  3.095026e+08  3.129100e+08  3.160524e+08  3.190482e+08  3.218153e+08  3.248097e+08  3.278245e+08  3.310156e+08  3.341851e+08  3.374064e+08   \n",
            "181  1.165881e+09  1.174866e+09  1.183547e+09  1.192267e+09  1.200836e+09  1.209788e+09  1.218856e+09  1.227854e+09  1.236872e+09  1.245821e+09  1.255134e+09  1.264615e+09  1.274523e+09   \n",
            "183  1.946055e+07  1.980959e+07  2.016390e+07  2.054014e+07  2.091708e+07  2.127675e+07  2.163914e+07  2.201846e+07  2.244210e+07  2.292907e+07  2.348619e+07  2.410469e+07  2.476240e+07   \n",
            "191  4.945177e+08  5.079690e+08  5.216177e+08  5.357734e+08  5.506600e+08  5.663661e+08  5.828288e+08  5.999381e+08  6.175187e+08  6.354516e+08  6.536951e+08  6.723189e+08  6.914476e+08   \n",
            "197  1.868390e+06  1.893438e+06  1.917140e+06  1.939956e+06  1.962451e+06  1.984469e+06  2.006091e+06  2.027859e+06  2.050583e+06  2.074776e+06  2.100892e+06  2.128647e+06  2.157454e+06   \n",
            "198  1.000604e+09  1.005700e+09  1.010591e+09  1.015422e+09  1.020505e+09  1.025402e+09  1.030562e+09  1.035712e+09  1.041075e+09  1.046367e+09  1.052055e+09  1.057982e+09  1.064394e+09   \n",
            "204  1.287476e+09  1.313346e+09  1.339203e+09  1.365068e+09  1.390946e+09  1.416823e+09  1.442644e+09  1.468324e+09  1.493758e+09  1.518862e+09  1.543611e+09  1.568003e+09  1.592011e+09   \n",
            "215  5.989914e+08  6.149770e+08  6.313219e+08  6.480679e+08  6.652465e+08  6.828748e+08  7.009825e+08  7.196334e+08  7.389008e+08  7.588418e+08  7.794822e+08  8.008235e+08  8.228585e+08   \n",
            "217  5.990678e+08  6.150543e+08  6.314007e+08  6.481483e+08  6.653276e+08  6.829560e+08  7.010662e+08  7.197162e+08  7.389832e+08  7.589247e+08  7.795668e+08  8.009086e+08  8.229455e+08   \n",
            "218  2.766022e+07  2.808158e+07  2.850489e+07  2.894855e+07  2.939302e+07  2.982032e+07  3.025020e+07  3.069730e+07  3.118966e+07  3.174650e+07  3.237520e+07  3.306673e+07  3.379883e+07   \n",
            "230  1.716810e+09  1.737389e+09  1.757224e+09  1.775880e+09  1.793498e+09  1.810261e+09  1.826239e+09  1.841561e+09  1.856486e+09  1.871341e+09  1.885807e+09  1.899800e+09  1.913718e+09   \n",
            "231  4.341138e+08  4.344742e+08  4.347222e+08  4.346683e+08  4.343136e+08  4.338630e+08  4.335414e+08  4.336802e+08  4.340223e+08  4.344278e+08  4.349643e+08  4.356464e+08  4.368281e+08   \n",
            "236  4.743210e+08  4.821124e+08  4.898321e+08  4.974417e+08  5.049213e+08  5.122474e+08  5.194208e+08  5.264625e+08  5.334152e+08  5.403062e+08  5.471394e+08  5.539100e+08  5.606247e+08   \n",
            "238  2.568436e+08  2.617976e+08  2.666641e+08  2.715016e+08  2.763575e+08  2.812512e+08  2.861890e+08  2.911887e+08  2.962661e+08  3.014351e+08  3.067031e+08  3.120789e+08  3.175768e+08   \n",
            "240  1.287476e+09  1.313346e+09  1.339203e+09  1.365068e+09  1.390946e+09  1.416823e+09  1.442644e+09  1.468324e+09  1.493758e+09  1.518862e+09  1.543611e+09  1.568003e+09  1.592011e+09   \n",
            "241  5.990678e+08  6.150543e+08  6.314007e+08  6.481483e+08  6.653276e+08  6.829560e+08  7.010662e+08  7.197162e+08  7.389832e+08  7.589247e+08  7.795668e+08  8.009086e+08  8.229455e+08   \n",
            "249  2.099939e+09  2.122287e+09  2.143783e+09  2.163950e+09  2.183136e+09  2.201119e+09  2.218184e+09  2.234927e+09  2.251348e+09  2.267638e+09  2.283522e+09  2.298892e+09  2.314543e+09   \n",
            "254  2.238565e+07  2.283774e+07  2.328857e+07  2.373984e+07  2.419245e+07  2.464647e+07  2.510041e+07  2.555162e+07  2.599659e+07  2.643244e+07  2.685019e+07  2.724760e+07  2.763583e+07   \n",
            "259  5.789656e+09  5.872287e+09  5.954006e+09  6.034492e+09  6.114333e+09  6.193672e+09  6.272753e+09  6.351882e+09  6.431552e+09  6.511748e+09  6.592735e+09  6.674204e+09  6.757021e+09   \n",
            "\n",
            "             2009          2010          2011          2012          2013          2014          2015          2016          2017          2018          2019          2020  \\\n",
            "1    5.046047e+08  5.184682e+08  5.327604e+08  5.474829e+08  5.626016e+08  5.780754e+08  5.938718e+08  6.099789e+08  6.263929e+08  6.430901e+08  6.600463e+08  6.772433e+08   \n",
            "3    3.410505e+08  3.505569e+08  3.602854e+08  3.702430e+08  3.804379e+08  3.908830e+08  4.015867e+08  4.125513e+08  4.237699e+08  4.352294e+08  4.469116e+08  4.588035e+08   \n",
            "7    3.466292e+08  3.548901e+08  3.631568e+08  3.714376e+08  3.796965e+08  3.878998e+08  3.960283e+08  4.040429e+08  4.119428e+08  4.198520e+08  4.278703e+08  4.360807e+08   \n",
            "36   1.048005e+08  1.044214e+08  1.041740e+08  1.039353e+08  1.037137e+08  1.034962e+08  1.032579e+08  1.029943e+08  1.027401e+08  1.025385e+08  1.023985e+08  1.022463e+08   \n",
            "49   6.925446e+06  6.973193e+06  7.022367e+06  7.072640e+06  7.123315e+06  7.173443e+06  7.222197e+06  7.269385e+06  7.314956e+06  7.358929e+06  7.401389e+06  7.442291e+06   \n",
            "61   1.952017e+09  1.965954e+09  1.980035e+09  1.994390e+09  2.008919e+09  2.023596e+09  2.038190e+09  2.053107e+09  2.068151e+09  2.081650e+09  2.093675e+09  2.105003e+09   \n",
            "62   2.864299e+09  2.907917e+09  2.951424e+09  2.994347e+09  3.037084e+09  3.079686e+09  3.122157e+09  3.164440e+09  3.206486e+09  3.248414e+09  3.290291e+09  3.332105e+09   \n",
            "63   2.192059e+09  2.206885e+09  2.221673e+09  2.236818e+09  2.252044e+09  2.267486e+09  2.282864e+09  2.298501e+09  2.314113e+09  2.328193e+09  2.340674e+09  2.352038e+09   \n",
            "64   3.960422e+08  3.980826e+08  4.003120e+08  4.025658e+08  4.050694e+08  4.075671e+08  4.101113e+08  4.125789e+08  4.148930e+08  4.169315e+08  4.187609e+08  4.202495e+08   \n",
            "65   8.844694e+08  8.879268e+08  8.901621e+08  8.937867e+08  8.980573e+08  9.024042e+08  9.067074e+08  9.109109e+08  9.146551e+08  9.180825e+08  9.208095e+08  9.234899e+08   \n",
            "68   3.353609e+08  3.361515e+08  3.354197e+08  3.361592e+08  3.373021e+08  3.384622e+08  3.394884e+08  3.404818e+08  3.412172e+08  3.419792e+08  3.422821e+08  3.429498e+08   \n",
            "73   4.409178e+08  4.415324e+08  4.407470e+08  4.413959e+08  4.424695e+08  4.435767e+08  4.445438e+08  4.454877e+08  4.461863e+08  4.469151e+08  4.471965e+08  4.477947e+08   \n",
            "74   7.175538e+08  7.354482e+08  7.538589e+08  7.727426e+08  7.919433e+08  8.112498e+08  8.305360e+08  8.497399e+08  8.689543e+08  8.884884e+08  9.087395e+08  9.300065e+08   \n",
            "95   1.146611e+09  1.154195e+09  1.159642e+09  1.166466e+09  1.173352e+09  1.180424e+09  1.187317e+09  1.194192e+09  1.200274e+09  1.205942e+09  1.210796e+09  1.214930e+09   \n",
            "98   6.071156e+08  6.242193e+08  6.419214e+08  6.601939e+08  6.790130e+08  6.983367e+08  7.181284e+08  7.383871e+08  7.591061e+08  7.802345e+08  8.017080e+08  8.234800e+08   \n",
            "102  4.383703e+09  4.427062e+09  4.471052e+09  4.515480e+09  4.560238e+09  4.604818e+09  4.648914e+09  4.692823e+09  4.736246e+09  4.777365e+09  4.816233e+09  4.853609e+09   \n",
            "103  5.717826e+09  5.792409e+09  5.867926e+09  5.943942e+09  6.020849e+09  6.098310e+09  6.176133e+09  6.254652e+09  6.333519e+09  6.410927e+09  6.486925e+09  6.562212e+09   \n",
            "104  1.334123e+09  1.365347e+09  1.396874e+09  1.428462e+09  1.460611e+09  1.493492e+09  1.527219e+09  1.561829e+09  1.597274e+09  1.633562e+09  1.670693e+09  1.708604e+09   \n",
            "105  4.449985e+08  4.560496e+08  4.672677e+08  4.783353e+08  4.896246e+08  5.011462e+08  5.128772e+08  5.247946e+08  5.368719e+08  5.491278e+08  5.615719e+08  5.741591e+08   \n",
            "107  8.891246e+08  9.092970e+08  9.296061e+08  9.501268e+08  9.709867e+08  9.923454e+08  1.014342e+09  1.037034e+09  1.060402e+09  1.084434e+09  1.109121e+09  1.134445e+09   \n",
            "128  5.287932e+08  5.346995e+08  5.406999e+08  5.466314e+08  5.525521e+08  5.585342e+08  5.646184e+08  5.708385e+08  5.771517e+08  5.834321e+08  5.895037e+08  5.952430e+08   \n",
            "134  5.834300e+08  5.899325e+08  5.965381e+08  6.030947e+08  6.095958e+08  6.159991e+08  6.223010e+08  6.284936e+08  6.345661e+08  6.404836e+08  6.464308e+08  6.522763e+08   \n",
            "135  8.173226e+08  8.366148e+08  8.564714e+08  8.768672e+08  8.977934e+08  9.192230e+08  9.411313e+08  9.635197e+08  9.863854e+08  1.009691e+09  1.033389e+09  1.057438e+09   \n",
            "136  5.001049e+08  5.137833e+08  5.274671e+08  5.412057e+08  5.551168e+08  5.693674e+08  5.840849e+08  5.992903e+08  6.149651e+08  6.311472e+08  6.478708e+08  6.651490e+08   \n",
            "139  2.834273e+09  2.878875e+09  2.923660e+09  2.968244e+09  3.013187e+09  3.058249e+09  3.103569e+09  3.149023e+09  3.194518e+09  3.240032e+09  3.285417e+09  3.330653e+09   \n",
            "140  5.664932e+09  5.739243e+09  5.814351e+09  5.889964e+09  5.966542e+09  6.043826e+09  6.121677e+09  6.200442e+09  6.279734e+09  6.357647e+09  6.434034e+09  6.509474e+09   \n",
            "142  2.167843e+09  2.180829e+09  2.193829e+09  2.206930e+09  2.220295e+09  2.233866e+09  2.247405e+09  2.261410e+09  2.275536e+09  2.287851e+09  2.298496e+09  2.307887e+09   \n",
            "153  3.778840e+08  3.859179e+08  3.939427e+08  4.019684e+08  4.099686e+08  4.179244e+08  4.258218e+08  4.336160e+08  4.412990e+08  4.489742e+08  4.567095e+08  4.645541e+08   \n",
            "156  5.164827e+09  5.225459e+09  5.286884e+09  5.348758e+09  5.411425e+09  5.474459e+09  5.537593e+09  5.601151e+09  5.664769e+09  5.726500e+09  5.786163e+09  5.844325e+09   \n",
            "161  3.269010e+08  3.327778e+08  3.388131e+08  3.449984e+08  3.512904e+08  3.576298e+08  3.639756e+08  3.702940e+08  3.765885e+08  3.829552e+08  3.894571e+08  3.961478e+08   \n",
            "170  3.404661e+08  3.433972e+08  3.459874e+08  3.486567e+08  3.512079e+08  3.538889e+08  3.565071e+08  3.592458e+08  3.617313e+08  3.639673e+08  3.659872e+08  3.675533e+08   \n",
            "181  1.283635e+09  1.292111e+09  1.298723e+09  1.306808e+09  1.315224e+09  1.324035e+09  1.332787e+09  1.341702e+09  1.350048e+09  1.358019e+09  1.364842e+09  1.370859e+09   \n",
            "183  2.541781e+07  2.605093e+07  2.664796e+07  2.722731e+07  2.779459e+07  2.836445e+07  2.894889e+07  2.954290e+07  3.014895e+07  3.076047e+07  3.136126e+07  3.194179e+07   \n",
            "191  7.112575e+08  7.318688e+08  7.533269e+08  7.755733e+08  7.984960e+08  8.219316e+08  8.457594e+08  8.699436e+08  8.945124e+08  9.194851e+08  9.449027e+08  9.707957e+08   \n",
            "197  2.186314e+06  2.214509e+06  2.241808e+06  2.268553e+06  2.295450e+06  2.323558e+06  2.353578e+06  2.385744e+06  2.419767e+06  2.455336e+06  2.491878e+06  2.528958e+06   \n",
            "198  1.069878e+09  1.074871e+09  1.077842e+09  1.082374e+09  1.087130e+09  1.092088e+09  1.096978e+09  1.101866e+09  1.105983e+09  1.109795e+09  1.112708e+09  1.115116e+09   \n",
            "204  1.615610e+09  1.638793e+09  1.661532e+09  1.683740e+09  1.705762e+09  1.727632e+09  1.749417e+09  1.771187e+09  1.792883e+09  1.814455e+09  1.835777e+09  1.856882e+09   \n",
            "215  8.455679e+08  8.689353e+08  8.929584e+08  9.176376e+08  9.429495e+08  9.688670e+08  9.953651e+08  1.022436e+09  1.050067e+09  1.078223e+09  1.106860e+09  1.135948e+09   \n",
            "217  8.456552e+08  8.690251e+08  8.930459e+08  9.177259e+08  9.430395e+08  9.689584e+08  9.954585e+08  1.022530e+09  1.050163e+09  1.078320e+09  1.106958e+09  1.136047e+09   \n",
            "218  3.452957e+07  3.523863e+07  3.591214e+07  3.656851e+07  3.721336e+07  3.786145e+07  3.852467e+07  3.919803e+07  3.988368e+07  4.057473e+07  4.125453e+07  4.191304e+07   \n",
            "230  1.927561e+09  1.941377e+09  1.955334e+09  1.969561e+09  1.983962e+09  1.998510e+09  2.012978e+09  2.027772e+09  2.042694e+09  2.056074e+09  2.067982e+09  2.079198e+09   \n",
            "231  4.384990e+08  4.404209e+08  4.426559e+08  4.448966e+08  4.473653e+08  4.498173e+08  4.523013e+08  4.547233e+08  4.569923e+08  4.589941e+08  4.607916e+08  4.622475e+08   \n",
            "236  5.672896e+08  5.738006e+08  5.804284e+08  5.869996e+08  5.935069e+08  5.999353e+08  6.062719e+08  6.125115e+08  6.186535e+08  6.246981e+08  6.306448e+08  6.364928e+08   \n",
            "238  3.232119e+08  3.289917e+08  3.349301e+08  3.410184e+08  3.472137e+08  3.534564e+08  3.597055e+08  3.659269e+08  3.721337e+08  3.783861e+08  3.847718e+08  3.913446e+08   \n",
            "240  1.615610e+09  1.638793e+09  1.661532e+09  1.683740e+09  1.705762e+09  1.727632e+09  1.749417e+09  1.771187e+09  1.792883e+09  1.814455e+09  1.835777e+09  1.856882e+09   \n",
            "241  8.456552e+08  8.690251e+08  8.930459e+08  9.177259e+08  9.430395e+08  9.689584e+08  9.954585e+08  1.022530e+09  1.050163e+09  1.078320e+09  1.106958e+09  1.136047e+09   \n",
            "249  2.330554e+09  2.346584e+09  2.363224e+09  2.380514e+09  2.398238e+09  2.416210e+09  2.434023e+09  2.452129e+09  2.470251e+09  2.486468e+09  2.500746e+09  2.513673e+09   \n",
            "254  2.803101e+07  2.843994e+07  2.888787e+07  2.936083e+07  2.978105e+07  3.004297e+07  3.008183e+07  2.985125e+07  2.940248e+07  2.888712e+07  2.851583e+07  2.843594e+07   \n",
            "259  6.839574e+09  6.921877e+09  7.002881e+09  7.085790e+09  7.169675e+09  7.254293e+09  7.339077e+09  7.424485e+09  7.509410e+09  7.592476e+09  7.673345e+09  7.752841e+09   \n",
            "\n",
            "                        Region IncomeGroup  \n",
            "1                          NaN         NaN  \n",
            "3                          NaN         NaN  \n",
            "7                          NaN         NaN  \n",
            "36                         NaN         NaN  \n",
            "49                         NaN         NaN  \n",
            "61                         NaN         NaN  \n",
            "62                         NaN         NaN  \n",
            "63                         NaN         NaN  \n",
            "64                         NaN         NaN  \n",
            "65                         NaN         NaN  \n",
            "68                         NaN         NaN  \n",
            "73                         NaN         NaN  \n",
            "74                         NaN         NaN  \n",
            "95                         NaN         NaN  \n",
            "98                         NaN         NaN  \n",
            "102                        NaN         NaN  \n",
            "103                        NaN         NaN  \n",
            "104                        NaN         NaN  \n",
            "105                        NaN         NaN  \n",
            "107                        NaN         NaN  \n",
            "128                        NaN         NaN  \n",
            "134                        NaN         NaN  \n",
            "135                        NaN         NaN  \n",
            "136                        NaN         NaN  \n",
            "139                        NaN         NaN  \n",
            "140                        NaN         NaN  \n",
            "142                        NaN         NaN  \n",
            "153                        NaN         NaN  \n",
            "156                        NaN         NaN  \n",
            "161                        NaN         NaN  \n",
            "170                        NaN         NaN  \n",
            "181                        NaN         NaN  \n",
            "183                        NaN         NaN  \n",
            "191                        NaN         NaN  \n",
            "197                        NaN         NaN  \n",
            "198                        NaN         NaN  \n",
            "204                        NaN         NaN  \n",
            "215                        NaN         NaN  \n",
            "217                        NaN         NaN  \n",
            "218                        NaN         NaN  \n",
            "230                        NaN         NaN  \n",
            "231                        NaN         NaN  \n",
            "236                        NaN         NaN  \n",
            "238                        NaN         NaN  \n",
            "240                        NaN         NaN  \n",
            "241                        NaN         NaN  \n",
            "249                        NaN         NaN  \n",
            "254  Latin America & Caribbean         NaN  \n",
            "259                        NaN         NaN  \n"
          ]
        }
      ]
    },
    {
      "cell_type": "code",
      "source": [
        "# droping rows where 'Region' or 'IncomeGroup' is missing\n",
        "merged_df = merged_df.dropna(subset=['Region', 'IncomeGroup'])"
      ],
      "metadata": {
        "id": "8VqvM2SbDjZ9"
      },
      "execution_count": null,
      "outputs": []
    },
    {
      "cell_type": "markdown",
      "source": [
        "DOWNLOADING DATA"
      ],
      "metadata": {
        "id": "YjFNNbbP16lv"
      }
    },
    {
      "cell_type": "code",
      "source": [
        "#!pip install pandas openpyxl\n",
        "#df=pd.DataFrame(merged_df)\n",
        "#from google.colab import files"
      ],
      "metadata": {
        "id": "BMLbx9GKyLAQ"
      },
      "execution_count": null,
      "outputs": []
    },
    {
      "cell_type": "code",
      "source": [
        "#output_file = 'edited_data.xlsx'\n",
        "#df.to_excel(output_file, index=False)\n",
        "\n",
        "# Step 5: Download the File\n",
        "#files.download(output_file)"
      ],
      "metadata": {
        "id": "46iuzrrnyjIj"
      },
      "execution_count": null,
      "outputs": []
    },
    {
      "cell_type": "markdown",
      "source": [
        "DOWNLOADING DATA END"
      ],
      "metadata": {
        "id": "EW7qHdmH19WI"
      }
    },
    {
      "cell_type": "markdown",
      "source": [
        "# **Step 3. Exploratory Data Analysis (EDA)**\n"
      ],
      "metadata": {
        "id": "9vghojnszAes"
      }
    },
    {
      "cell_type": "code",
      "source": [
        "long_data = merged_df.melt(\n",
        "    id_vars=[\"Country Code\", \"Indicator Name\", \"Indicator Code\", \"Region\", \"IncomeGroup\"],\n",
        "    var_name=\"Year\",\n",
        "    value_name=\"Population\"\n",
        ")\n",
        "\n",
        "# converting the Year column to numeric for easier analysis\n",
        "long_data[\"Year\"] = pd.to_numeric(long_data[\"Year\"], errors=\"coerce\")\n",
        "\n",
        "\n",
        "# Preview the reshaped data\n",
        "print(long_data.head())"
      ],
      "metadata": {
        "colab": {
          "base_uri": "https://localhost:8080/"
        },
        "id": "Lqhgtg8szyk9",
        "outputId": "c92703ae-d574-4364-eb82-d84f029a9f0c"
      },
      "execution_count": null,
      "outputs": [
        {
          "output_type": "stream",
          "name": "stdout",
          "text": [
            "  Country Code       Indicator Name Indicator Code                     Region          IncomeGroup  Year  Population\n",
            "0          ABW  \"Population, total\"    SP.POP.TOTL  Latin America & Caribbean          High income  1960     54208.0\n",
            "1          AFG  \"Population, total\"    SP.POP.TOTL                 South Asia           Low income  1960   8996967.0\n",
            "2          AGO  \"Population, total\"    SP.POP.TOTL         Sub-Saharan Africa  Lower middle income  1960   5454938.0\n",
            "3          ALB  \"Population, total\"    SP.POP.TOTL      Europe & Central Asia  Upper middle income  1960   1608800.0\n",
            "4          AND  \"Population, total\"    SP.POP.TOTL      Europe & Central Asia          High income  1960     13410.0\n"
          ]
        }
      ]
    },
    {
      "cell_type": "code",
      "source": [
        "summary_stats = long_data.groupby(\"Year\")[\"Population\"].agg([\"mean\", \"median\", \"min\", \"max\", \"std\"])\n",
        "print(summary_stats)"
      ],
      "metadata": {
        "colab": {
          "base_uri": "https://localhost:8080/"
        },
        "id": "LYMjdH22LKr9",
        "outputId": "211d6a19-b94c-453c-fd03-9e204437ed79"
      },
      "execution_count": null,
      "outputs": [
        {
          "output_type": "stream",
          "name": "stdout",
          "text": [
            "              mean     median      min           max           std\n",
            "Year                                                              \n",
            "1960  1.395968e+07  2337819.0   2833.0  6.670700e+08  5.745876e+07\n",
            "1961  1.413918e+07  2376046.0   3077.0  6.603300e+08  5.753203e+07\n",
            "1962  1.438122e+07  2419540.5   3367.0  6.657700e+08  5.826114e+07\n",
            "1963  1.467935e+07  2465697.0   3703.0  6.823350e+08  5.958202e+07\n",
            "1964  1.497923e+07  2524683.0   4063.0  6.983550e+08  6.088574e+07\n",
            "...            ...        ...      ...           ...           ...\n",
            "2016  3.412320e+07  6330053.5  10474.0  1.378665e+09  1.348165e+08\n",
            "2017  3.451830e+07  6386483.5  10577.0  1.386395e+09  1.359426e+08\n",
            "2018  3.490519e+07  6443121.0  10678.0  1.392730e+09  1.369932e+08\n",
            "2019  3.528123e+07  6500851.5  10764.0  1.397715e+09  1.379717e+08\n",
            "2020  3.564962e+07  6608077.0  10834.0  1.402112e+09  1.389124e+08\n",
            "\n",
            "[61 rows x 5 columns]\n"
          ]
        }
      ]
    },
    {
      "cell_type": "markdown",
      "source": [
        "*3.1 Plotting population growth trend*"
      ],
      "metadata": {
        "id": "0hdcJTMSLaEC"
      }
    },
    {
      "cell_type": "code",
      "source": [
        "\n",
        "plt.figure(figsize=(12, 6))\n",
        "long_data.groupby(\"Year\")[\"Population\"].mean().plot()\n",
        "plt.title('Global Average Population Growth Over Time')\n",
        "plt.xlabel('Year')\n",
        "plt.ylabel('Average Population')\n",
        "plt.grid(True)\n",
        "plt.show()\n",
        "print(\"The plot shows a steady upward trend, indicating consistent population growth over time\")"
      ],
      "metadata": {
        "colab": {
          "base_uri": "https://localhost:8080/",
          "height": 581
        },
        "id": "whJ03lg8LWUL",
        "outputId": "dbd323bf-1053-410b-862b-d2ea86a19a4e"
      },
      "execution_count": null,
      "outputs": [
        {
          "output_type": "display_data",
          "data": {
            "text/plain": [
              "<Figure size 1200x600 with 1 Axes>"
            ],
            "image/png": "[encoded data removed]"
          },
          "metadata": {}
        },
        {
          "output_type": "stream",
          "name": "stdout",
          "text": [
            "The plot shows a steady upward trend, indicating consistent population growth over time\n"
          ]
        }
      ]
    },
    {
      "cell_type": "markdown",
      "source": [
        "*3.2. Boxplot to analyze population distribution for a given year (e.g., 2020)*"
      ],
      "metadata": {
        "id": "DUA2oNt7Lmmw"
      }
    },
    {
      "cell_type": "code",
      "source": [
        "\n",
        "plt.figure(figsize=(10, 6))\n",
        "sns.boxplot(data=long_data[long_data[\"Year\"] == 2020], x=\"Region\", y=\"Population\")\n",
        "plt.title('Population Distribution by Region (2020)')\n",
        "plt.xticks(rotation=45)\n",
        "plt.grid(axis='y', linestyle='--', alpha=0.7)\n",
        "plt.show()\n",
        "print(\"Population is mainly distribued by North America and South Asia in 2020\")"
      ],
      "metadata": {
        "colab": {
          "base_uri": "https://localhost:8080/",
          "height": 710
        },
        "id": "XY_LZT0ZLh54",
        "outputId": "867a83d3-f044-4f4f-9566-9f242df6929c"
      },
      "execution_count": null,
      "outputs": [
        {
          "output_type": "display_data",
          "data": {
            "text/plain": [
              "<Figure size 1000x600 with 1 Axes>"
            ],
            "image/png": "[encoded data removed]"
          },
          "metadata": {}
        },
        {
          "output_type": "stream",
          "name": "stdout",
          "text": [
            "Population is mainly distribued by North America and South Asia in 2020\n"
          ]
        }
      ]
    },
    {
      "cell_type": "markdown",
      "source": [
        "*3.3 Analysis of first year 1960 and last year 2020*"
      ],
      "metadata": {
        "id": "4cOztPMQL_Uo"
      }
    },
    {
      "cell_type": "code",
      "source": [
        "# summary statistics for 1960 and 2020\n",
        "stats_1960 = long_data[long_data[\"Year\"] == 1960][\"Population\"].describe()\n",
        "stats_2020 = long_data[long_data[\"Year\"] == 2020][\"Population\"].describe()\n",
        "\n",
        "print(\"Population Summary - 1960:\\n\", stats_1960)\n",
        "print(\"\\nPopulation Summary - 2020:\\n\", stats_2020)"
      ],
      "metadata": {
        "colab": {
          "base_uri": "https://localhost:8080/"
        },
        "id": "51gdEm_FL5th",
        "outputId": "0053154e-ae67-4c65-d67c-eab58fc3d0fe"
      },
      "execution_count": null,
      "outputs": [
        {
          "output_type": "stream",
          "name": "stdout",
          "text": [
            "Population Summary - 1960:\n",
            " count    2.160000e+02\n",
            "mean     1.395968e+07\n",
            "std      5.745876e+07\n",
            "min      2.833000e+03\n",
            "25%      2.290598e+05\n",
            "50%      2.337819e+06\n",
            "75%      7.930551e+06\n",
            "max      6.670700e+08\n",
            "Name: Population, dtype: float64\n",
            "\n",
            "Population Summary - 2020:\n",
            " count    2.160000e+02\n",
            "mean     3.564962e+07\n",
            "std      1.389124e+08\n",
            "min      1.083400e+04\n",
            "25%      7.828222e+05\n",
            "50%      6.608077e+06\n",
            "75%      2.457674e+07\n",
            "max      1.402112e+09\n",
            "Name: Population, dtype: float64\n"
          ]
        }
      ]
    },
    {
      "cell_type": "code",
      "source": [
        "avg_pop_1960 = long_data[long_data[\"Year\"] == 1960].groupby('Region')[\"Population\"].mean()\n",
        "avg_pop_2020 = long_data[long_data[\"Year\"] == 2020].groupby('Region')[\"Population\"].mean()\n",
        "\n",
        "# plotting side-by-side bar charts\n",
        "plt.figure(figsize=(10, 5))\n",
        "avg_pop_1960.plot(kind='bar', position=1, width=0.3, label='1960', color='lightblue')\n",
        "avg_pop_2020.plot(kind='bar', position=0, width=0.3, label='2020', color='orange')\n",
        "plt.title('Average Population by Region (1960 vs 2020)')\n",
        "plt.xlabel('Region')\n",
        "plt.ylabel('Average Population')\n",
        "plt.xticks(rotation=45)\n",
        "plt.legend()\n",
        "plt.show()"
      ],
      "metadata": {
        "colab": {
          "base_uri": "https://localhost:8080/",
          "height": 616
        },
        "id": "jPDxRmfH6ehO",
        "outputId": "033812be-2ad3-4273-9d55-31c7b635dbeb"
      },
      "execution_count": null,
      "outputs": [
        {
          "output_type": "display_data",
          "data": {
            "text/plain": [
              "<Figure size 1000x500 with 1 Axes>"
            ],
            "image/png": "[encoded data removed]"
          },
          "metadata": {}
        }
      ]
    },
    {
      "cell_type": "markdown",
      "source": [
        "*3.4 Finding the outliers*"
      ],
      "metadata": {
        "id": "v3Kt-VRb8afF"
      }
    },
    {
      "cell_type": "code",
      "source": [
        "from scipy.stats import zscore\n",
        "\n",
        "# calculate population growth rate (percentage change) between consecutive years\n",
        "long_data[\"GrowthRate\"] = long_data.groupby(\"Country Code\")[\"Population\"].pct_change()\n",
        "\n",
        "long_data_cleaned = long_data.dropna(subset=[\"GrowthRate\"])\n",
        "\n",
        "# calculate z-scores for the growth rates\n",
        "long_data_cleaned[\"GrowthRateZ\"] = zscore(long_data_cleaned[\"GrowthRate\"])\n",
        "\n",
        "# defining outlier threshold (e.g., absolute z-score > 4)\n",
        "outliers = long_data_cleaned[long_data_cleaned[\"GrowthRateZ\"].abs() > 4]\n",
        "\n",
        "\n",
        "# Optional: Visualize the outliers\n",
        "import matplotlib.pyplot as plt\n",
        "\n",
        "plt.figure(figsize=(10, 6))\n",
        "plt.scatter(long_data_cleaned[\"Year\"], long_data_cleaned[\"GrowthRate\"], label='Growth Rates', alpha=0.5)\n",
        "plt.scatter(outliers[\"Year\"], outliers[\"GrowthRate\"], color='red', label='Outliers', marker='x')\n",
        "plt.axhline(0, color='gray', linestyle='--')\n",
        "plt.title('Population Growth Rates with Outliers Highlighted')\n",
        "plt.xlabel('Year')\n",
        "plt.ylabel('Growth Rate')\n",
        "plt.legend()\n",
        "plt.show()\n",
        "\n",
        "print(\"I found some outliers but deciced to let them in dateframe and maybe later more sophistacated analysis can be done.\")"
      ],
      "metadata": {
        "colab": {
          "base_uri": "https://localhost:8080/",
          "height": 686
        },
        "id": "qzdLYccN8gzy",
        "outputId": "96cad305-99a6-4373-fe5e-9a5d6a9a7c6f"
      },
      "execution_count": null,
      "outputs": [
        {
          "output_type": "stream",
          "name": "stderr",
          "text": [
            "<ipython-input-39-3b178897ba6a>:9: SettingWithCopyWarning: \n",
            "A value is trying to be set on a copy of a slice from a DataFrame.\n",
            "Try using .loc[row_indexer,col_indexer] = value instead\n",
            "\n",
            "See the caveats in the documentation: https://pandas.pydata.org/pandas-docs/stable/user_guide/indexing.html#returning-a-view-versus-a-copy\n",
            "  long_data_cleaned[\"GrowthRateZ\"] = zscore(long_data_cleaned[\"GrowthRate\"])\n"
          ]
        },
        {
          "output_type": "display_data",
          "data": {
            "text/plain": [
              "<Figure size 1000x600 with 1 Axes>"
            ],
            "image/png": "[encoded data removed]"
          },
          "metadata": {}
        },
        {
          "output_type": "stream",
          "name": "stdout",
          "text": [
            "I found some outliers but deciced to let them in dateframe and maybe later more sophistacated analysis can be done.\n"
          ]
        }
      ]
    },
    {
      "cell_type": "markdown",
      "source": [
        "*3.5 Calculating growth rates*"
      ],
      "metadata": {
        "id": "PkEuSkXz-LVH"
      }
    },
    {
      "cell_type": "code",
      "source": [
        "print(\"Missing regions after melting:\\n\", long_data[long_data['Region'].isna()].drop_duplicates())"
      ],
      "metadata": {
        "colab": {
          "base_uri": "https://localhost:8080/"
        },
        "id": "7SUcVdos_2_F",
        "outputId": "1ebce858-9a9a-49ee-e220-1cefc90e5c58"
      },
      "execution_count": null,
      "outputs": [
        {
          "output_type": "stream",
          "name": "stdout",
          "text": [
            "Missing regions after melting:\n",
            " Empty DataFrame\n",
            "Columns: [Country Code, Indicator Name, Indicator Code, Region, IncomeGroup, Year, Population, GrowthRate]\n",
            "Index: []\n"
          ]
        }
      ]
    },
    {
      "cell_type": "code",
      "source": [
        "# calculate growth rates by both Region and Country Code\n",
        "long_data['GrowthRate'] = long_data.groupby(['Region', 'Country Code'])[\"Population\"].pct_change()\n",
        "\n",
        "# calculate the average growth rates for each country\n",
        "avg_growth = long_data.groupby(['Region', 'Country Code'])['GrowthRate'].mean().sort_values(ascending=False)\n",
        "\n",
        "# convert the result to a DataFrame for easier viewing\n",
        "avg_growth_df = avg_growth.reset_index()\n",
        "\n",
        "# display the top 10 fastest-growing countries with regions\n",
        "print(\"Top 10 Fastest-Growing Countries with Regions:\\n\", avg_growth_df.head(10))\n",
        "\n",
        "print(\"We can see countries in Middle East & Nortg Africa and Latin America are the countries with highest growth rate\\n\")"
      ],
      "metadata": {
        "colab": {
          "base_uri": "https://localhost:8080/"
        },
        "id": "r3phIGZ691xP",
        "outputId": "7c12d4c8-75ae-421d-efbf-2d4728db2198"
      },
      "execution_count": null,
      "outputs": [
        {
          "output_type": "stream",
          "name": "stdout",
          "text": [
            "Top 10 Fastest-Growing Countries with Regions:\n",
            "                        Region Country Code  GrowthRate\n",
            "0  Middle East & North Africa          ARE    0.082206\n",
            "1  Middle East & North Africa          QAT    0.071701\n",
            "2  Middle East & North Africa          KWT    0.047993\n",
            "3   Latin America & Caribbean          SXM    0.046142\n",
            "4  Middle East & North Africa          DJI    0.042429\n",
            "5   Latin America & Caribbean          MAF    0.041368\n",
            "6  Middle East & North Africa          JOR    0.040811\n",
            "7  Middle East & North Africa          BHR    0.040060\n",
            "8  Middle East & North Africa          OMN    0.037926\n",
            "9  Middle East & North Africa          SAU    0.036435\n",
            "We can see countries in Middle East & Nortg Africa and Latin America are the countries with highest growth rate\n",
            "\n"
          ]
        }
      ]
    },
    {
      "cell_type": "markdown",
      "source": [
        "*3.6 Correlation Analysis*"
      ],
      "metadata": {
        "id": "CP-Vo-1YBgxy"
      }
    },
    {
      "cell_type": "code",
      "source": [
        "# select only the columns with population data (e.g., from 1960 to 2020)\n",
        "population_data = long_data.pivot_table(index='Country Code', columns='Year', values='Population')\n",
        "\n",
        "# calculate the correlation matrix\n",
        "correlation_matrix = population_data.corr()\n",
        "\n",
        "# plotting the heatmap\n",
        "plt.figure(figsize=(10, 5))\n",
        "sns.heatmap(correlation_matrix, cmap='coolwarm', annot=False, linewidths=0.5)\n",
        "plt.title('Correlation Matrix of Population Changes Over Time')\n",
        "plt.xlabel('Year')\n",
        "plt.ylabel('Year')\n",
        "plt.show()\n",
        "print (\"The population between consecutive years like 2019 and 2020 will have near-perfect correlation (1.0).\\nHigh correlation over multiple decades indicates a stable long-term trend in population growth.\\n\")\n",
        "print (\"The dataset shows strong autocorrelation across years, indicating a stable and predictable trend in population growth over time. \\nThis suggests that models like Prophet and ARIMA will likely perform well in forecasting future population changes due to the consistent temporal patterns.\")"
      ],
      "metadata": {
        "colab": {
          "base_uri": "https://localhost:8080/",
          "height": 596
        },
        "id": "4uxKV9SgBlRw",
        "outputId": "e571645d-861e-47de-9fea-ae23505956d0"
      },
      "execution_count": null,
      "outputs": [
        {
          "output_type": "display_data",
          "data": {
            "text/plain": [
              "<Figure size 1000x500 with 2 Axes>"
            ],
            "image/png": "[encoded data removed]"
          },
          "metadata": {}
        },
        {
          "output_type": "stream",
          "name": "stdout",
          "text": [
            "The population between consecutive years like 2019 and 2020 will have near-perfect correlation (1.0).\n",
            "High correlation over multiple decades indicates a stable long-term trend in population growth.\n",
            "\n",
            "The dataset shows strong autocorrelation across years, indicating a stable and predictable trend in population growth over time. \n",
            "This suggests that models like Prophet and ARIMA will likely perform well in forecasting future population changes due to the consistent temporal patterns.\n"
          ]
        }
      ]
    },
    {
      "cell_type": "markdown",
      "source": [
        "# **Step 4. Time Series Forecasting using Prophet**\n"
      ],
      "metadata": {
        "id": "BR2Bsx4CF2JX"
      }
    },
    {
      "cell_type": "code",
      "source": [
        "from prophet import Prophet"
      ],
      "metadata": {
        "collapsed": true,
        "id": "GkuDl5DXHS1b"
      },
      "execution_count": null,
      "outputs": []
    },
    {
      "cell_type": "code",
      "source": [
        "# preparing data for prophet\n",
        "prophet_data = long_data.groupby(\"Year\")[\"Population\"].sum().reset_index()\n",
        "prophet_data.columns = ['ds', 'y']  # Prophet requires 'ds' and 'y'\n",
        "prophet_data['ds'] = pd.to_datetime(prophet_data['ds'], format='%Y')\n",
        "prophet_data.head()"
      ],
      "metadata": {
        "colab": {
          "base_uri": "https://localhost:8080/",
          "height": 206
        },
        "id": "f_j6lSoRHE2n",
        "outputId": "0d024a92-6216-4123-f904-87ff6739f659"
      },
      "execution_count": null,
      "outputs": [
        {
          "output_type": "execute_result",
          "data": {
            "text/plain": [
              "          ds             y\n",
              "0 1960-01-01  3.015291e+09\n",
              "1 1961-01-01  3.054063e+09\n",
              "2 1962-01-01  3.106344e+09\n",
              "3 1963-01-01  3.170739e+09\n",
              "4 1964-01-01  3.235513e+09"
            ],
            "text/html": [
              "\n",
              "  <div id=\"df-2e09101d-3d29-404d-9662-df8d725bc41a\" class=\"colab-df-container\">\n",
              "    <div>\n",
              "<style scoped>\n",
              "    .dataframe tbody tr th:only-of-type {\n",
              "        vertical-align: middle;\n",
              "    }\n",
              "\n",
              "    .dataframe tbody tr th {\n",
              "        vertical-align: top;\n",
              "    }\n",
              "\n",
              "    .dataframe thead th {\n",
              "        text-align: right;\n",
              "    }\n",
              "</style>\n",
              "<table border=\"1\" class=\"dataframe\">\n",
              "  <thead>\n",
              "    <tr style=\"text-align: right;\">\n",
              "      <th></th>\n",
              "      <th>ds</th>\n",
              "      <th>y</th>\n",
              "    </tr>\n",
              "  </thead>\n",
              "  <tbody>\n",
              "    <tr>\n",
              "      <th>0</th>\n",
              "      <td>1960-01-01</td>\n",
              "      <td>3.015291e+09</td>\n",
              "    </tr>\n",
              "    <tr>\n",
              "      <th>1</th>\n",
              "      <td>1961-01-01</td>\n",
              "      <td>3.054063e+09</td>\n",
              "    </tr>\n",
              "    <tr>\n",
              "      <th>2</th>\n",
              "      <td>1962-01-01</td>\n",
              "      <td>3.106344e+09</td>\n",
              "    </tr>\n",
              "    <tr>\n",
              "      <th>3</th>\n",
              "      <td>1963-01-01</td>\n",
              "      <td>3.170739e+09</td>\n",
              "    </tr>\n",
              "    <tr>\n",
              "      <th>4</th>\n",
              "      <td>1964-01-01</td>\n",
              "      <td>3.235513e+09</td>\n",
              "    </tr>\n",
              "  </tbody>\n",
              "</table>\n",
              "</div>\n",
              "    <div class=\"colab-df-buttons\">\n",
              "\n",
              "  <div class=\"colab-df-container\">\n",
              "    <button class=\"colab-df-convert\" onclick=\"convertToInteractive('df-2e09101d-3d29-404d-9662-df8d725bc41a')\"\n",
              "            title=\"Convert this dataframe to an interactive table.\"\n",
              "            style=\"display:none;\">\n",
              "\n",
              "  <svg xmlns=\"http://www.w3.org/2000/svg\" height=\"24px\" viewBox=\"0 -960 960 960\">\n",
              "    <path d=\"M120-120v-720h720v720H120Zm60-500h600v-160H180v160Zm220 220h160v-160H400v160Zm0 220h160v-160H400v160ZM180-400h160v-160H180v160Zm440 0h160v-160H620v160ZM180-180h160v-160H180v160Zm440 0h160v-160H620v160Z\"/>\n",
              "  </svg>\n",
              "    </button>\n",
              "\n",
              "  <style>\n",
              "    .colab-df-container {\n",
              "      display:flex;\n",
              "      gap: 12px;\n",
              "    }\n",
              "\n",
              "    .colab-df-convert {\n",
              "      background-color: #E8F0FE;\n",
              "      border: none;\n",
              "      border-radius: 50%;\n",
              "      cursor: pointer;\n",
              "      display: none;\n",
              "      fill: #1967D2;\n",
              "      height: 32px;\n",
              "      padding: 0 0 0 0;\n",
              "      width: 32px;\n",
              "    }\n",
              "\n",
              "    .colab-df-convert:hover {\n",
              "      background-color: #E2EBFA;\n",
              "      box-shadow: 0px 1px 2px rgba(60, 64, 67, 0.3), 0px 1px 3px 1px rgba(60, 64, 67, 0.15);\n",
              "      fill: #174EA6;\n",
              "    }\n",
              "\n",
              "    .colab-df-buttons div {\n",
              "      margin-bottom: 4px;\n",
              "    }\n",
              "\n",
              "    [theme=dark] .colab-df-convert {\n",
              "      background-color: #3B4455;\n",
              "      fill: #D2E3FC;\n",
              "    }\n",
              "\n",
              "    [theme=dark] .colab-df-convert:hover {\n",
              "      background-color: #434B5C;\n",
              "      box-shadow: 0px 1px 3px 1px rgba(0, 0, 0, 0.15);\n",
              "      filter: drop-shadow(0px 1px 2px rgba(0, 0, 0, 0.3));\n",
              "      fill: #FFFFFF;\n",
              "    }\n",
              "  </style>\n",
              "\n",
              "    <script>\n",
              "      const buttonEl =\n",
              "        document.querySelector('#df-2e09101d-3d29-404d-9662-df8d725bc41a button.colab-df-convert');\n",
              "      buttonEl.style.display =\n",
              "        google.colab.kernel.accessAllowed ? 'block' : 'none';\n",
              "\n",
              "      async function convertToInteractive(key) {\n",
              "        const element = document.querySelector('#df-2e09101d-3d29-404d-9662-df8d725bc41a');\n",
              "        const dataTable =\n",
              "          await google.colab.kernel.invokeFunction('convertToInteractive',\n",
              "                                                    [key], {});\n",
              "        if (!dataTable) return;\n",
              "\n",
              "        const docLinkHtml = 'Like what you see? Visit the ' +\n",
              "          '<a target=\"_blank\" href=https://colab.research.google.com/notebooks/data_table.ipynb>data table notebook</a>'\n",
              "          + ' to learn more about interactive tables.';\n",
              "        element.innerHTML = '';\n",
              "        dataTable['output_type'] = 'display_data';\n",
              "        await google.colab.output.renderOutput(dataTable, element);\n",
              "        const docLink = document.createElement('div');\n",
              "        docLink.innerHTML = docLinkHtml;\n",
              "        element.appendChild(docLink);\n",
              "      }\n",
              "    </script>\n",
              "  </div>\n",
              "\n",
              "\n",
              "<div id=\"df-e8048e9e-a4a5-4201-8492-430f0e106fcb\">\n",
              "  <button class=\"colab-df-quickchart\" onclick=\"quickchart('df-e8048e9e-a4a5-4201-8492-430f0e106fcb')\"\n",
              "            title=\"Suggest charts\"\n",
              "            style=\"display:none;\">\n",
              "\n",
              "<svg xmlns=\"http://www.w3.org/2000/svg\" height=\"24px\"viewBox=\"0 0 24 24\"\n",
              "     width=\"24px\">\n",
              "    <g>\n",
              "        <path d=\"M19 3H5c-1.1 0-2 .9-2 2v14c0 1.1.9 2 2 2h14c1.1 0 2-.9 2-2V5c0-1.1-.9-2-2-2zM9 17H7v-7h2v7zm4 0h-2V7h2v10zm4 0h-2v-4h2v4z\"/>\n",
              "    </g>\n",
              "</svg>\n",
              "  </button>\n",
              "\n",
              "<style>\n",
              "  .colab-df-quickchart {\n",
              "      --bg-color: #E8F0FE;\n",
              "      --fill-color: #1967D2;\n",
              "      --hover-bg-color: #E2EBFA;\n",
              "      --hover-fill-color: #174EA6;\n",
              "      --disabled-fill-color: #AAA;\n",
              "      --disabled-bg-color: #DDD;\n",
              "  }\n",
              "\n",
              "  [theme=dark] .colab-df-quickchart {\n",
              "      --bg-color: #3B4455;\n",
              "      --fill-color: #D2E3FC;\n",
              "      --hover-bg-color: #434B5C;\n",
              "      --hover-fill-color: #FFFFFF;\n",
              "      --disabled-bg-color: #3B4455;\n",
              "      --disabled-fill-color: #666;\n",
              "  }\n",
              "\n",
              "  .colab-df-quickchart {\n",
              "    background-color: var(--bg-color);\n",
              "    border: none;\n",
              "    border-radius: 50%;\n",
              "    cursor: pointer;\n",
              "    display: none;\n",
              "    fill: var(--fill-color);\n",
              "    height: 32px;\n",
              "    padding: 0;\n",
              "    width: 32px;\n",
              "  }\n",
              "\n",
              "  .colab-df-quickchart:hover {\n",
              "    background-color: var(--hover-bg-color);\n",
              "    box-shadow: 0 1px 2px rgba(60, 64, 67, 0.3), 0 1px 3px 1px rgba(60, 64, 67, 0.15);\n",
              "    fill: var(--button-hover-fill-color);\n",
              "  }\n",
              "\n",
              "  .colab-df-quickchart-complete:disabled,\n",
              "  .colab-df-quickchart-complete:disabled:hover {\n",
              "    background-color: var(--disabled-bg-color);\n",
              "    fill: var(--disabled-fill-color);\n",
              "    box-shadow: none;\n",
              "  }\n",
              "\n",
              "  .colab-df-spinner {\n",
              "    border: 2px solid var(--fill-color);\n",
              "    border-color: transparent;\n",
              "    border-bottom-color: var(--fill-color);\n",
              "    animation:\n",
              "      spin 1s steps(1) infinite;\n",
              "  }\n",
              "\n",
              "  @keyframes spin {\n",
              "    0% {\n",
              "      border-color: transparent;\n",
              "      border-bottom-color: var(--fill-color);\n",
              "      border-left-color: var(--fill-color);\n",
              "    }\n",
              "    20% {\n",
              "      border-color: transparent;\n",
              "      border-left-color: var(--fill-color);\n",
              "      border-top-color: var(--fill-color);\n",
              "    }\n",
              "    30% {\n",
              "      border-color: transparent;\n",
              "      border-left-color: var(--fill-color);\n",
              "      border-top-color: var(--fill-color);\n",
              "      border-right-color: var(--fill-color);\n",
              "    }\n",
              "    40% {\n",
              "      border-color: transparent;\n",
              "      border-right-color: var(--fill-color);\n",
              "      border-top-color: var(--fill-color);\n",
              "    }\n",
              "    60% {\n",
              "      border-color: transparent;\n",
              "      border-right-color: var(--fill-color);\n",
              "    }\n",
              "    80% {\n",
              "      border-color: transparent;\n",
              "      border-right-color: var(--fill-color);\n",
              "      border-bottom-color: var(--fill-color);\n",
              "    }\n",
              "    90% {\n",
              "      border-color: transparent;\n",
              "      border-bottom-color: var(--fill-color);\n",
              "    }\n",
              "  }\n",
              "</style>\n",
              "\n",
              "  <script>\n",
              "    async function quickchart(key) {\n",
              "      const quickchartButtonEl =\n",
              "        document.querySelector('#' + key + ' button');\n",
              "      quickchartButtonEl.disabled = true;  // To prevent multiple clicks.\n",
              "      quickchartButtonEl.classList.add('colab-df-spinner');\n",
              "      try {\n",
              "        const charts = await google.colab.kernel.invokeFunction(\n",
              "            'suggestCharts', [key], {});\n",
              "      } catch (error) {\n",
              "        console.error('Error during call to suggestCharts:', error);\n",
              "      }\n",
              "      quickchartButtonEl.classList.remove('colab-df-spinner');\n",
              "      quickchartButtonEl.classList.add('colab-df-quickchart-complete');\n",
              "    }\n",
              "    (() => {\n",
              "      let quickchartButtonEl =\n",
              "        document.querySelector('#df-e8048e9e-a4a5-4201-8492-430f0e106fcb button');\n",
              "      quickchartButtonEl.style.display =\n",
              "        google.colab.kernel.accessAllowed ? 'block' : 'none';\n",
              "    })();\n",
              "  </script>\n",
              "</div>\n",
              "\n",
              "    </div>\n",
              "  </div>\n"
            ],
            "application/vnd.google.colaboratory.intrinsic+json": {
              "type": "dataframe",
              "variable_name": "prophet_data",
              "summary": "{\n  \"name\": \"prophet_data\",\n  \"rows\": 61,\n  \"fields\": [\n    {\n      \"column\": \"ds\",\n      \"properties\": {\n        \"dtype\": \"date\",\n        \"min\": \"1960-01-01 00:00:00\",\n        \"max\": \"2020-01-01 00:00:00\",\n        \"num_unique_values\": 61,\n        \"samples\": [\n          \"1960-01-01 00:00:00\",\n          \"1965-01-01 00:00:00\",\n          \"2006-01-01 00:00:00\"\n        ],\n        \"semantic_type\": \"\",\n        \"description\": \"\"\n      }\n    },\n    {\n      \"column\": \"y\",\n      \"properties\": {\n        \"dtype\": \"number\",\n        \"std\": 1419432227.9575207,\n        \"min\": 3015290766.0,\n        \"max\": 7700318427.0,\n        \"num_unique_values\": 61,\n        \"samples\": [\n          3015290766.0,\n          3301683036.0,\n          6543069733.0\n        ],\n        \"semantic_type\": \"\",\n        \"description\": \"\"\n      }\n    }\n  ]\n}"
            }
          },
          "metadata": {},
          "execution_count": 44
        }
      ]
    },
    {
      "cell_type": "code",
      "source": [
        "# preparing model and fit the data\n",
        "model = Prophet()\n",
        "model.fit(prophet_data)"
      ],
      "metadata": {
        "colab": {
          "base_uri": "https://localhost:8080/"
        },
        "id": "FTT9CtaRIXjN",
        "outputId": "c640aa8a-4495-4c6a-b575-d750de6256e0"
      },
      "execution_count": null,
      "outputs": [
        {
          "output_type": "stream",
          "name": "stderr",
          "text": [
            "INFO:prophet:Disabling weekly seasonality. Run prophet with weekly_seasonality=True to override this.\n",
            "INFO:prophet:Disabling daily seasonality. Run prophet with daily_seasonality=True to override this.\n",
            "DEBUG:cmdstanpy:input tempfile: /tmp/tmpwo6t1oo5/t9vwf18z.json\n",
            "DEBUG:cmdstanpy:input tempfile: /tmp/tmpwo6t1oo5/vyq8xdd7.json\n",
            "DEBUG:cmdstanpy:idx 0\n",
            "DEBUG:cmdstanpy:running CmdStan, num_threads: None\n",
            "DEBUG:cmdstanpy:CmdStan args: ['/usr/local/lib/python3.11/dist-packages/prophet/stan_model/prophet_model.bin', 'random', 'seed=44374', 'data', 'file=/tmp/tmpwo6t1oo5/t9vwf18z.json', 'init=/tmp/tmpwo6t1oo5/vyq8xdd7.json', 'output', 'file=/tmp/tmpwo6t1oo5/prophet_modelqyk697iq/prophet_model-20250209150612.csv', 'method=optimize', 'algorithm=newton', 'iter=10000']\n",
            "15:06:12 - cmdstanpy - INFO - Chain [1] start processing\n",
            "INFO:cmdstanpy:Chain [1] start processing\n",
            "15:06:12 - cmdstanpy - INFO - Chain [1] done processing\n",
            "INFO:cmdstanpy:Chain [1] done processing\n"
          ]
        },
        {
          "output_type": "execute_result",
          "data": {
            "text/plain": [
              "<prophet.forecaster.Prophet at 0x795a86bfd910>"
            ]
          },
          "metadata": {},
          "execution_count": 45
        }
      ]
    },
    {
      "cell_type": "code",
      "source": [
        "\n",
        "future = model.make_future_dataframe(periods=5, freq='YE')\n"
      ],
      "metadata": {
        "id": "0bEnzHm7InS5"
      },
      "execution_count": null,
      "outputs": []
    },
    {
      "cell_type": "code",
      "source": [
        "forecast = model.predict(future)"
      ],
      "metadata": {
        "id": "qBibJoV6I2Tg"
      },
      "execution_count": null,
      "outputs": []
    },
    {
      "cell_type": "code",
      "source": [
        "model.plot(forecast);"
      ],
      "metadata": {
        "colab": {
          "base_uri": "https://localhost:8080/",
          "height": 607
        },
        "id": "yM8Qs351I413",
        "outputId": "2afa2b9c-e072-4579-80e6-0df482154610"
      },
      "execution_count": null,
      "outputs": [
        {
          "output_type": "display_data",
          "data": {
            "text/plain": [
              "<Figure size 1000x600 with 1 Axes>"
            ],
            "image/png": "[encoded data removed]"
          },
          "metadata": {}
        }
      ]
    },
    {
      "cell_type": "code",
      "source": [
        "# changing the date of predicted years from end of the year to start of the year for better interpreatations\n",
        "forecast['ds'] = forecast['ds'].apply(lambda x: pd.Timestamp(year=x.year, month=1, day=1))"
      ],
      "metadata": {
        "id": "awzeeVlAP5je"
      },
      "execution_count": null,
      "outputs": []
    },
    {
      "cell_type": "code",
      "source": [
        "forecast[['ds', 'yhat', 'yhat_lower', 'yhat_upper']].tail(10)"
      ],
      "metadata": {
        "colab": {
          "base_uri": "https://localhost:8080/",
          "height": 363
        },
        "id": "6cFd-66GJAEK",
        "outputId": "bcd6334e-95d3-458e-ab03-4fac414cb1d7"
      },
      "execution_count": null,
      "outputs": [
        {
          "output_type": "execute_result",
          "data": {
            "text/plain": [
              "           ds          yhat    yhat_lower    yhat_upper\n",
              "56 2016-01-01  7.369386e+09  7.367434e+09  7.371189e+09\n",
              "57 2017-01-01  7.452217e+09  7.450466e+09  7.454115e+09\n",
              "58 2018-01-01  7.535976e+09  7.534118e+09  7.537912e+09\n",
              "59 2019-01-01  7.619162e+09  7.617338e+09  7.621225e+09\n",
              "60 2020-01-01  7.702010e+09  7.700035e+09  7.703842e+09\n",
              "61 2020-01-01  7.784756e+09  7.782538e+09  7.786924e+09\n",
              "62 2021-01-01  7.867634e+09  7.863717e+09  7.872002e+09\n",
              "63 2022-01-01  7.950878e+09  7.943003e+09  7.958793e+09\n",
              "64 2023-01-01  8.034718e+09  8.022189e+09  8.047927e+09\n",
              "65 2024-01-01  8.117379e+09  8.100463e+09  8.135115e+09"
            ],
            "text/html": [
              "\n",
              "  <div id=\"df-afb4ff51-2c1d-4a0f-b09b-2cf22d0bc3b9\" class=\"colab-df-container\">\n",
              "    <div>\n",
              "<style scoped>\n",
              "    .dataframe tbody tr th:only-of-type {\n",
              "        vertical-align: middle;\n",
              "    }\n",
              "\n",
              "    .dataframe tbody tr th {\n",
              "        vertical-align: top;\n",
              "    }\n",
              "\n",
              "    .dataframe thead th {\n",
              "        text-align: right;\n",
              "    }\n",
              "</style>\n",
              "<table border=\"1\" class=\"dataframe\">\n",
              "  <thead>\n",
              "    <tr style=\"text-align: right;\">\n",
              "      <th></th>\n",
              "      <th>ds</th>\n",
              "      <th>yhat</th>\n",
              "      <th>yhat_lower</th>\n",
              "      <th>yhat_upper</th>\n",
              "    </tr>\n",
              "  </thead>\n",
              "  <tbody>\n",
              "    <tr>\n",
              "      <th>56</th>\n",
              "      <td>2016-01-01</td>\n",
              "      <td>7.369386e+09</td>\n",
              "      <td>7.367434e+09</td>\n",
              "      <td>7.371189e+09</td>\n",
              "    </tr>\n",
              "    <tr>\n",
              "      <th>57</th>\n",
              "      <td>2017-01-01</td>\n",
              "      <td>7.452217e+09</td>\n",
              "      <td>7.450466e+09</td>\n",
              "      <td>7.454115e+09</td>\n",
              "    </tr>\n",
              "    <tr>\n",
              "      <th>58</th>\n",
              "      <td>2018-01-01</td>\n",
              "      <td>7.535976e+09</td>\n",
              "      <td>7.534118e+09</td>\n",
              "      <td>7.537912e+09</td>\n",
              "    </tr>\n",
              "    <tr>\n",
              "      <th>59</th>\n",
              "      <td>2019-01-01</td>\n",
              "      <td>7.619162e+09</td>\n",
              "      <td>7.617338e+09</td>\n",
              "      <td>7.621225e+09</td>\n",
              "    </tr>\n",
              "    <tr>\n",
              "      <th>60</th>\n",
              "      <td>2020-01-01</td>\n",
              "      <td>7.702010e+09</td>\n",
              "      <td>7.700035e+09</td>\n",
              "      <td>7.703842e+09</td>\n",
              "    </tr>\n",
              "    <tr>\n",
              "      <th>61</th>\n",
              "      <td>2020-01-01</td>\n",
              "      <td>7.784756e+09</td>\n",
              "      <td>7.782538e+09</td>\n",
              "      <td>7.786924e+09</td>\n",
              "    </tr>\n",
              "    <tr>\n",
              "      <th>62</th>\n",
              "      <td>2021-01-01</td>\n",
              "      <td>7.867634e+09</td>\n",
              "      <td>7.863717e+09</td>\n",
              "      <td>7.872002e+09</td>\n",
              "    </tr>\n",
              "    <tr>\n",
              "      <th>63</th>\n",
              "      <td>2022-01-01</td>\n",
              "      <td>7.950878e+09</td>\n",
              "      <td>7.943003e+09</td>\n",
              "      <td>7.958793e+09</td>\n",
              "    </tr>\n",
              "    <tr>\n",
              "      <th>64</th>\n",
              "      <td>2023-01-01</td>\n",
              "      <td>8.034718e+09</td>\n",
              "      <td>8.022189e+09</td>\n",
              "      <td>8.047927e+09</td>\n",
              "    </tr>\n",
              "    <tr>\n",
              "      <th>65</th>\n",
              "      <td>2024-01-01</td>\n",
              "      <td>8.117379e+09</td>\n",
              "      <td>8.100463e+09</td>\n",
              "      <td>8.135115e+09</td>\n",
              "    </tr>\n",
              "  </tbody>\n",
              "</table>\n",
              "</div>\n",
              "    <div class=\"colab-df-buttons\">\n",
              "\n",
              "  <div class=\"colab-df-container\">\n",
              "    <button class=\"colab-df-convert\" onclick=\"convertToInteractive('df-afb4ff51-2c1d-4a0f-b09b-2cf22d0bc3b9')\"\n",
              "            title=\"Convert this dataframe to an interactive table.\"\n",
              "            style=\"display:none;\">\n",
              "\n",
              "  <svg xmlns=\"http://www.w3.org/2000/svg\" height=\"24px\" viewBox=\"0 -960 960 960\">\n",
              "    <path d=\"M120-120v-720h720v720H120Zm60-500h600v-160H180v160Zm220 220h160v-160H400v160Zm0 220h160v-160H400v160ZM180-400h160v-160H180v160Zm440 0h160v-160H620v160ZM180-180h160v-160H180v160Zm440 0h160v-160H620v160Z\"/>\n",
              "  </svg>\n",
              "    </button>\n",
              "\n",
              "  <style>\n",
              "    .colab-df-container {\n",
              "      display:flex;\n",
              "      gap: 12px;\n",
              "    }\n",
              "\n",
              "    .colab-df-convert {\n",
              "      background-color: #E8F0FE;\n",
              "      border: none;\n",
              "      border-radius: 50%;\n",
              "      cursor: pointer;\n",
              "      display: none;\n",
              "      fill: #1967D2;\n",
              "      height: 32px;\n",
              "      padding: 0 0 0 0;\n",
              "      width: 32px;\n",
              "    }\n",
              "\n",
              "    .colab-df-convert:hover {\n",
              "      background-color: #E2EBFA;\n",
              "      box-shadow: 0px 1px 2px rgba(60, 64, 67, 0.3), 0px 1px 3px 1px rgba(60, 64, 67, 0.15);\n",
              "      fill: #174EA6;\n",
              "    }\n",
              "\n",
              "    .colab-df-buttons div {\n",
              "      margin-bottom: 4px;\n",
              "    }\n",
              "\n",
              "    [theme=dark] .colab-df-convert {\n",
              "      background-color: #3B4455;\n",
              "      fill: #D2E3FC;\n",
              "    }\n",
              "\n",
              "    [theme=dark] .colab-df-convert:hover {\n",
              "      background-color: #434B5C;\n",
              "      box-shadow: 0px 1px 3px 1px rgba(0, 0, 0, 0.15);\n",
              "      filter: drop-shadow(0px 1px 2px rgba(0, 0, 0, 0.3));\n",
              "      fill: #FFFFFF;\n",
              "    }\n",
              "  </style>\n",
              "\n",
              "    <script>\n",
              "      const buttonEl =\n",
              "        document.querySelector('#df-afb4ff51-2c1d-4a0f-b09b-2cf22d0bc3b9 button.colab-df-convert');\n",
              "      buttonEl.style.display =\n",
              "        google.colab.kernel.accessAllowed ? 'block' : 'none';\n",
              "\n",
              "      async function convertToInteractive(key) {\n",
              "        const element = document.querySelector('#df-afb4ff51-2c1d-4a0f-b09b-2cf22d0bc3b9');\n",
              "        const dataTable =\n",
              "          await google.colab.kernel.invokeFunction('convertToInteractive',\n",
              "                                                    [key], {});\n",
              "        if (!dataTable) return;\n",
              "\n",
              "        const docLinkHtml = 'Like what you see? Visit the ' +\n",
              "          '<a target=\"_blank\" href=https://colab.research.google.com/notebooks/data_table.ipynb>data table notebook</a>'\n",
              "          + ' to learn more about interactive tables.';\n",
              "        element.innerHTML = '';\n",
              "        dataTable['output_type'] = 'display_data';\n",
              "        await google.colab.output.renderOutput(dataTable, element);\n",
              "        const docLink = document.createElement('div');\n",
              "        docLink.innerHTML = docLinkHtml;\n",
              "        element.appendChild(docLink);\n",
              "      }\n",
              "    </script>\n",
              "  </div>\n",
              "\n",
              "\n",
              "<div id=\"df-060592c8-cfe5-4910-8eeb-bc56cdae855f\">\n",
              "  <button class=\"colab-df-quickchart\" onclick=\"quickchart('df-060592c8-cfe5-4910-8eeb-bc56cdae855f')\"\n",
              "            title=\"Suggest charts\"\n",
              "            style=\"display:none;\">\n",
              "\n",
              "<svg xmlns=\"http://www.w3.org/2000/svg\" height=\"24px\"viewBox=\"0 0 24 24\"\n",
              "     width=\"24px\">\n",
              "    <g>\n",
              "        <path d=\"M19 3H5c-1.1 0-2 .9-2 2v14c0 1.1.9 2 2 2h14c1.1 0 2-.9 2-2V5c0-1.1-.9-2-2-2zM9 17H7v-7h2v7zm4 0h-2V7h2v10zm4 0h-2v-4h2v4z\"/>\n",
              "    </g>\n",
              "</svg>\n",
              "  </button>\n",
              "\n",
              "<style>\n",
              "  .colab-df-quickchart {\n",
              "      --bg-color: #E8F0FE;\n",
              "      --fill-color: #1967D2;\n",
              "      --hover-bg-color: #E2EBFA;\n",
              "      --hover-fill-color: #174EA6;\n",
              "      --disabled-fill-color: #AAA;\n",
              "      --disabled-bg-color: #DDD;\n",
              "  }\n",
              "\n",
              "  [theme=dark] .colab-df-quickchart {\n",
              "      --bg-color: #3B4455;\n",
              "      --fill-color: #D2E3FC;\n",
              "      --hover-bg-color: #434B5C;\n",
              "      --hover-fill-color: #FFFFFF;\n",
              "      --disabled-bg-color: #3B4455;\n",
              "      --disabled-fill-color: #666;\n",
              "  }\n",
              "\n",
              "  .colab-df-quickchart {\n",
              "    background-color: var(--bg-color);\n",
              "    border: none;\n",
              "    border-radius: 50%;\n",
              "    cursor: pointer;\n",
              "    display: none;\n",
              "    fill: var(--fill-color);\n",
              "    height: 32px;\n",
              "    padding: 0;\n",
              "    width: 32px;\n",
              "  }\n",
              "\n",
              "  .colab-df-quickchart:hover {\n",
              "    background-color: var(--hover-bg-color);\n",
              "    box-shadow: 0 1px 2px rgba(60, 64, 67, 0.3), 0 1px 3px 1px rgba(60, 64, 67, 0.15);\n",
              "    fill: var(--button-hover-fill-color);\n",
              "  }\n",
              "\n",
              "  .colab-df-quickchart-complete:disabled,\n",
              "  .colab-df-quickchart-complete:disabled:hover {\n",
              "    background-color: var(--disabled-bg-color);\n",
              "    fill: var(--disabled-fill-color);\n",
              "    box-shadow: none;\n",
              "  }\n",
              "\n",
              "  .colab-df-spinner {\n",
              "    border: 2px solid var(--fill-color);\n",
              "    border-color: transparent;\n",
              "    border-bottom-color: var(--fill-color);\n",
              "    animation:\n",
              "      spin 1s steps(1) infinite;\n",
              "  }\n",
              "\n",
              "  @keyframes spin {\n",
              "    0% {\n",
              "      border-color: transparent;\n",
              "      border-bottom-color: var(--fill-color);\n",
              "      border-left-color: var(--fill-color);\n",
              "    }\n",
              "    20% {\n",
              "      border-color: transparent;\n",
              "      border-left-color: var(--fill-color);\n",
              "      border-top-color: var(--fill-color);\n",
              "    }\n",
              "    30% {\n",
              "      border-color: transparent;\n",
              "      border-left-color: var(--fill-color);\n",
              "      border-top-color: var(--fill-color);\n",
              "      border-right-color: var(--fill-color);\n",
              "    }\n",
              "    40% {\n",
              "      border-color: transparent;\n",
              "      border-right-color: var(--fill-color);\n",
              "      border-top-color: var(--fill-color);\n",
              "    }\n",
              "    60% {\n",
              "      border-color: transparent;\n",
              "      border-right-color: var(--fill-color);\n",
              "    }\n",
              "    80% {\n",
              "      border-color: transparent;\n",
              "      border-right-color: var(--fill-color);\n",
              "      border-bottom-color: var(--fill-color);\n",
              "    }\n",
              "    90% {\n",
              "      border-color: transparent;\n",
              "      border-bottom-color: var(--fill-color);\n",
              "    }\n",
              "  }\n",
              "</style>\n",
              "\n",
              "  <script>\n",
              "    async function quickchart(key) {\n",
              "      const quickchartButtonEl =\n",
              "        document.querySelector('#' + key + ' button');\n",
              "      quickchartButtonEl.disabled = true;  // To prevent multiple clicks.\n",
              "      quickchartButtonEl.classList.add('colab-df-spinner');\n",
              "      try {\n",
              "        const charts = await google.colab.kernel.invokeFunction(\n",
              "            'suggestCharts', [key], {});\n",
              "      } catch (error) {\n",
              "        console.error('Error during call to suggestCharts:', error);\n",
              "      }\n",
              "      quickchartButtonEl.classList.remove('colab-df-spinner');\n",
              "      quickchartButtonEl.classList.add('colab-df-quickchart-complete');\n",
              "    }\n",
              "    (() => {\n",
              "      let quickchartButtonEl =\n",
              "        document.querySelector('#df-060592c8-cfe5-4910-8eeb-bc56cdae855f button');\n",
              "      quickchartButtonEl.style.display =\n",
              "        google.colab.kernel.accessAllowed ? 'block' : 'none';\n",
              "    })();\n",
              "  </script>\n",
              "</div>\n",
              "\n",
              "    </div>\n",
              "  </div>\n"
            ],
            "application/vnd.google.colaboratory.intrinsic+json": {
              "type": "dataframe",
              "summary": "{\n  \"name\": \"forecast[['ds', 'yhat', 'yhat_lower', 'yhat_upper']]\",\n  \"rows\": 10,\n  \"fields\": [\n    {\n      \"column\": \"ds\",\n      \"properties\": {\n        \"dtype\": \"date\",\n        \"min\": \"2016-01-01 00:00:00\",\n        \"max\": \"2024-01-01 00:00:00\",\n        \"num_unique_values\": 9,\n        \"samples\": [\n          \"2023-01-01 00:00:00\",\n          \"2017-01-01 00:00:00\",\n          \"2021-01-01 00:00:00\"\n        ],\n        \"semantic_type\": \"\",\n        \"description\": \"\"\n      }\n    },\n    {\n      \"column\": \"yhat\",\n      \"properties\": {\n        \"dtype\": \"number\",\n        \"std\": 251609300.07206213,\n        \"min\": 7369385885.198424,\n        \"max\": 8117379356.430271,\n        \"num_unique_values\": 10,\n        \"samples\": [\n          8034718117.66325,\n          7452216973.166079,\n          7784755536.37886\n        ],\n        \"semantic_type\": \"\",\n        \"description\": \"\"\n      }\n    },\n    {\n      \"column\": \"yhat_lower\",\n      \"properties\": {\n        \"dtype\": \"number\",\n        \"std\": 247099150.05442747,\n        \"min\": 7367433840.877385,\n        \"max\": 8100463217.526283,\n        \"num_unique_values\": 10,\n        \"samples\": [\n          8022189489.850964,\n          7450465516.236223,\n          7782538105.722991\n        ],\n        \"semantic_type\": \"\",\n        \"description\": \"\"\n      }\n    },\n    {\n      \"column\": \"yhat_upper\",\n      \"properties\": {\n        \"dtype\": \"number\",\n        \"std\": 256395110.04896644,\n        \"min\": 7371189267.418038,\n        \"max\": 8135115347.180897,\n        \"num_unique_values\": 10,\n        \"samples\": [\n          8047927490.996901,\n          7454114512.992016,\n          7786924307.994208\n        ],\n        \"semantic_type\": \"\",\n        \"description\": \"\"\n      }\n    }\n  ]\n}"
            }
          },
          "metadata": {},
          "execution_count": 53
        }
      ]
    },
    {
      "cell_type": "markdown",
      "source": [
        "# **Step 5. Results and Conclusion**"
      ],
      "metadata": {
        "id": "OmQtvhbhSj0t"
      }
    },
    {
      "cell_type": "markdown",
      "source": [
        "The table shows predicted global population for the years 2020 to 2024.\n",
        "Column yhat represents the central forecasted population values.\n",
        "Population is projected to reach around 8.12 billion by start of 2024."
      ],
      "metadata": {
        "id": "-T1BwI0DNonW"
      }
    },
    {
      "cell_type": "markdown",
      "source": [
        "The forecasted global population values increase steadily:\n",
        "\n",
        "\n",
        "*   2021: ~7.87 billion.\n",
        "*   2024: ~8.12 billion.\n",
        "\n",
        "The population is predicted to grow by approximately 0.08 billion (80 million) people per year."
      ],
      "metadata": {
        "id": "4Cr_73IjRI23"
      }
    },
    {
      "cell_type": "markdown",
      "source": [
        "Model predicts a stable, linear growth in global population without sudden changes or irregularities.\n",
        "There is minimal uncertainty in the predictions due to the consistency of historical data.\n",
        "These results are ideal for short-term forecasting but may require further checks for long-term accuracy"
      ],
      "metadata": {
        "id": "cduRQOppRbFu"
      }
    },
    {
      "cell_type": "markdown",
      "source": [
        "**Forecasted Value (2025):**\n",
        "\n",
        "yhat: ~8.117 billion (8,117,379,000)\n",
        "\n",
        "**Current Real Data (2025):**\n",
        "\n",
        "Estimates from worldometers.info  that population by end of the year 2024 was   ~8.161 billion (8 161,972,572)"
      ],
      "metadata": {
        "id": "EYWzetBwRyYb"
      }
    },
    {
      "cell_type": "markdown",
      "source": [
        "In conclusion, the forecast aligns reasonably well with real-world data, indicating that Prophet provides a good basis for trend prediction. However, minor adjustments may be needed to account for recent shifts in global growth rates."
      ],
      "metadata": {
        "id": "zjTyzyvNRt2V"
      }
    },
    {
      "cell_type": "markdown",
      "source": [
        "As a junior data scientist, I performed a basic population forecast using Prophet. The model accurately captures the long-term trend, predicting steady growth with low uncertainty. However, further checks are necessary to validate data consistency, explore regional differences, and assess the impact of external factors. This analysis forms a solid foundation for future enhancements"
      ],
      "metadata": {
        "id": "l8nEWsJ5QsNh"
      }
    }
  ]
}